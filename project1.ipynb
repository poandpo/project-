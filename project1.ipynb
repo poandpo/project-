{
  "nbformat": 4,
  "nbformat_minor": 0,
  "metadata": {
    "colab": {
      "name": "project1.ipynb",
      "provenance": [],
      "collapsed_sections": [],
      "authorship_tag": "ABX9TyOiAW5zPRDJH9UCCcnmuvpH",
      "include_colab_link": true
    },
    "kernelspec": {
      "name": "python3",
      "display_name": "Python 3"
    },
    "language_info": {
      "name": "python"
    }
  },
  "cells": [
    {
      "cell_type": "markdown",
      "metadata": {
        "id": "view-in-github",
        "colab_type": "text"
      },
      "source": [
        "<a href=\"https://colab.research.google.com/github/poandpo/project-/blob/main/project1.ipynb\" target=\"_parent\"><img src=\"https://colab.research.google.com/assets/colab-badge.svg\" alt=\"Open In Colab\"/></a>"
      ]
    },
    {
      "cell_type": "markdown",
      "metadata": {
        "id": "lHUXDMxbYhar"
      },
      "source": [
        "#기본 데이터 전처리"
      ]
    },
    {
      "cell_type": "code",
      "metadata": {
        "colab": {
          "resources": {
            "http://localhost:8080/nbextensions/google.colab/files.js": {
              "data": "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",
              "ok": true,
              "headers": [
                [
                  "content-type",
                  "application/javascript"
                ]
              ],
              "status": 200,
              "status_text": ""
            }
          },
          "base_uri": "https://localhost:8080/",
          "height": 76
        },
        "id": "rsF9SVpcbmuE",
        "outputId": "6fdeba70-a88e-46e4-b3ab-bdd1b7344d4e"
      },
      "source": [
        "from google.colab import files\n",
        "uploaded = files.upload()"
      ],
      "execution_count": 3,
      "outputs": [
        {
          "output_type": "display_data",
          "data": {
            "text/html": [
              "\n",
              "     <input type=\"file\" id=\"files-8a7c9381-48db-4c04-829b-c4f76d0b0716\" name=\"files[]\" multiple disabled\n",
              "        style=\"border:none\" />\n",
              "     <output id=\"result-8a7c9381-48db-4c04-829b-c4f76d0b0716\">\n",
              "      Upload widget is only available when the cell has been executed in the\n",
              "      current browser session. Please rerun this cell to enable.\n",
              "      </output>\n",
              "      <script src=\"/nbextensions/google.colab/files.js\"></script> "
            ],
            "text/plain": [
              "<IPython.core.display.HTML object>"
            ]
          },
          "metadata": {
            "tags": []
          }
        },
        {
          "output_type": "stream",
          "text": [
            "Saving vgames2.csv to vgames2.csv\n"
          ],
          "name": "stdout"
        }
      ]
    },
    {
      "cell_type": "code",
      "metadata": {
        "colab": {
          "base_uri": "https://localhost:8080/",
          "height": 419
        },
        "id": "E9JwlZ6BDfhu",
        "outputId": "13ba1120-d38d-48f4-bebe-8dea50e8e32a"
      },
      "source": [
        "import pandas as pd\n",
        "\n",
        "df= pd.read_csv('vgames2.csv', index_col=0) #df로 파일 불러오는데 인덱스를 숫자 있는 열(0행)로 지정\n",
        "df"
      ],
      "execution_count": 1,
      "outputs": [
        {
          "output_type": "execute_result",
          "data": {
            "text/html": [
              "<div>\n",
              "<style scoped>\n",
              "    .dataframe tbody tr th:only-of-type {\n",
              "        vertical-align: middle;\n",
              "    }\n",
              "\n",
              "    .dataframe tbody tr th {\n",
              "        vertical-align: top;\n",
              "    }\n",
              "\n",
              "    .dataframe thead th {\n",
              "        text-align: right;\n",
              "    }\n",
              "</style>\n",
              "<table border=\"1\" class=\"dataframe\">\n",
              "  <thead>\n",
              "    <tr style=\"text-align: right;\">\n",
              "      <th></th>\n",
              "      <th>Name</th>\n",
              "      <th>Platform</th>\n",
              "      <th>Year</th>\n",
              "      <th>Genre</th>\n",
              "      <th>Publisher</th>\n",
              "      <th>NA_Sales</th>\n",
              "      <th>EU_Sales</th>\n",
              "      <th>JP_Sales</th>\n",
              "      <th>Other_Sales</th>\n",
              "    </tr>\n",
              "  </thead>\n",
              "  <tbody>\n",
              "    <tr>\n",
              "      <th>1</th>\n",
              "      <td>Candace Kane's Candy Factory</td>\n",
              "      <td>DS</td>\n",
              "      <td>2008.0</td>\n",
              "      <td>Action</td>\n",
              "      <td>Destineer</td>\n",
              "      <td>0.04</td>\n",
              "      <td>0</td>\n",
              "      <td>0</td>\n",
              "      <td>0</td>\n",
              "    </tr>\n",
              "    <tr>\n",
              "      <th>2</th>\n",
              "      <td>The Munchables</td>\n",
              "      <td>Wii</td>\n",
              "      <td>2009.0</td>\n",
              "      <td>Action</td>\n",
              "      <td>Namco Bandai Games</td>\n",
              "      <td>0.17</td>\n",
              "      <td>0</td>\n",
              "      <td>0</td>\n",
              "      <td>0.01</td>\n",
              "    </tr>\n",
              "    <tr>\n",
              "      <th>3</th>\n",
              "      <td>Otome wa Oanesama Boku ni Koi Shiteru Portable</td>\n",
              "      <td>PSP</td>\n",
              "      <td>2010.0</td>\n",
              "      <td>Adventure</td>\n",
              "      <td>Alchemist</td>\n",
              "      <td>0</td>\n",
              "      <td>0</td>\n",
              "      <td>0.02</td>\n",
              "      <td>0</td>\n",
              "    </tr>\n",
              "    <tr>\n",
              "      <th>4</th>\n",
              "      <td>Deal or No Deal: Special Edition</td>\n",
              "      <td>DS</td>\n",
              "      <td>2010.0</td>\n",
              "      <td>Misc</td>\n",
              "      <td>Zoo Games</td>\n",
              "      <td>0.04</td>\n",
              "      <td>0</td>\n",
              "      <td>0</td>\n",
              "      <td>0</td>\n",
              "    </tr>\n",
              "    <tr>\n",
              "      <th>5</th>\n",
              "      <td>Ben 10 Ultimate Alien: Cosmic Destruction</td>\n",
              "      <td>PS3</td>\n",
              "      <td>2010.0</td>\n",
              "      <td>Platform</td>\n",
              "      <td>D3Publisher</td>\n",
              "      <td>0.12</td>\n",
              "      <td>0.09</td>\n",
              "      <td>0</td>\n",
              "      <td>0.04</td>\n",
              "    </tr>\n",
              "    <tr>\n",
              "      <th>...</th>\n",
              "      <td>...</td>\n",
              "      <td>...</td>\n",
              "      <td>...</td>\n",
              "      <td>...</td>\n",
              "      <td>...</td>\n",
              "      <td>...</td>\n",
              "      <td>...</td>\n",
              "      <td>...</td>\n",
              "      <td>...</td>\n",
              "    </tr>\n",
              "    <tr>\n",
              "      <th>16594</th>\n",
              "      <td>Ice Age 2: The Meltdown</td>\n",
              "      <td>GC</td>\n",
              "      <td>2006.0</td>\n",
              "      <td>Platform</td>\n",
              "      <td>Vivendi Games</td>\n",
              "      <td>0.15</td>\n",
              "      <td>0.04</td>\n",
              "      <td>0</td>\n",
              "      <td>0.01</td>\n",
              "    </tr>\n",
              "    <tr>\n",
              "      <th>16595</th>\n",
              "      <td>Rainbow Islands: Revolution</td>\n",
              "      <td>PSP</td>\n",
              "      <td>2005.0</td>\n",
              "      <td>Action</td>\n",
              "      <td>Rising Star Games</td>\n",
              "      <td>0.01</td>\n",
              "      <td>0</td>\n",
              "      <td>0</td>\n",
              "      <td>0</td>\n",
              "    </tr>\n",
              "    <tr>\n",
              "      <th>16596</th>\n",
              "      <td>NBA 2K16</td>\n",
              "      <td>PS3</td>\n",
              "      <td>2015.0</td>\n",
              "      <td>Sports</td>\n",
              "      <td>Take-Two Interactive</td>\n",
              "      <td>0.44</td>\n",
              "      <td>0.19</td>\n",
              "      <td>0.03</td>\n",
              "      <td>0.13</td>\n",
              "    </tr>\n",
              "    <tr>\n",
              "      <th>16597</th>\n",
              "      <td>Toukiden: The Age of Demons</td>\n",
              "      <td>PSV</td>\n",
              "      <td>2013.0</td>\n",
              "      <td>Action</td>\n",
              "      <td>Tecmo Koei</td>\n",
              "      <td>0.05</td>\n",
              "      <td>0.05</td>\n",
              "      <td>0.25</td>\n",
              "      <td>0.03</td>\n",
              "    </tr>\n",
              "    <tr>\n",
              "      <th>16598</th>\n",
              "      <td>The King of Fighters '95</td>\n",
              "      <td>PS</td>\n",
              "      <td>1996.0</td>\n",
              "      <td>Fighting</td>\n",
              "      <td>Sony Computer Entertainment</td>\n",
              "      <td>0</td>\n",
              "      <td>0</td>\n",
              "      <td>0.16</td>\n",
              "      <td>0.01</td>\n",
              "    </tr>\n",
              "  </tbody>\n",
              "</table>\n",
              "<p>16598 rows × 9 columns</p>\n",
              "</div>"
            ],
            "text/plain": [
              "                                                 Name  ... Other_Sales\n",
              "1                        Candace Kane's Candy Factory  ...           0\n",
              "2                                      The Munchables  ...        0.01\n",
              "3      Otome wa Oanesama Boku ni Koi Shiteru Portable  ...           0\n",
              "4                    Deal or No Deal: Special Edition  ...           0\n",
              "5           Ben 10 Ultimate Alien: Cosmic Destruction  ...        0.04\n",
              "...                                               ...  ...         ...\n",
              "16594                         Ice Age 2: The Meltdown  ...        0.01\n",
              "16595                     Rainbow Islands: Revolution  ...           0\n",
              "16596                                        NBA 2K16  ...        0.13\n",
              "16597                     Toukiden: The Age of Demons  ...        0.03\n",
              "16598                        The King of Fighters '95  ...        0.01\n",
              "\n",
              "[16598 rows x 9 columns]"
            ]
          },
          "metadata": {
            "tags": []
          },
          "execution_count": 1
        }
      ]
    },
    {
      "cell_type": "code",
      "metadata": {
        "id": "9tS5GP062LpO"
      },
      "source": [
        "df.isnull().sum() # 결측치 확인\n",
        "df['Year']=df['Year'].fillna(0).replace('N/A',0).astype(int) # Year 피쳐에 결측지 0으로 대체하고 N/A를 0으로 대체하고 정수형 타입으로 변환\n",
        "df[['Genre','Publisher' ]]=df[['Genre','Publisher' ]].fillna('unknown') #Genre,Publisher 피쳐의 결측치를 unknown으로 대체\n",
        "#df['Platform']=df['Platform'].replace('챕','e') \n",
        "\n"
      ],
      "execution_count": 2,
      "outputs": []
    },
    {
      "cell_type": "code",
      "metadata": {
        "id": "Usg_kltxKk-U"
      },
      "source": [
        "def value_to_float(x):\n",
        "    if 'K' in x:\n",
        "       return float(x.replace('K', '')) * 0.001\n",
        "    elif 'M' in x: \n",
        "       return float(x.replace('M', ''))\n",
        "    else:\n",
        "       return float(x)\n",
        "\n",
        "df['NA_Sales']=df['NA_Sales'].apply(value_to_float)\n",
        "df['EU_Sales']=df['EU_Sales'].apply(value_to_float)\n",
        "df['JP_Sales']=df['JP_Sales'].apply(value_to_float)\n",
        "df['Other_Sales']=df['Other_Sales'].apply(value_to_float)\n",
        "#출고량 피쳐에서 'M'을 빼고 정수형으로 바꾸고, 'K'를 빼고 0,0001를 곱하여 단위를 맞춤"
      ],
      "execution_count": 3,
      "outputs": []
    },
    {
      "cell_type": "code",
      "metadata": {
        "colab": {
          "base_uri": "https://localhost:8080/"
        },
        "id": "ul8JNCafA6lP",
        "outputId": "0fd950c3-f3d2-4b63-f1ef-3483487131b0"
      },
      "source": [
        "df.dtypes #타입 잘 바뀌었는지 확인"
      ],
      "execution_count": 4,
      "outputs": [
        {
          "output_type": "execute_result",
          "data": {
            "text/plain": [
              "Name            object\n",
              "Platform        object\n",
              "Year             int64\n",
              "Genre           object\n",
              "Publisher       object\n",
              "NA_Sales       float64\n",
              "EU_Sales       float64\n",
              "JP_Sales       float64\n",
              "Other_Sales    float64\n",
              "dtype: object"
            ]
          },
          "metadata": {
            "tags": []
          },
          "execution_count": 4
        }
      ]
    },
    {
      "cell_type": "code",
      "metadata": {
        "id": "cCMfKk8tRezW"
      },
      "source": [
        "def value_to_year(x):\n",
        "   if x in range(1,20):\n",
        "      return x + 2000  \n",
        "   elif x in range(80,100):\n",
        "      return x + 1900   \n",
        "   else :   \n",
        "      return x\n",
        "\n",
        "df['Year']=df['Year'].apply(value_to_year) # 97이나 9같은 한 두자리 숫자를 1997,2009으로 바꿈"
      ],
      "execution_count": 5,
      "outputs": []
    },
    {
      "cell_type": "code",
      "metadata": {
        "id": "jbFYUKwiCDUd",
        "colab": {
          "base_uri": "https://localhost:8080/"
        },
        "outputId": "e0e2a7f8-1c57-4d21-a08a-0b211ab63892"
      },
      "source": [
        "df['Year'].iloc[81] # 잘 바뀌었는지 확인"
      ],
      "execution_count": 6,
      "outputs": [
        {
          "output_type": "execute_result",
          "data": {
            "text/plain": [
              "1997"
            ]
          },
          "metadata": {
            "tags": []
          },
          "execution_count": 6
        }
      ]
    },
    {
      "cell_type": "code",
      "metadata": {
        "colab": {
          "base_uri": "https://localhost:8080/",
          "height": 453
        },
        "id": "LO1ZTOWBcZMr",
        "outputId": "3dd5b420-e51f-4453-c371-7ce8778eb14d"
      },
      "source": [
        "df['Total_sales']= df['NA_Sales']+df['EU_Sales']+df['JP_Sales']+df['Other_Sales']\n",
        "df \n",
        "# 모든 지역 출고량의 합 피쳐를 만든"
      ],
      "execution_count": 7,
      "outputs": [
        {
          "output_type": "execute_result",
          "data": {
            "text/html": [
              "<div>\n",
              "<style scoped>\n",
              "    .dataframe tbody tr th:only-of-type {\n",
              "        vertical-align: middle;\n",
              "    }\n",
              "\n",
              "    .dataframe tbody tr th {\n",
              "        vertical-align: top;\n",
              "    }\n",
              "\n",
              "    .dataframe thead th {\n",
              "        text-align: right;\n",
              "    }\n",
              "</style>\n",
              "<table border=\"1\" class=\"dataframe\">\n",
              "  <thead>\n",
              "    <tr style=\"text-align: right;\">\n",
              "      <th></th>\n",
              "      <th>Name</th>\n",
              "      <th>Platform</th>\n",
              "      <th>Year</th>\n",
              "      <th>Genre</th>\n",
              "      <th>Publisher</th>\n",
              "      <th>NA_Sales</th>\n",
              "      <th>EU_Sales</th>\n",
              "      <th>JP_Sales</th>\n",
              "      <th>Other_Sales</th>\n",
              "      <th>Total_sales</th>\n",
              "    </tr>\n",
              "  </thead>\n",
              "  <tbody>\n",
              "    <tr>\n",
              "      <th>1</th>\n",
              "      <td>Candace Kane's Candy Factory</td>\n",
              "      <td>DS</td>\n",
              "      <td>2008</td>\n",
              "      <td>Action</td>\n",
              "      <td>Destineer</td>\n",
              "      <td>0.04</td>\n",
              "      <td>0.00</td>\n",
              "      <td>0.00</td>\n",
              "      <td>0.00</td>\n",
              "      <td>0.04</td>\n",
              "    </tr>\n",
              "    <tr>\n",
              "      <th>2</th>\n",
              "      <td>The Munchables</td>\n",
              "      <td>Wii</td>\n",
              "      <td>2009</td>\n",
              "      <td>Action</td>\n",
              "      <td>Namco Bandai Games</td>\n",
              "      <td>0.17</td>\n",
              "      <td>0.00</td>\n",
              "      <td>0.00</td>\n",
              "      <td>0.01</td>\n",
              "      <td>0.18</td>\n",
              "    </tr>\n",
              "    <tr>\n",
              "      <th>3</th>\n",
              "      <td>Otome wa Oanesama Boku ni Koi Shiteru Portable</td>\n",
              "      <td>PSP</td>\n",
              "      <td>2010</td>\n",
              "      <td>Adventure</td>\n",
              "      <td>Alchemist</td>\n",
              "      <td>0.00</td>\n",
              "      <td>0.00</td>\n",
              "      <td>0.02</td>\n",
              "      <td>0.00</td>\n",
              "      <td>0.02</td>\n",
              "    </tr>\n",
              "    <tr>\n",
              "      <th>4</th>\n",
              "      <td>Deal or No Deal: Special Edition</td>\n",
              "      <td>DS</td>\n",
              "      <td>2010</td>\n",
              "      <td>Misc</td>\n",
              "      <td>Zoo Games</td>\n",
              "      <td>0.04</td>\n",
              "      <td>0.00</td>\n",
              "      <td>0.00</td>\n",
              "      <td>0.00</td>\n",
              "      <td>0.04</td>\n",
              "    </tr>\n",
              "    <tr>\n",
              "      <th>5</th>\n",
              "      <td>Ben 10 Ultimate Alien: Cosmic Destruction</td>\n",
              "      <td>PS3</td>\n",
              "      <td>2010</td>\n",
              "      <td>Platform</td>\n",
              "      <td>D3Publisher</td>\n",
              "      <td>0.12</td>\n",
              "      <td>0.09</td>\n",
              "      <td>0.00</td>\n",
              "      <td>0.04</td>\n",
              "      <td>0.25</td>\n",
              "    </tr>\n",
              "    <tr>\n",
              "      <th>...</th>\n",
              "      <td>...</td>\n",
              "      <td>...</td>\n",
              "      <td>...</td>\n",
              "      <td>...</td>\n",
              "      <td>...</td>\n",
              "      <td>...</td>\n",
              "      <td>...</td>\n",
              "      <td>...</td>\n",
              "      <td>...</td>\n",
              "      <td>...</td>\n",
              "    </tr>\n",
              "    <tr>\n",
              "      <th>16594</th>\n",
              "      <td>Ice Age 2: The Meltdown</td>\n",
              "      <td>GC</td>\n",
              "      <td>2006</td>\n",
              "      <td>Platform</td>\n",
              "      <td>Vivendi Games</td>\n",
              "      <td>0.15</td>\n",
              "      <td>0.04</td>\n",
              "      <td>0.00</td>\n",
              "      <td>0.01</td>\n",
              "      <td>0.20</td>\n",
              "    </tr>\n",
              "    <tr>\n",
              "      <th>16595</th>\n",
              "      <td>Rainbow Islands: Revolution</td>\n",
              "      <td>PSP</td>\n",
              "      <td>2005</td>\n",
              "      <td>Action</td>\n",
              "      <td>Rising Star Games</td>\n",
              "      <td>0.01</td>\n",
              "      <td>0.00</td>\n",
              "      <td>0.00</td>\n",
              "      <td>0.00</td>\n",
              "      <td>0.01</td>\n",
              "    </tr>\n",
              "    <tr>\n",
              "      <th>16596</th>\n",
              "      <td>NBA 2K16</td>\n",
              "      <td>PS3</td>\n",
              "      <td>2015</td>\n",
              "      <td>Sports</td>\n",
              "      <td>Take-Two Interactive</td>\n",
              "      <td>0.44</td>\n",
              "      <td>0.19</td>\n",
              "      <td>0.03</td>\n",
              "      <td>0.13</td>\n",
              "      <td>0.79</td>\n",
              "    </tr>\n",
              "    <tr>\n",
              "      <th>16597</th>\n",
              "      <td>Toukiden: The Age of Demons</td>\n",
              "      <td>PSV</td>\n",
              "      <td>2013</td>\n",
              "      <td>Action</td>\n",
              "      <td>Tecmo Koei</td>\n",
              "      <td>0.05</td>\n",
              "      <td>0.05</td>\n",
              "      <td>0.25</td>\n",
              "      <td>0.03</td>\n",
              "      <td>0.38</td>\n",
              "    </tr>\n",
              "    <tr>\n",
              "      <th>16598</th>\n",
              "      <td>The King of Fighters '95</td>\n",
              "      <td>PS</td>\n",
              "      <td>1996</td>\n",
              "      <td>Fighting</td>\n",
              "      <td>Sony Computer Entertainment</td>\n",
              "      <td>0.00</td>\n",
              "      <td>0.00</td>\n",
              "      <td>0.16</td>\n",
              "      <td>0.01</td>\n",
              "      <td>0.17</td>\n",
              "    </tr>\n",
              "  </tbody>\n",
              "</table>\n",
              "<p>16598 rows × 10 columns</p>\n",
              "</div>"
            ],
            "text/plain": [
              "                                                 Name  ... Total_sales\n",
              "1                        Candace Kane's Candy Factory  ...        0.04\n",
              "2                                      The Munchables  ...        0.18\n",
              "3      Otome wa Oanesama Boku ni Koi Shiteru Portable  ...        0.02\n",
              "4                    Deal or No Deal: Special Edition  ...        0.04\n",
              "5           Ben 10 Ultimate Alien: Cosmic Destruction  ...        0.25\n",
              "...                                               ...  ...         ...\n",
              "16594                         Ice Age 2: The Meltdown  ...        0.20\n",
              "16595                     Rainbow Islands: Revolution  ...        0.01\n",
              "16596                                        NBA 2K16  ...        0.79\n",
              "16597                     Toukiden: The Age of Demons  ...        0.38\n",
              "16598                        The King of Fighters '95  ...        0.17\n",
              "\n",
              "[16598 rows x 10 columns]"
            ]
          },
          "metadata": {
            "tags": []
          },
          "execution_count": 7
        }
      ]
    },
    {
      "cell_type": "markdown",
      "metadata": {
        "id": "_13njiQt3H1H"
      },
      "source": [
        "#지역에 따라서 선호하는 게임 장르가 다를까\n",
        "1. 장르별로 모아서 각 나라의 출고량의 총합들 계산\n",
        "2. 총합 시각화"
      ]
    },
    {
      "cell_type": "code",
      "metadata": {
        "colab": {
          "base_uri": "https://localhost:8080/"
        },
        "id": "QSHe87CB3RNk",
        "outputId": "06a63614-cf94-445e-e55c-bb1eb341e560"
      },
      "source": [
        "df['Genre'].value_counts(dropna = False) # 장르별 빈도 "
      ],
      "execution_count": 8,
      "outputs": [
        {
          "output_type": "execute_result",
          "data": {
            "text/plain": [
              "Action          3305\n",
              "Sports          2341\n",
              "Misc            1734\n",
              "Role-Playing    1483\n",
              "Shooter         1308\n",
              "Adventure       1280\n",
              "Racing          1243\n",
              "Platform         884\n",
              "Simulation       865\n",
              "Fighting         847\n",
              "Strategy         680\n",
              "Puzzle           578\n",
              "unknown           50\n",
              "Name: Genre, dtype: int64"
            ]
          },
          "metadata": {
            "tags": []
          },
          "execution_count": 8
        }
      ]
    },
    {
      "cell_type": "code",
      "metadata": {
        "id": "UEGJB-aNEvV_"
      },
      "source": [
        "df_g= df.sort_values(by=['Genre'], axis=0).reset_index(drop=True)[['Genre','NA_Sales',\t'EU_Sales',\t'JP_Sales',\t'Other_Sales' ]]\n"
      ],
      "execution_count": 9,
      "outputs": []
    },
    {
      "cell_type": "code",
      "metadata": {
        "colab": {
          "base_uri": "https://localhost:8080/",
          "height": 419
        },
        "id": "a4Gwgn5ymPrS",
        "outputId": "72d2579d-9deb-4416-921b-03fe10d10c01"
      },
      "source": [
        "df_g"
      ],
      "execution_count": 10,
      "outputs": [
        {
          "output_type": "execute_result",
          "data": {
            "text/html": [
              "<div>\n",
              "<style scoped>\n",
              "    .dataframe tbody tr th:only-of-type {\n",
              "        vertical-align: middle;\n",
              "    }\n",
              "\n",
              "    .dataframe tbody tr th {\n",
              "        vertical-align: top;\n",
              "    }\n",
              "\n",
              "    .dataframe thead th {\n",
              "        text-align: right;\n",
              "    }\n",
              "</style>\n",
              "<table border=\"1\" class=\"dataframe\">\n",
              "  <thead>\n",
              "    <tr style=\"text-align: right;\">\n",
              "      <th></th>\n",
              "      <th>Genre</th>\n",
              "      <th>NA_Sales</th>\n",
              "      <th>EU_Sales</th>\n",
              "      <th>JP_Sales</th>\n",
              "      <th>Other_Sales</th>\n",
              "    </tr>\n",
              "  </thead>\n",
              "  <tbody>\n",
              "    <tr>\n",
              "      <th>0</th>\n",
              "      <td>Action</td>\n",
              "      <td>0.04</td>\n",
              "      <td>0.00</td>\n",
              "      <td>0.00</td>\n",
              "      <td>0.00</td>\n",
              "    </tr>\n",
              "    <tr>\n",
              "      <th>1</th>\n",
              "      <td>Action</td>\n",
              "      <td>0.00</td>\n",
              "      <td>0.00</td>\n",
              "      <td>0.11</td>\n",
              "      <td>0.00</td>\n",
              "    </tr>\n",
              "    <tr>\n",
              "      <th>2</th>\n",
              "      <td>Action</td>\n",
              "      <td>0.29</td>\n",
              "      <td>0.28</td>\n",
              "      <td>0.00</td>\n",
              "      <td>0.06</td>\n",
              "    </tr>\n",
              "    <tr>\n",
              "      <th>3</th>\n",
              "      <td>Action</td>\n",
              "      <td>0.04</td>\n",
              "      <td>0.02</td>\n",
              "      <td>0.00</td>\n",
              "      <td>0.00</td>\n",
              "    </tr>\n",
              "    <tr>\n",
              "      <th>4</th>\n",
              "      <td>Action</td>\n",
              "      <td>0.16</td>\n",
              "      <td>0.05</td>\n",
              "      <td>0.00</td>\n",
              "      <td>0.02</td>\n",
              "    </tr>\n",
              "    <tr>\n",
              "      <th>...</th>\n",
              "      <td>...</td>\n",
              "      <td>...</td>\n",
              "      <td>...</td>\n",
              "      <td>...</td>\n",
              "      <td>...</td>\n",
              "    </tr>\n",
              "    <tr>\n",
              "      <th>16593</th>\n",
              "      <td>unknown</td>\n",
              "      <td>0.46</td>\n",
              "      <td>0.03</td>\n",
              "      <td>0.00</td>\n",
              "      <td>0.01</td>\n",
              "    </tr>\n",
              "    <tr>\n",
              "      <th>16594</th>\n",
              "      <td>unknown</td>\n",
              "      <td>5.17</td>\n",
              "      <td>4.05</td>\n",
              "      <td>4.34</td>\n",
              "      <td>0.79</td>\n",
              "    </tr>\n",
              "    <tr>\n",
              "      <th>16595</th>\n",
              "      <td>unknown</td>\n",
              "      <td>0.13</td>\n",
              "      <td>0.05</td>\n",
              "      <td>0.00</td>\n",
              "      <td>0.00</td>\n",
              "    </tr>\n",
              "    <tr>\n",
              "      <th>16596</th>\n",
              "      <td>unknown</td>\n",
              "      <td>0.00</td>\n",
              "      <td>0.02</td>\n",
              "      <td>0.00</td>\n",
              "      <td>0.00</td>\n",
              "    </tr>\n",
              "    <tr>\n",
              "      <th>16597</th>\n",
              "      <td>unknown</td>\n",
              "      <td>0.35</td>\n",
              "      <td>0.52</td>\n",
              "      <td>0.00</td>\n",
              "      <td>0.22</td>\n",
              "    </tr>\n",
              "  </tbody>\n",
              "</table>\n",
              "<p>16598 rows × 5 columns</p>\n",
              "</div>"
            ],
            "text/plain": [
              "         Genre  NA_Sales  EU_Sales  JP_Sales  Other_Sales\n",
              "0       Action      0.04      0.00      0.00         0.00\n",
              "1       Action      0.00      0.00      0.11         0.00\n",
              "2       Action      0.29      0.28      0.00         0.06\n",
              "3       Action      0.04      0.02      0.00         0.00\n",
              "4       Action      0.16      0.05      0.00         0.02\n",
              "...        ...       ...       ...       ...          ...\n",
              "16593  unknown      0.46      0.03      0.00         0.01\n",
              "16594  unknown      5.17      4.05      4.34         0.79\n",
              "16595  unknown      0.13      0.05      0.00         0.00\n",
              "16596  unknown      0.00      0.02      0.00         0.00\n",
              "16597  unknown      0.35      0.52      0.00         0.22\n",
              "\n",
              "[16598 rows x 5 columns]"
            ]
          },
          "metadata": {
            "tags": []
          },
          "execution_count": 10
        }
      ]
    },
    {
      "cell_type": "code",
      "metadata": {
        "id": "od4aaszhP_O0"
      },
      "source": [
        "a=df_g[df_g['Genre'].isin(['Action'])].sum()\n",
        "b=df_g[df_g['Genre'].isin(['Sports'])].sum()\n",
        "c=df_g[df_g['Genre'].isin(['Misc'])].sum()\n",
        "d=df_g[df_g['Genre'].isin(['Role-Playing'])].sum()\n",
        "e=df_g[df_g['Genre'].isin(['Shooter'])].sum()\n",
        "f=df_g[df_g['Genre'].isin(['Adventure'])].sum()\n",
        "g=df_g[df_g['Genre'].isin(['Racing'])].sum()\n",
        "h=df_g[df_g['Genre'].isin(['Platform'])].sum()\n",
        "i=df_g[df_g['Genre'].isin(['Simulation'])].sum()\n",
        "j=df_g[df_g['Genre'].isin(['Fighting'])].sum()\n",
        "k=df_g[df_g['Genre'].isin(['Strategy'])].sum()\n",
        "l=df_g[df_g['Genre'].isin(['Puzzle'])].sum()\n"
      ],
      "execution_count": 11,
      "outputs": []
    },
    {
      "cell_type": "code",
      "metadata": {
        "colab": {
          "base_uri": "https://localhost:8080/",
          "height": 421
        },
        "id": "QMyq8uYGJNIl",
        "outputId": "6918a70b-e7f7-448a-ba9c-91e774141d97"
      },
      "source": [
        "df_g_to=pd.concat([a,b,c,d,e,f,g,h,i,j,k,l], axis=1) # 평균 구한것을 합쳐주기\n",
        "df_g_to.columns=['Action','Sport','Misc','Role-Playing','Shooter','Adventure','Racing','Platform','Simulation','Fighting','Strategy','Puzzle']\n",
        "# 컬럼명을 변경\n",
        "df_g_to=df_g_to.T.drop(columns='Genre') #행과 열 전환\n",
        "df_g_to"
      ],
      "execution_count": 12,
      "outputs": [
        {
          "output_type": "execute_result",
          "data": {
            "text/html": [
              "<div>\n",
              "<style scoped>\n",
              "    .dataframe tbody tr th:only-of-type {\n",
              "        vertical-align: middle;\n",
              "    }\n",
              "\n",
              "    .dataframe tbody tr th {\n",
              "        vertical-align: top;\n",
              "    }\n",
              "\n",
              "    .dataframe thead th {\n",
              "        text-align: right;\n",
              "    }\n",
              "</style>\n",
              "<table border=\"1\" class=\"dataframe\">\n",
              "  <thead>\n",
              "    <tr style=\"text-align: right;\">\n",
              "      <th></th>\n",
              "      <th>NA_Sales</th>\n",
              "      <th>EU_Sales</th>\n",
              "      <th>JP_Sales</th>\n",
              "      <th>Other_Sales</th>\n",
              "    </tr>\n",
              "  </thead>\n",
              "  <tbody>\n",
              "    <tr>\n",
              "      <th>Action</th>\n",
              "      <td>874.81</td>\n",
              "      <td>522.16</td>\n",
              "      <td>157.9</td>\n",
              "      <td>186.45</td>\n",
              "    </tr>\n",
              "    <tr>\n",
              "      <th>Sport</th>\n",
              "      <td>680.52</td>\n",
              "      <td>376.48</td>\n",
              "      <td>135.37</td>\n",
              "      <td>134.67</td>\n",
              "    </tr>\n",
              "    <tr>\n",
              "      <th>Misc</th>\n",
              "      <td>408.05</td>\n",
              "      <td>212.36</td>\n",
              "      <td>105.27</td>\n",
              "      <td>74.04</td>\n",
              "    </tr>\n",
              "    <tr>\n",
              "      <th>Role-Playing</th>\n",
              "      <td>319.54</td>\n",
              "      <td>183.58</td>\n",
              "      <td>344.95</td>\n",
              "      <td>56.96</td>\n",
              "    </tr>\n",
              "    <tr>\n",
              "      <th>Shooter</th>\n",
              "      <td>581.92</td>\n",
              "      <td>313.05</td>\n",
              "      <td>38.28</td>\n",
              "      <td>102.65</td>\n",
              "    </tr>\n",
              "    <tr>\n",
              "      <th>Adventure</th>\n",
              "      <td>105.66</td>\n",
              "      <td>64.05</td>\n",
              "      <td>51.95</td>\n",
              "      <td>16.81</td>\n",
              "    </tr>\n",
              "    <tr>\n",
              "      <th>Racing</th>\n",
              "      <td>357.19</td>\n",
              "      <td>237.1</td>\n",
              "      <td>56.4</td>\n",
              "      <td>77.1</td>\n",
              "    </tr>\n",
              "    <tr>\n",
              "      <th>Platform</th>\n",
              "      <td>446.44</td>\n",
              "      <td>201.61</td>\n",
              "      <td>130.65</td>\n",
              "      <td>51.53</td>\n",
              "    </tr>\n",
              "    <tr>\n",
              "      <th>Simulation</th>\n",
              "      <td>182.96</td>\n",
              "      <td>113.35</td>\n",
              "      <td>63.7</td>\n",
              "      <td>31.48</td>\n",
              "    </tr>\n",
              "    <tr>\n",
              "      <th>Fighting</th>\n",
              "      <td>223.2</td>\n",
              "      <td>101.22</td>\n",
              "      <td>87.34</td>\n",
              "      <td>36.64</td>\n",
              "    </tr>\n",
              "    <tr>\n",
              "      <th>Strategy</th>\n",
              "      <td>68.7</td>\n",
              "      <td>45.32</td>\n",
              "      <td>49.46</td>\n",
              "      <td>11.36</td>\n",
              "    </tr>\n",
              "    <tr>\n",
              "      <th>Puzzle</th>\n",
              "      <td>123.35</td>\n",
              "      <td>50.73</td>\n",
              "      <td>56.87</td>\n",
              "      <td>12.52</td>\n",
              "    </tr>\n",
              "  </tbody>\n",
              "</table>\n",
              "</div>"
            ],
            "text/plain": [
              "             NA_Sales EU_Sales JP_Sales Other_Sales\n",
              "Action         874.81   522.16    157.9      186.45\n",
              "Sport          680.52   376.48   135.37      134.67\n",
              "Misc           408.05   212.36   105.27       74.04\n",
              "Role-Playing   319.54   183.58   344.95       56.96\n",
              "Shooter        581.92   313.05    38.28      102.65\n",
              "Adventure      105.66    64.05    51.95       16.81\n",
              "Racing         357.19    237.1     56.4        77.1\n",
              "Platform       446.44   201.61   130.65       51.53\n",
              "Simulation     182.96   113.35     63.7       31.48\n",
              "Fighting        223.2   101.22    87.34       36.64\n",
              "Strategy         68.7    45.32    49.46       11.36\n",
              "Puzzle         123.35    50.73    56.87       12.52"
            ]
          },
          "metadata": {
            "tags": []
          },
          "execution_count": 12
        }
      ]
    },
    {
      "cell_type": "code",
      "metadata": {
        "colab": {
          "base_uri": "https://localhost:8080/"
        },
        "id": "zczSfnZsvacH",
        "outputId": "f866199e-6ce7-46da-ee3e-5f20ef9e7f11"
      },
      "source": [
        "!sudo apt-get install -y fonts-nanum\n",
        "!sudo fc-cache -fv\n",
        "!rm ~/.cache/matplotlib -rf"
      ],
      "execution_count": 27,
      "outputs": [
        {
          "output_type": "stream",
          "text": [
            "Reading package lists... Done\n",
            "Building dependency tree       \n",
            "Reading state information... Done\n",
            "fonts-nanum is already the newest version (20170925-1).\n",
            "0 upgraded, 0 newly installed, 0 to remove and 40 not upgraded.\n",
            "/usr/share/fonts: caching, new cache contents: 0 fonts, 1 dirs\n",
            "/usr/share/fonts/truetype: caching, new cache contents: 0 fonts, 3 dirs\n",
            "/usr/share/fonts/truetype/humor-sans: caching, new cache contents: 1 fonts, 0 dirs\n",
            "/usr/share/fonts/truetype/liberation: caching, new cache contents: 16 fonts, 0 dirs\n",
            "/usr/share/fonts/truetype/nanum: caching, new cache contents: 10 fonts, 0 dirs\n",
            "/usr/local/share/fonts: caching, new cache contents: 0 fonts, 0 dirs\n",
            "/root/.local/share/fonts: skipping, no such directory\n",
            "/root/.fonts: skipping, no such directory\n",
            "/var/cache/fontconfig: cleaning cache directory\n",
            "/root/.cache/fontconfig: not cleaning non-existent cache directory\n",
            "/root/.fontconfig: not cleaning non-existent cache directory\n",
            "fc-cache: succeeded\n"
          ],
          "name": "stdout"
        }
      ]
    },
    {
      "cell_type": "code",
      "metadata": {
        "colab": {
          "base_uri": "https://localhost:8080/"
        },
        "id": "otalVq53Vujj",
        "outputId": "9055fdbb-9ead-43e1-8845-80a7464e81d3"
      },
      "source": [
        "df_g_to.iloc[:,1]"
      ],
      "execution_count": 13,
      "outputs": [
        {
          "output_type": "execute_result",
          "data": {
            "text/plain": [
              "Action          522.16\n",
              "Sport           376.48\n",
              "Misc            212.36\n",
              "Role-Playing    183.58\n",
              "Shooter         313.05\n",
              "Adventure        64.05\n",
              "Racing           237.1\n",
              "Platform        201.61\n",
              "Simulation      113.35\n",
              "Fighting        101.22\n",
              "Strategy         45.32\n",
              "Puzzle           50.73\n",
              "Name: EU_Sales, dtype: object"
            ]
          },
          "metadata": {
            "tags": []
          },
          "execution_count": 13
        }
      ]
    },
    {
      "cell_type": "code",
      "metadata": {
        "id": "K4hQZfaYvd0m"
      },
      "source": [
        "import matplotlib.pyplot as plt\n",
        "\n",
        "plt.rc('font', family='NanumBarunGothic')  "
      ],
      "execution_count": 14,
      "outputs": []
    },
    {
      "cell_type": "code",
      "metadata": {
        "colab": {
          "base_uri": "https://localhost:8080/",
          "height": 356
        },
        "id": "c7fBbeFt_Re2",
        "outputId": "0bb8ede9-5712-4cb1-882d-85c3e0b4e28c"
      },
      "source": [
        "area_category=['Action','Sports','Misc','Role-Playing','Shooter','Adventure','Racing','Platform','Simulation','Fighting','Strategy','Puzzle']\n",
        "\n",
        "plt.figure(figsize=(15,5))\n",
        "\n",
        "xtick_label_position = list(range(len(area_category))) ## x축 눈금 라벨이 표시될 x좌표\n",
        "plt.xticks(xtick_label_position, area_category)\n",
        "colors=['r','r','b','b','r','b','b','b','b','b','b','b']\n",
        "\n",
        "plt.bar(xtick_label_position, df_g_to.iloc[:,0], color=colors)\n",
        "\n",
        "plt.title('장르별 북미 출고량의 합',fontsize=20) ## 타이틀 출력\n",
        "plt.xlabel('Genre') ## x축 라벨 출력\n",
        "plt.ylabel('평균') ## y축 라벨 출력\n",
        "plt.show()"
      ],
      "execution_count": 15,
      "outputs": [
        {
          "output_type": "display_data",
          "data": {
            "image/png": "[encoded data removed]",
            "text/plain": [
              "<Figure size 1080x360 with 1 Axes>"
            ]
          },
          "metadata": {
            "tags": [],
            "needs_background": "light"
          }
        }
      ]
    },
    {
      "cell_type": "code",
      "metadata": {
        "colab": {
          "base_uri": "https://localhost:8080/",
          "height": 356
        },
        "id": "KXTzDwGkA8Gz",
        "outputId": "615ab766-55ec-4687-f5c2-f1b72d837b7b"
      },
      "source": [
        "\n",
        "\n",
        "plt.figure(figsize=(15,5))\n",
        "\n",
        "xtick_label_position = list(range(len(area_category))) ## x축 눈금 라벨이 표시될 x좌표\n",
        "plt.xticks(xtick_label_position, area_category)\n",
        "colors=['r','r','b','b','r','b','b','b','b','b','b','b']\n",
        "\n",
        "plt.bar(xtick_label_position, df_g_to.iloc[:,1], color=colors)\n",
        "\n",
        "plt.title('장르별 유럽 출고량 합',fontsize=20) ## 타이틀 출력\n",
        "plt.xlabel('Genre') ## x축 라벨 출력\n",
        "plt.ylabel('평균') ## y축 라벨 출력\n",
        "plt.show()"
      ],
      "execution_count": 16,
      "outputs": [
        {
          "output_type": "display_data",
          "data": {
            "image/png": "[encoded data removed]",
            "text/plain": [
              "<Figure size 1080x360 with 1 Axes>"
            ]
          },
          "metadata": {
            "tags": [],
            "needs_background": "light"
          }
        }
      ]
    },
    {
      "cell_type": "code",
      "metadata": {
        "colab": {
          "base_uri": "https://localhost:8080/",
          "height": 356
        },
        "id": "ZXgHj5xRBBjx",
        "outputId": "bb04c63a-d5eb-436f-e585-7d765d2dc25a"
      },
      "source": [
        "\n",
        "\n",
        "plt.figure(figsize=(15,5))\n",
        "\n",
        "xtick_label_position = list(range(len(area_category))) ## x축 눈금 라벨이 표시될 x좌표\n",
        "plt.xticks(xtick_label_position, area_category)\n",
        "colors=['b','b','b','r','b','b','b','r','b','r','b','b']\n",
        "\n",
        "plt.bar(xtick_label_position, df_g_to.iloc[:,2], color=colors)\n",
        "\n",
        "plt.title('장르별 일본 출고량 합',fontsize=20) ## 타이틀 출력\n",
        "plt.xlabel('Genre') ## x축 라벨 출력\n",
        "plt.ylabel('평균') ## y축 라벨 출력\n",
        "plt.show()"
      ],
      "execution_count": 17,
      "outputs": [
        {
          "output_type": "display_data",
          "data": {
            "image/png": "[encoded data removed]",
            "text/plain": [
              "<Figure size 1080x360 with 1 Axes>"
            ]
          },
          "metadata": {
            "tags": [],
            "needs_background": "light"
          }
        }
      ]
    },
    {
      "cell_type": "code",
      "metadata": {
        "colab": {
          "base_uri": "https://localhost:8080/",
          "height": 356
        },
        "id": "sgDHa9Kqa6Sz",
        "outputId": "f1996a86-7269-439e-cbde-cd7845a12aa2"
      },
      "source": [
        "\n",
        "\n",
        "plt.figure(figsize=(15,5))\n",
        "\n",
        "xtick_label_position = list(range(len(area_category))) ## x축 눈금 라벨이 표시될 x좌표\n",
        "plt.xticks(xtick_label_position, area_category)\n",
        "colors=['r','r','b','b','r','b','b','b','b','b','b','b']\n",
        "\n",
        "plt.bar(xtick_label_position, df_g_to.iloc[:,3], color=colors)\n",
        "\n",
        "plt.title('장르별 기타지역 출고량 합',fontsize=20) ## 타이틀 출력\n",
        "plt.xlabel('Genre') ## x축 라벨 출력\n",
        "plt.ylabel('평균') ## y축 라벨 출력\n",
        "plt.show()"
      ],
      "execution_count": 18,
      "outputs": [
        {
          "output_type": "display_data",
          "data": {
            "image/png": "[encoded data removed]",
            "text/plain": [
              "<Figure size 1080x360 with 1 Axes>"
            ]
          },
          "metadata": {
            "tags": [],
            "needs_background": "light"
          }
        }
      ]
    },
    {
      "cell_type": "markdown",
      "metadata": {
        "id": "2IdhdW0WfxJG"
      },
      "source": [
        "북미와 유럽은 action, sport, shooter을 선호하는 반면,\n",
        "일본은 Role-playing이 압도적으로 선호하는 것을 알 수 있다."
      ]
    },
    {
      "cell_type": "markdown",
      "metadata": {
        "id": "WpDiYG26hgWj"
      },
      "source": [
        "**가설1: 지역별 출고량의 총합들의 비율은 유사하다**"
      ]
    },
    {
      "cell_type": "code",
      "metadata": {
        "colab": {
          "base_uri": "https://localhost:8080/"
        },
        "id": "4PeKbiLsgrQY",
        "outputId": "31017c91-470b-4f0a-8925-62ea7709f8b9"
      },
      "source": [
        "df_g_to_sum=df_g_to.sum()\n",
        "df_g_to_sum"
      ],
      "execution_count": 19,
      "outputs": [
        {
          "output_type": "execute_result",
          "data": {
            "text/plain": [
              "NA_Sales       4372.34\n",
              "EU_Sales       2421.01\n",
              "JP_Sales       1278.14\n",
              "Other_Sales     792.21\n",
              "dtype: float64"
            ]
          },
          "metadata": {
            "tags": []
          },
          "execution_count": 19
        }
      ]
    },
    {
      "cell_type": "code",
      "metadata": {
        "colab": {
          "base_uri": "https://localhost:8080/"
        },
        "id": "k-iwSR2dhXI7",
        "outputId": "1b7f8fae-97b3-4fb0-ebbd-73adb6c9f226"
      },
      "source": [
        "from scipy.stats import chisquare\n",
        "\n",
        "chi1 = chisquare(df_g_to_sum, axis=None)\n",
        "chi1"
      ],
      "execution_count": 20,
      "outputs": [
        {
          "output_type": "execute_result",
          "data": {
            "text/plain": [
              "Power_divergenceResult(statistic=3429.0829413901647, pvalue=0.0)"
            ]
          },
          "metadata": {
            "tags": []
          },
          "execution_count": 20
        }
      ]
    },
    {
      "cell_type": "markdown",
      "metadata": {
        "id": "HanZyO5Wiu0c"
      },
      "source": [
        "Pvalue가 0.05로 귀무가설을 기각될 가능성이 높으므로 즉, 지역별 출고량의 총합들은 유사하지 않다."
      ]
    },
    {
      "cell_type": "markdown",
      "metadata": {
        "id": "Lh3jNXi_pGO2"
      },
      "source": [
        "**가설2: 지역별 출고량과 장르가 독립적이다(연관이 없다)**"
      ]
    },
    {
      "cell_type": "code",
      "metadata": {
        "id": "lJ-yVJ7A9O9n"
      },
      "source": [
        "df_g_to=df_g_to.astype('category')"
      ],
      "execution_count": 21,
      "outputs": []
    },
    {
      "cell_type": "code",
      "metadata": {
        "colab": {
          "base_uri": "https://localhost:8080/"
        },
        "id": "y022ESvIm9MT",
        "outputId": "4cf79f7c-0206-4d32-8b2c-871d49444509"
      },
      "source": [
        "from scipy.stats import chi2_contingency\n",
        "\n",
        "chi2_val, p, dof, expected= chi2_contingency(df_g_to, correction=False) #Two-sample 카이제곱 검증함\n",
        "print('Chi^2 값',': ',chi2_val.round(2),\"\\n\")\n",
        "if(p<0.05) : \n",
        "    print('귀무가설 H0를 기각한다.', 'p value:', p.round(2),\"\\n\")\n",
        "else :\n",
        "    print('귀무가설 H0를 기각하지 못한다.', 'p value:', p.round(2),\"\\n\")\n"
      ],
      "execution_count": 22,
      "outputs": [
        {
          "output_type": "stream",
          "text": [
            "Chi^2 값 :  696.8 \n",
            "\n",
            "귀무가설 H0를 기각한다. p value: 0.0 \n",
            "\n"
          ],
          "name": "stdout"
        }
      ]
    },
    {
      "cell_type": "markdown",
      "metadata": {
        "id": "B0OUsnebnYLX"
      },
      "source": [
        "Pvalue가 0.05로 귀무가설을 기각될 가능성이 높으므로 즉, 장르와 지역별 출고량이 독립적이지 않다. 즉, 둘은 연관이 되어있음을 알수 있다"
      ]
    },
    {
      "cell_type": "markdown",
      "metadata": {
        "id": "VXuMTb-3Zurt"
      },
      "source": [
        "##총정리\n",
        "\n",
        "시각화된 자료를 통해서 미국과 유럽은 비슷하나 일본은 매우 다르고, 가설 검증을 통해서 지역별 출고량과 장르가 연관이 되어있다. \n",
        "\n",
        "**즉, 지역에 따라서 선호하는 게임의 장르가 다르다는 것을 알 수 있다.**"
      ]
    },
    {
      "cell_type": "markdown",
      "metadata": {
        "id": "6HFFj9coSw8m"
      },
      "source": [
        "#연도별 게임의 트렌드가 있을까?"
      ]
    },
    {
      "cell_type": "code",
      "metadata": {
        "colab": {
          "base_uri": "https://localhost:8080/"
        },
        "id": "eIQykh9KYomL",
        "outputId": "c830a817-c252-4394-c49f-7a6d7f713de5"
      },
      "source": [
        "df['Year'].value_counts(dropna = False) "
      ],
      "execution_count": 24,
      "outputs": [
        {
          "output_type": "execute_result",
          "data": {
            "text/plain": [
              "2009    1431\n",
              "2008    1428\n",
              "2010    1259\n",
              "2007    1202\n",
              "2011    1139\n",
              "2006    1008\n",
              "2005     941\n",
              "2002     829\n",
              "2003     775\n",
              "2004     763\n",
              "2012     657\n",
              "2015     614\n",
              "2014     582\n",
              "2013     546\n",
              "2001     482\n",
              "1998     379\n",
              "2000     346\n",
              "2016     344\n",
              "1999     338\n",
              "1997     289\n",
              "0        274\n",
              "1996     263\n",
              "1995     219\n",
              "1994     121\n",
              "1993      60\n",
              "1981      46\n",
              "1992      43\n",
              "1991      41\n",
              "1982      36\n",
              "1986      21\n",
              "1989      17\n",
              "1983      17\n",
              "1990      16\n",
              "1987      16\n",
              "1988      15\n",
              "1984      14\n",
              "1985      14\n",
              "1980       9\n",
              "2017       3\n",
              "2020       1\n",
              "Name: Year, dtype: int64"
            ]
          },
          "metadata": {
            "tags": []
          },
          "execution_count": 24
        }
      ]
    },
    {
      "cell_type": "code",
      "metadata": {
        "colab": {
          "base_uri": "https://localhost:8080/",
          "height": 470
        },
        "id": "ILqSUdQ6TIow",
        "outputId": "241b362f-18ea-4cec-ab55-e084e54e3822"
      },
      "source": [
        "df_Y=df.sort_values(by=['Year'], axis=0) #year피쳐 기준으로 정렬\n",
        "df_Y"
      ],
      "execution_count": 25,
      "outputs": [
        {
          "output_type": "execute_result",
          "data": {
            "text/html": [
              "<div>\n",
              "<style scoped>\n",
              "    .dataframe tbody tr th:only-of-type {\n",
              "        vertical-align: middle;\n",
              "    }\n",
              "\n",
              "    .dataframe tbody tr th {\n",
              "        vertical-align: top;\n",
              "    }\n",
              "\n",
              "    .dataframe thead th {\n",
              "        text-align: right;\n",
              "    }\n",
              "</style>\n",
              "<table border=\"1\" class=\"dataframe\">\n",
              "  <thead>\n",
              "    <tr style=\"text-align: right;\">\n",
              "      <th></th>\n",
              "      <th>Name</th>\n",
              "      <th>Platform</th>\n",
              "      <th>Year</th>\n",
              "      <th>Genre</th>\n",
              "      <th>Publisher</th>\n",
              "      <th>NA_Sales</th>\n",
              "      <th>EU_Sales</th>\n",
              "      <th>JP_Sales</th>\n",
              "      <th>Other_Sales</th>\n",
              "      <th>Total_sales</th>\n",
              "    </tr>\n",
              "  </thead>\n",
              "  <tbody>\n",
              "    <tr>\n",
              "      <th>4618</th>\n",
              "      <td>Hangman</td>\n",
              "      <td>2600</td>\n",
              "      <td>0</td>\n",
              "      <td>Puzzle</td>\n",
              "      <td>Atari</td>\n",
              "      <td>0.35</td>\n",
              "      <td>0.02</td>\n",
              "      <td>0.00</td>\n",
              "      <td>0.00</td>\n",
              "      <td>0.37</td>\n",
              "    </tr>\n",
              "    <tr>\n",
              "      <th>5161</th>\n",
              "      <td>Harvest Moon: The Tale of Two Towns</td>\n",
              "      <td>3DS</td>\n",
              "      <td>0</td>\n",
              "      <td>Simulation</td>\n",
              "      <td>Unknown</td>\n",
              "      <td>0.28</td>\n",
              "      <td>0.00</td>\n",
              "      <td>0.00</td>\n",
              "      <td>0.02</td>\n",
              "      <td>0.30</td>\n",
              "    </tr>\n",
              "    <tr>\n",
              "      <th>5176</th>\n",
              "      <td>Dance! It's Your Stage</td>\n",
              "      <td>Wii</td>\n",
              "      <td>0</td>\n",
              "      <td>Misc</td>\n",
              "      <td>DTP Entertainment</td>\n",
              "      <td>0.00</td>\n",
              "      <td>0.01</td>\n",
              "      <td>0.00</td>\n",
              "      <td>0.00</td>\n",
              "      <td>0.01</td>\n",
              "    </tr>\n",
              "    <tr>\n",
              "      <th>5231</th>\n",
              "      <td>Circus Atari</td>\n",
              "      <td>2600</td>\n",
              "      <td>0</td>\n",
              "      <td>Action</td>\n",
              "      <td>Atari</td>\n",
              "      <td>0.43</td>\n",
              "      <td>0.03</td>\n",
              "      <td>0.00</td>\n",
              "      <td>0.00</td>\n",
              "      <td>0.46</td>\n",
              "    </tr>\n",
              "    <tr>\n",
              "      <th>12418</th>\n",
              "      <td>Silent Hill: Homecoming</td>\n",
              "      <td>PS3</td>\n",
              "      <td>0</td>\n",
              "      <td>Action</td>\n",
              "      <td>Konami Digital Entertainment</td>\n",
              "      <td>0.18</td>\n",
              "      <td>0.15</td>\n",
              "      <td>0.00</td>\n",
              "      <td>0.06</td>\n",
              "      <td>0.39</td>\n",
              "    </tr>\n",
              "    <tr>\n",
              "      <th>...</th>\n",
              "      <td>...</td>\n",
              "      <td>...</td>\n",
              "      <td>...</td>\n",
              "      <td>...</td>\n",
              "      <td>...</td>\n",
              "      <td>...</td>\n",
              "      <td>...</td>\n",
              "      <td>...</td>\n",
              "      <td>...</td>\n",
              "      <td>...</td>\n",
              "    </tr>\n",
              "    <tr>\n",
              "      <th>6193</th>\n",
              "      <td>Azure Striker Gunvolt: Striker Pack</td>\n",
              "      <td>3DS</td>\n",
              "      <td>2016</td>\n",
              "      <td>Action</td>\n",
              "      <td>Inti Creates</td>\n",
              "      <td>0.00</td>\n",
              "      <td>0.00</td>\n",
              "      <td>0.01</td>\n",
              "      <td>0.00</td>\n",
              "      <td>0.01</td>\n",
              "    </tr>\n",
              "    <tr>\n",
              "      <th>10108</th>\n",
              "      <td>Phantasy Star Online 2 Episode 4: Deluxe Package</td>\n",
              "      <td>PS4</td>\n",
              "      <td>2017</td>\n",
              "      <td>Role-Playing</td>\n",
              "      <td>Sega</td>\n",
              "      <td>0.00</td>\n",
              "      <td>0.00</td>\n",
              "      <td>0.03</td>\n",
              "      <td>0.00</td>\n",
              "      <td>0.03</td>\n",
              "    </tr>\n",
              "    <tr>\n",
              "      <th>15234</th>\n",
              "      <td>Phantasy Star Online 2 Episode 4: Deluxe Package</td>\n",
              "      <td>PSV</td>\n",
              "      <td>2017</td>\n",
              "      <td>Role-Playing</td>\n",
              "      <td>Sega</td>\n",
              "      <td>0.00</td>\n",
              "      <td>0.00</td>\n",
              "      <td>0.01</td>\n",
              "      <td>0.00</td>\n",
              "      <td>0.01</td>\n",
              "    </tr>\n",
              "    <tr>\n",
              "      <th>5311</th>\n",
              "      <td>Brothers Conflict: Precious Baby</td>\n",
              "      <td>PSV</td>\n",
              "      <td>2017</td>\n",
              "      <td>Action</td>\n",
              "      <td>Idea Factory</td>\n",
              "      <td>0.00</td>\n",
              "      <td>0.00</td>\n",
              "      <td>0.01</td>\n",
              "      <td>0.00</td>\n",
              "      <td>0.01</td>\n",
              "    </tr>\n",
              "    <tr>\n",
              "      <th>6907</th>\n",
              "      <td>Imagine: Makeup Artist</td>\n",
              "      <td>DS</td>\n",
              "      <td>2020</td>\n",
              "      <td>Simulation</td>\n",
              "      <td>Ubisoft</td>\n",
              "      <td>0.27</td>\n",
              "      <td>0.00</td>\n",
              "      <td>0.00</td>\n",
              "      <td>0.02</td>\n",
              "      <td>0.29</td>\n",
              "    </tr>\n",
              "  </tbody>\n",
              "</table>\n",
              "<p>16598 rows × 10 columns</p>\n",
              "</div>"
            ],
            "text/plain": [
              "                                                   Name  ... Total_sales\n",
              "4618                                            Hangman  ...        0.37\n",
              "5161                Harvest Moon: The Tale of Two Towns  ...        0.30\n",
              "5176                             Dance! It's Your Stage  ...        0.01\n",
              "5231                                       Circus Atari  ...        0.46\n",
              "12418                           Silent Hill: Homecoming  ...        0.39\n",
              "...                                                 ...  ...         ...\n",
              "6193                Azure Striker Gunvolt: Striker Pack  ...        0.01\n",
              "10108  Phantasy Star Online 2 Episode 4: Deluxe Package  ...        0.03\n",
              "15234  Phantasy Star Online 2 Episode 4: Deluxe Package  ...        0.01\n",
              "5311                   Brothers Conflict: Precious Baby  ...        0.01\n",
              "6907                             Imagine: Makeup Artist  ...        0.29\n",
              "\n",
              "[16598 rows x 10 columns]"
            ]
          },
          "metadata": {
            "tags": []
          },
          "execution_count": 25
        }
      ]
    },
    {
      "cell_type": "markdown",
      "metadata": {
        "id": "AHzkPeMU0b90"
      },
      "source": [
        "## 1.연도와 장르 선호도"
      ]
    },
    {
      "cell_type": "code",
      "metadata": {
        "id": "qLEgvI8rXBdB"
      },
      "source": [
        "eighty =range(1980,1990)\n",
        "\n",
        "e_s=df_Y[df_Y['Year'].isin(eighty)].reset_index(drop=True) #205\n",
        "A=e_s['Genre'].value_counts(dropna = False) \n"
      ],
      "execution_count": 26,
      "outputs": []
    },
    {
      "cell_type": "code",
      "metadata": {
        "id": "ASxHVALDYYYQ"
      },
      "source": [
        "nighty=range(1990,2000)\n",
        "\n",
        "n_s=df_Y[df_Y['Year'].isin(nighty)].reset_index(drop=True) #1769\n",
        "B=n_s['Genre'].value_counts(dropna = False)"
      ],
      "execution_count": 27,
      "outputs": []
    },
    {
      "cell_type": "code",
      "metadata": {
        "id": "Aa2oTqcJZEkG"
      },
      "source": [
        "noughties_1=range(2000,2010)\n",
        "\n",
        "nou_s1=df_Y[df_Y['Year'].isin(noughties_1)].reset_index(drop=True) #4136\n",
        "C=nou_s1['Genre'].value_counts(dropna = False) "
      ],
      "execution_count": 28,
      "outputs": []
    },
    {
      "cell_type": "code",
      "metadata": {
        "id": "vuQht29XaAXn"
      },
      "source": [
        "#noughties_2=range(2006,2010)\n",
        "\n",
        "#nou_s2=df_Y[df_Y['Year'].isin(noughties_2)].reset_index(drop=True) #5069\n",
        "#D=nou_s2['Genre'].value_counts(dropna = False) "
      ],
      "execution_count": 29,
      "outputs": []
    },
    {
      "cell_type": "code",
      "metadata": {
        "id": "e6MoRAKfadSR"
      },
      "source": [
        "tens=range(2010,2021)\n",
        "t1=df_Y[df_Y['Year'].isin(tens)].reset_index(drop=True) #5145\n",
        "E=t1['Genre'].value_counts(dropna = False) "
      ],
      "execution_count": 30,
      "outputs": []
    },
    {
      "cell_type": "code",
      "metadata": {
        "colab": {
          "base_uri": "https://localhost:8080/",
          "height": 173
        },
        "id": "xx3lZ9vLgPka",
        "outputId": "030f94d4-e840-4e92-cd4d-26fb73650365"
      },
      "source": [
        "df_Y_v=pd.concat([A,B,C,E], axis=1)\n",
        "df_Y_v.columns=['80s','90s','2000s','2010s']\n",
        "df_Y_v_1=df_Y_v.drop(labels = \"unknown\", axis = 0).transpose().reset_index()\n",
        "\n",
        "df_Y_v_1\n"
      ],
      "execution_count": 31,
      "outputs": [
        {
          "output_type": "execute_result",
          "data": {
            "text/html": [
              "<div>\n",
              "<style scoped>\n",
              "    .dataframe tbody tr th:only-of-type {\n",
              "        vertical-align: middle;\n",
              "    }\n",
              "\n",
              "    .dataframe tbody tr th {\n",
              "        vertical-align: top;\n",
              "    }\n",
              "\n",
              "    .dataframe thead th {\n",
              "        text-align: right;\n",
              "    }\n",
              "</style>\n",
              "<table border=\"1\" class=\"dataframe\">\n",
              "  <thead>\n",
              "    <tr style=\"text-align: right;\">\n",
              "      <th></th>\n",
              "      <th>index</th>\n",
              "      <th>Action</th>\n",
              "      <th>Platform</th>\n",
              "      <th>Shooter</th>\n",
              "      <th>Sports</th>\n",
              "      <th>Puzzle</th>\n",
              "      <th>Role-Playing</th>\n",
              "      <th>Misc</th>\n",
              "      <th>Racing</th>\n",
              "      <th>Fighting</th>\n",
              "      <th>Simulation</th>\n",
              "      <th>Adventure</th>\n",
              "      <th>Strategy</th>\n",
              "    </tr>\n",
              "  </thead>\n",
              "  <tbody>\n",
              "    <tr>\n",
              "      <th>0</th>\n",
              "      <td>80s</td>\n",
              "      <td>66.0</td>\n",
              "      <td>33.0</td>\n",
              "      <td>30.0</td>\n",
              "      <td>22.0</td>\n",
              "      <td>19.0</td>\n",
              "      <td>9.0</td>\n",
              "      <td>8.0</td>\n",
              "      <td>8.0</td>\n",
              "      <td>4.0</td>\n",
              "      <td>3.0</td>\n",
              "      <td>2.0</td>\n",
              "      <td>NaN</td>\n",
              "    </tr>\n",
              "    <tr>\n",
              "      <th>1</th>\n",
              "      <td>90s</td>\n",
              "      <td>161.0</td>\n",
              "      <td>125.0</td>\n",
              "      <td>137.0</td>\n",
              "      <td>304.0</td>\n",
              "      <td>71.0</td>\n",
              "      <td>171.0</td>\n",
              "      <td>115.0</td>\n",
              "      <td>181.0</td>\n",
              "      <td>193.0</td>\n",
              "      <td>86.0</td>\n",
              "      <td>97.0</td>\n",
              "      <td>123.0</td>\n",
              "    </tr>\n",
              "    <tr>\n",
              "      <th>2</th>\n",
              "      <td>2000s</td>\n",
              "      <td>1579.0</td>\n",
              "      <td>564.0</td>\n",
              "      <td>717.0</td>\n",
              "      <td>1404.0</td>\n",
              "      <td>361.0</td>\n",
              "      <td>729.0</td>\n",
              "      <td>1021.0</td>\n",
              "      <td>797.0</td>\n",
              "      <td>442.0</td>\n",
              "      <td>551.0</td>\n",
              "      <td>632.0</td>\n",
              "      <td>378.0</td>\n",
              "    </tr>\n",
              "    <tr>\n",
              "      <th>3</th>\n",
              "      <td>2010s</td>\n",
              "      <td>1436.0</td>\n",
              "      <td>151.0</td>\n",
              "      <td>395.0</td>\n",
              "      <td>569.0</td>\n",
              "      <td>116.0</td>\n",
              "      <td>557.0</td>\n",
              "      <td>561.0</td>\n",
              "      <td>234.0</td>\n",
              "      <td>196.0</td>\n",
              "      <td>209.0</td>\n",
              "      <td>539.0</td>\n",
              "      <td>168.0</td>\n",
              "    </tr>\n",
              "  </tbody>\n",
              "</table>\n",
              "</div>"
            ],
            "text/plain": [
              "   index  Action  Platform  Shooter  ...  Fighting  Simulation  Adventure  Strategy\n",
              "0    80s    66.0      33.0     30.0  ...       4.0         3.0        2.0       NaN\n",
              "1    90s   161.0     125.0    137.0  ...     193.0        86.0       97.0     123.0\n",
              "2  2000s  1579.0     564.0    717.0  ...     442.0       551.0      632.0     378.0\n",
              "3  2010s  1436.0     151.0    395.0  ...     196.0       209.0      539.0     168.0\n",
              "\n",
              "[4 rows x 13 columns]"
            ]
          },
          "metadata": {
            "tags": []
          },
          "execution_count": 31
        }
      ]
    },
    {
      "cell_type": "code",
      "metadata": {
        "colab": {
          "base_uri": "https://localhost:8080/",
          "height": 670
        },
        "id": "kBvb8BBbiLHR",
        "outputId": "07030767-f21c-4ef1-b5c1-2f2b0f8efc9d"
      },
      "source": [
        "import seaborn as sns\n",
        "\n",
        "df_Y_v_1.plot(x= 'index', y=area_category, kind=\"bar\",figsize=(20,10)) \n",
        "\n",
        "plt.title('연도별 장르 선호도',fontsize=20) ## 타이틀 출력\n",
        "plt.xlabel('Year',fontsize=15) ## x축 라벨 출력\n",
        "#plt.ylabel('') ## y축 라벨 출력"
      ],
      "execution_count": 32,
      "outputs": [
        {
          "output_type": "execute_result",
          "data": {
            "text/plain": [
              "Text(0.5, 0, 'Year')"
            ]
          },
          "metadata": {
            "tags": []
          },
          "execution_count": 32
        },
        {
          "output_type": "display_data",
          "data": {
            "image/png": "[encoded data removed]",
            "text/plain": [
              "<Figure size 1440x720 with 1 Axes>"
            ]
          },
          "metadata": {
            "tags": [],
            "needs_background": "light"
          }
        }
      ]
    },
    {
      "cell_type": "markdown",
      "metadata": {
        "id": "MMa9c5Mj_nbp"
      },
      "source": [
        "##가설: 시대별 "
      ]
    },
    {
      "cell_type": "code",
      "metadata": {
        "colab": {
          "base_uri": "https://localhost:8080/",
          "height": 421
        },
        "id": "o794kCW_D3Pa",
        "outputId": "3c7d7081-c435-40b7-b5dd-094846e9f81c"
      },
      "source": [
        "df_Y_v.drop(labels = \"unknown\", axis = 0)"
      ],
      "execution_count": 60,
      "outputs": [
        {
          "output_type": "execute_result",
          "data": {
            "text/html": [
              "<div>\n",
              "<style scoped>\n",
              "    .dataframe tbody tr th:only-of-type {\n",
              "        vertical-align: middle;\n",
              "    }\n",
              "\n",
              "    .dataframe tbody tr th {\n",
              "        vertical-align: top;\n",
              "    }\n",
              "\n",
              "    .dataframe thead th {\n",
              "        text-align: right;\n",
              "    }\n",
              "</style>\n",
              "<table border=\"1\" class=\"dataframe\">\n",
              "  <thead>\n",
              "    <tr style=\"text-align: right;\">\n",
              "      <th></th>\n",
              "      <th>80s</th>\n",
              "      <th>90s</th>\n",
              "      <th>2000s</th>\n",
              "      <th>2010s</th>\n",
              "    </tr>\n",
              "  </thead>\n",
              "  <tbody>\n",
              "    <tr>\n",
              "      <th>Action</th>\n",
              "      <td>66.0</td>\n",
              "      <td>161</td>\n",
              "      <td>1579</td>\n",
              "      <td>1436</td>\n",
              "    </tr>\n",
              "    <tr>\n",
              "      <th>Platform</th>\n",
              "      <td>33.0</td>\n",
              "      <td>125</td>\n",
              "      <td>564</td>\n",
              "      <td>151</td>\n",
              "    </tr>\n",
              "    <tr>\n",
              "      <th>Shooter</th>\n",
              "      <td>30.0</td>\n",
              "      <td>137</td>\n",
              "      <td>717</td>\n",
              "      <td>395</td>\n",
              "    </tr>\n",
              "    <tr>\n",
              "      <th>Sports</th>\n",
              "      <td>22.0</td>\n",
              "      <td>304</td>\n",
              "      <td>1404</td>\n",
              "      <td>569</td>\n",
              "    </tr>\n",
              "    <tr>\n",
              "      <th>Puzzle</th>\n",
              "      <td>19.0</td>\n",
              "      <td>71</td>\n",
              "      <td>361</td>\n",
              "      <td>116</td>\n",
              "    </tr>\n",
              "    <tr>\n",
              "      <th>Role-Playing</th>\n",
              "      <td>9.0</td>\n",
              "      <td>171</td>\n",
              "      <td>729</td>\n",
              "      <td>557</td>\n",
              "    </tr>\n",
              "    <tr>\n",
              "      <th>Misc</th>\n",
              "      <td>8.0</td>\n",
              "      <td>115</td>\n",
              "      <td>1021</td>\n",
              "      <td>561</td>\n",
              "    </tr>\n",
              "    <tr>\n",
              "      <th>Racing</th>\n",
              "      <td>8.0</td>\n",
              "      <td>181</td>\n",
              "      <td>797</td>\n",
              "      <td>234</td>\n",
              "    </tr>\n",
              "    <tr>\n",
              "      <th>Fighting</th>\n",
              "      <td>4.0</td>\n",
              "      <td>193</td>\n",
              "      <td>442</td>\n",
              "      <td>196</td>\n",
              "    </tr>\n",
              "    <tr>\n",
              "      <th>Simulation</th>\n",
              "      <td>3.0</td>\n",
              "      <td>86</td>\n",
              "      <td>551</td>\n",
              "      <td>209</td>\n",
              "    </tr>\n",
              "    <tr>\n",
              "      <th>Adventure</th>\n",
              "      <td>2.0</td>\n",
              "      <td>97</td>\n",
              "      <td>632</td>\n",
              "      <td>539</td>\n",
              "    </tr>\n",
              "    <tr>\n",
              "      <th>Strategy</th>\n",
              "      <td>NaN</td>\n",
              "      <td>123</td>\n",
              "      <td>378</td>\n",
              "      <td>168</td>\n",
              "    </tr>\n",
              "  </tbody>\n",
              "</table>\n",
              "</div>"
            ],
            "text/plain": [
              "               80s  90s  2000s  2010s\n",
              "Action        66.0  161   1579   1436\n",
              "Platform      33.0  125    564    151\n",
              "Shooter       30.0  137    717    395\n",
              "Sports        22.0  304   1404    569\n",
              "Puzzle        19.0   71    361    116\n",
              "Role-Playing   9.0  171    729    557\n",
              "Misc           8.0  115   1021    561\n",
              "Racing         8.0  181    797    234\n",
              "Fighting       4.0  193    442    196\n",
              "Simulation     3.0   86    551    209\n",
              "Adventure      2.0   97    632    539\n",
              "Strategy       NaN  123    378    168"
            ]
          },
          "metadata": {
            "tags": []
          },
          "execution_count": 60
        }
      ]
    },
    {
      "cell_type": "code",
      "metadata": {
        "colab": {
          "base_uri": "https://localhost:8080/"
        },
        "id": "f5VTSBR494Pd",
        "outputId": "ac593b46-f194-430f-caa7-0bb266c64ca3"
      },
      "source": [
        "df_Y_v_s=df_Y_v.sum()\n",
        "df_Y_v_s"
      ],
      "execution_count": 34,
      "outputs": [
        {
          "output_type": "execute_result",
          "data": {
            "text/plain": [
              "80s       205.0\n",
              "90s      1769.0\n",
              "2000s    9205.0\n",
              "2010s    5145.0\n",
              "dtype: float64"
            ]
          },
          "metadata": {
            "tags": []
          },
          "execution_count": 34
        }
      ]
    },
    {
      "cell_type": "code",
      "metadata": {
        "colab": {
          "base_uri": "https://localhost:8080/"
        },
        "id": "KiO4Owu--p7_",
        "outputId": "69a71381-bee0-4b2c-9c9b-45ec9a617b49"
      },
      "source": [
        "from scipy.stats import chisquare\n",
        "s,p2=chisquare(df_Y_v_s, axis=None)\n",
        "if(p2<0.05) : \n",
        "    print('귀무가설 H0를 기각한다.', 'p value:', p2.round(2),\"\\n\")\n",
        "else :\n",
        "    print('귀무가설 H0를 기각하지 못한다.', 'p value:', p2.round(2),\"\\n\")"
      ],
      "execution_count": 36,
      "outputs": [
        {
          "output_type": "stream",
          "text": [
            "귀무가설 H0를 기각한다. p value: 0.0 \n",
            "\n"
          ],
          "name": "stdout"
        }
      ]
    },
    {
      "cell_type": "code",
      "metadata": {
        "colab": {
          "base_uri": "https://localhost:8080/"
        },
        "id": "GBpHokbrB2y1",
        "outputId": "b433ced4-b347-4777-a1c0-9c03800edc4e"
      },
      "source": [
        "chi3_val, p3, dof3, expected3 = chi2_contingency(df_Y_t, correction=False)\n",
        "print('Chi^2 값',': ',chi3_val.round(2),\"\\n\")\n",
        "if(p3<0.05) : \n",
        "    print('귀무가설 H0를 기각한다.', 'p value:', p3.round(2),\"\\n\")\n",
        "else :\n",
        "    print('귀무가설 H0를 기각하지 못한다.', 'p value:', p3.round(2),\"\\n\")\n"
      ],
      "execution_count": 51,
      "outputs": [
        {
          "output_type": "stream",
          "text": [
            "Chi^2 값 :  981.34 \n",
            "\n",
            "귀무가설 H0를 기각한다. p value: 0.0 \n",
            "\n"
          ],
          "name": "stdout"
        }
      ]
    }
  ]
}