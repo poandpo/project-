{
  "nbformat": 4,
  "nbformat_minor": 0,
  "metadata": {
    "colab": {
      "name": "project1.ipynb",
      "provenance": [],
      "collapsed_sections": [
        "lHUXDMxbYhar",
        "_13njiQt3H1H"
      ],
      "authorship_tag": "ABX9TyN8Rd7seWsNQ+Ln5VH5XNaF",
      "include_colab_link": true
    },
    "kernelspec": {
      "name": "python3",
      "display_name": "Python 3"
    },
    "language_info": {
      "name": "python"
    }
  },
  "cells": [
    {
      "cell_type": "markdown",
      "metadata": {
        "id": "view-in-github",
        "colab_type": "text"
      },
      "source": [
        "<a href=\"https://colab.research.google.com/github/poandpo/project-/blob/main/project1.ipynb\" target=\"_parent\"><img src=\"https://colab.research.google.com/assets/colab-badge.svg\" alt=\"Open In Colab\"/></a>"
      ]
    },
    {
      "cell_type": "code",
      "metadata": {
        "colab": {
          "base_uri": "https://localhost:8080/"
        },
        "id": "zczSfnZsvacH",
        "outputId": "43873b0d-53a4-46d3-8a34-f30067079da2"
      },
      "source": [
        "!sudo apt-get install -y fonts-nanum\n",
        "!sudo fc-cache -fv\n",
        "!rm ~/.cache/matplotlib -rf"
      ],
      "execution_count": 1,
      "outputs": [
        {
          "output_type": "stream",
          "text": [
            "Reading package lists... Done\n",
            "Building dependency tree       \n",
            "Reading state information... Done\n",
            "The following NEW packages will be installed:\n",
            "  fonts-nanum\n",
            "0 upgraded, 1 newly installed, 0 to remove and 40 not upgraded.\n",
            "Need to get 9,604 kB of archives.\n",
            "After this operation, 29.5 MB of additional disk space will be used.\n",
            "Get:1 http://archive.ubuntu.com/ubuntu bionic/universe amd64 fonts-nanum all 20170925-1 [9,604 kB]\n",
            "Fetched 9,604 kB in 1s (8,510 kB/s)\n",
            "debconf: unable to initialize frontend: Dialog\n",
            "debconf: (No usable dialog-like program is installed, so the dialog based frontend cannot be used. at /usr/share/perl5/Debconf/FrontEnd/Dialog.pm line 76, <> line 1.)\n",
            "debconf: falling back to frontend: Readline\n",
            "debconf: unable to initialize frontend: Readline\n",
            "debconf: (This frontend requires a controlling tty.)\n",
            "debconf: falling back to frontend: Teletype\n",
            "dpkg-preconfigure: unable to re-open stdin: \n",
            "Selecting previously unselected package fonts-nanum.\n",
            "(Reading database ... 160837 files and directories currently installed.)\n",
            "Preparing to unpack .../fonts-nanum_20170925-1_all.deb ...\n",
            "Unpacking fonts-nanum (20170925-1) ...\n",
            "Setting up fonts-nanum (20170925-1) ...\n",
            "Processing triggers for fontconfig (2.12.6-0ubuntu2) ...\n",
            "/usr/share/fonts: caching, new cache contents: 0 fonts, 1 dirs\n",
            "/usr/share/fonts/truetype: caching, new cache contents: 0 fonts, 3 dirs\n",
            "/usr/share/fonts/truetype/humor-sans: caching, new cache contents: 1 fonts, 0 dirs\n",
            "/usr/share/fonts/truetype/liberation: caching, new cache contents: 16 fonts, 0 dirs\n",
            "/usr/share/fonts/truetype/nanum: caching, new cache contents: 10 fonts, 0 dirs\n",
            "/usr/local/share/fonts: caching, new cache contents: 0 fonts, 0 dirs\n",
            "/root/.local/share/fonts: skipping, no such directory\n",
            "/root/.fonts: skipping, no such directory\n",
            "/var/cache/fontconfig: cleaning cache directory\n",
            "/root/.cache/fontconfig: not cleaning non-existent cache directory\n",
            "/root/.fontconfig: not cleaning non-existent cache directory\n",
            "fc-cache: succeeded\n"
          ],
          "name": "stdout"
        }
      ]
    },
    {
      "cell_type": "code",
      "metadata": {
        "colab": {
          "resources": {
            "http://localhost:8080/nbextensions/google.colab/files.js": {
              "data": "Ly8gQ29weXJpZ2h0IDIwMTcgR29vZ2xlIExMQwovLwovLyBMaWNlbnNlZCB1bmRlciB0aGUgQXBhY2hlIExpY2Vuc2UsIFZlcnNpb24gMi4wICh0aGUgIkxpY2Vuc2UiKTsKLy8geW91IG1heSBub3QgdXNlIHRoaXMgZmlsZSBleGNlcHQgaW4gY29tcGxpYW5jZSB3aXRoIHRoZSBMaWNlbnNlLgovLyBZb3UgbWF5IG9idGFpbiBhIGNvcHkgb2YgdGhlIExpY2Vuc2UgYXQKLy8KLy8gICAgICBodHRwOi8vd3d3LmFwYWNoZS5vcmcvbGljZW5zZXMvTElDRU5TRS0yLjAKLy8KLy8gVW5sZXNzIHJlcXVpcmVkIGJ5IGFwcGxpY2FibGUgbGF3IG9yIGFncmVlZCB0byBpbiB3cml0aW5nLCBzb2Z0d2FyZQovLyBkaXN0cmlidXRlZCB1bmRlciB0aGUgTGljZW5zZSBpcyBkaXN0cmlidXRlZCBvbiBhbiAiQVMgSVMiIEJBU0lTLAovLyBXSVRIT1VUIFdBUlJBTlRJRVMgT1IgQ09ORElUSU9OUyBPRiBBTlkgS0lORCwgZWl0aGVyIGV4cHJlc3Mgb3IgaW1wbGllZC4KLy8gU2VlIHRoZSBMaWNlbnNlIGZvciB0aGUgc3BlY2lmaWMgbGFuZ3VhZ2UgZ292ZXJuaW5nIHBlcm1pc3Npb25zIGFuZAovLyBsaW1pdGF0aW9ucyB1bmRlciB0aGUgTGljZW5zZS4KCi8qKgogKiBAZmlsZW92ZXJ2aWV3IEhlbHBlcnMgZm9yIGdvb2dsZS5jb2xhYiBQeXRob24gbW9kdWxlLgogKi8KKGZ1bmN0aW9uKHNjb3BlKSB7CmZ1bmN0aW9uIHNwYW4odGV4dCwgc3R5bGVBdHRyaWJ1dGVzID0ge30pIHsKICBjb25zdCBlbGVtZW50ID0gZG9jdW1lbnQuY3JlYXRlRWxlbWVudCgnc3BhbicpOwogIGVsZW1lbnQudGV4dENvbnRlbnQgPSB0ZXh0OwogIGZvciAoY29uc3Qga2V5IG9mIE9iamVjdC5rZXlzKHN0eWxlQXR0cmlidXRlcykpIHsKICAgIGVsZW1lbnQuc3R5bGVba2V5XSA9IHN0eWxlQXR0cmlidXRlc1trZXldOwogIH0KICByZXR1cm4gZWxlbWVudDsKfQoKLy8gTWF4IG51bWJlciBvZiBieXRlcyB3aGljaCB3aWxsIGJlIHVwbG9hZGVkIGF0IGEgdGltZS4KY29uc3QgTUFYX1BBWUxPQURfU0laRSA9IDEwMCAqIDEwMjQ7CgpmdW5jdGlvbiBfdXBsb2FkRmlsZXMoaW5wdXRJZCwgb3V0cHV0SWQpIHsKICBjb25zdCBzdGVwcyA9IHVwbG9hZEZpbGVzU3RlcChpbnB1dElkLCBvdXRwdXRJZCk7CiAgY29uc3Qgb3V0cHV0RWxlbWVudCA9IGRvY3VtZW50LmdldEVsZW1lbnRCeUlkKG91dHB1dElkKTsKICAvLyBDYWNoZSBzdGVwcyBvbiB0aGUgb3V0cHV0RWxlbWVudCB0byBtYWtlIGl0IGF2YWlsYWJsZSBmb3IgdGhlIG5leHQgY2FsbAogIC8vIHRvIHVwbG9hZEZpbGVzQ29udGludWUgZnJvbSBQeXRob24uCiAgb3V0cHV0RWxlbWVudC5zdGVwcyA9IHN0ZXBzOwoKICByZXR1cm4gX3VwbG9hZEZpbGVzQ29udGludWUob3V0cHV0SWQpOwp9CgovLyBUaGlzIGlzIHJvdWdobHkgYW4gYXN5bmMgZ2VuZXJhdG9yIChub3Qgc3VwcG9ydGVkIGluIHRoZSBicm93c2VyIHlldCksCi8vIHdoZXJlIHRoZXJlIGFyZSBtdWx0aXBsZSBhc3luY2hyb25vdXMgc3RlcHMgYW5kIHRoZSBQeXRob24gc2lkZSBpcyBnb2luZwovLyB0byBwb2xsIGZvciBjb21wbGV0aW9uIG9mIGVhY2ggc3RlcC4KLy8gVGhpcyB1c2VzIGEgUHJvbWlzZSB0byBibG9jayB0aGUgcHl0aG9uIHNpZGUgb24gY29tcGxldGlvbiBvZiBlYWNoIHN0ZXAsCi8vIHRoZW4gcGFzc2VzIHRoZSByZXN1bHQgb2YgdGhlIHByZXZpb3VzIHN0ZXAgYXMgdGhlIGlucHV0IHRvIHRoZSBuZXh0IHN0ZXAuCmZ1bmN0aW9uIF91cGxvYWRGaWxlc0NvbnRpbnVlKG91dHB1dElkKSB7CiAgY29uc3Qgb3V0cHV0RWxlbWVudCA9IGRvY3VtZW50LmdldEVsZW1lbnRCeUlkKG91dHB1dElkKTsKICBjb25zdCBzdGVwcyA9IG91dHB1dEVsZW1lbnQuc3RlcHM7CgogIGNvbnN0IG5leHQgPSBzdGVwcy5uZXh0KG91dHB1dEVsZW1lbnQubGFzdFByb21pc2VWYWx1ZSk7CiAgcmV0dXJuIFByb21pc2UucmVzb2x2ZShuZXh0LnZhbHVlLnByb21pc2UpLnRoZW4oKHZhbHVlKSA9PiB7CiAgICAvLyBDYWNoZSB0aGUgbGFzdCBwcm9taXNlIHZhbHVlIHRvIG1ha2UgaXQgYXZhaWxhYmxlIHRvIHRoZSBuZXh0CiAgICAvLyBzdGVwIG9mIHRoZSBnZW5lcmF0b3IuCiAgICBvdXRwdXRFbGVtZW50Lmxhc3RQcm9taXNlVmFsdWUgPSB2YWx1ZTsKICAgIHJldHVybiBuZXh0LnZhbHVlLnJlc3BvbnNlOwogIH0pOwp9CgovKioKICogR2VuZXJhdG9yIGZ1bmN0aW9uIHdoaWNoIGlzIGNhbGxlZCBiZXR3ZWVuIGVhY2ggYXN5bmMgc3RlcCBvZiB0aGUgdXBsb2FkCiAqIHByb2Nlc3MuCiAqIEBwYXJhbSB7c3RyaW5nfSBpbnB1dElkIEVsZW1lbnQgSUQgb2YgdGhlIGlucHV0IGZpbGUgcGlja2VyIGVsZW1lbnQuCiAqIEBwYXJhbSB7c3RyaW5nfSBvdXRwdXRJZCBFbGVtZW50IElEIG9mIHRoZSBvdXRwdXQgZGlzcGxheS4KICogQHJldHVybiB7IUl0ZXJhYmxlPCFPYmplY3Q+fSBJdGVyYWJsZSBvZiBuZXh0IHN0ZXBzLgogKi8KZnVuY3Rpb24qIHVwbG9hZEZpbGVzU3RlcChpbnB1dElkLCBvdXRwdXRJZCkgewogIGNvbnN0IGlucHV0RWxlbWVudCA9IGRvY3VtZW50LmdldEVsZW1lbnRCeUlkKGlucHV0SWQpOwogIGlucHV0RWxlbWVudC5kaXNhYmxlZCA9IGZhbHNlOwoKICBjb25zdCBvdXRwdXRFbGVtZW50ID0gZG9jdW1lbnQuZ2V0RWxlbWVudEJ5SWQob3V0cHV0SWQpOwogIG91dHB1dEVsZW1lbnQuaW5uZXJIVE1MID0gJyc7CgogIGNvbnN0IHBpY2tlZFByb21pc2UgPSBuZXcgUHJvbWlzZSgocmVzb2x2ZSkgPT4gewogICAgaW5wdXRFbGVtZW50LmFkZEV2ZW50TGlzdGVuZXIoJ2NoYW5nZScsIChlKSA9PiB7CiAgICAgIHJlc29sdmUoZS50YXJnZXQuZmlsZXMpOwogICAgfSk7CiAgfSk7CgogIGNvbnN0IGNhbmNlbCA9IGRvY3VtZW50LmNyZWF0ZUVsZW1lbnQoJ2J1dHRvbicpOwogIGlucHV0RWxlbWVudC5wYXJlbnRFbGVtZW50LmFwcGVuZENoaWxkKGNhbmNlbCk7CiAgY2FuY2VsLnRleHRDb250ZW50ID0gJ0NhbmNlbCB1cGxvYWQnOwogIGNvbnN0IGNhbmNlbFByb21pc2UgPSBuZXcgUHJvbWlzZSgocmVzb2x2ZSkgPT4gewogICAgY2FuY2VsLm9uY2xpY2sgPSAoKSA9PiB7CiAgICAgIHJlc29sdmUobnVsbCk7CiAgICB9OwogIH0pOwoKICAvLyBXYWl0IGZvciB0aGUgdXNlciB0byBwaWNrIHRoZSBmaWxlcy4KICBjb25zdCBmaWxlcyA9IHlpZWxkIHsKICAgIHByb21pc2U6IFByb21pc2UucmFjZShbcGlja2VkUHJvbWlzZSwgY2FuY2VsUHJvbWlzZV0pLAogICAgcmVzcG9uc2U6IHsKICAgICAgYWN0aW9uOiAnc3RhcnRpbmcnLAogICAgfQogIH07CgogIGNhbmNlbC5yZW1vdmUoKTsKCiAgLy8gRGlzYWJsZSB0aGUgaW5wdXQgZWxlbWVudCBzaW5jZSBmdXJ0aGVyIHBpY2tzIGFyZSBub3QgYWxsb3dlZC4KICBpbnB1dEVsZW1lbnQuZGlzYWJsZWQgPSB0cnVlOwoKICBpZiAoIWZpbGVzKSB7CiAgICByZXR1cm4gewogICAgICByZXNwb25zZTogewogICAgICAgIGFjdGlvbjogJ2NvbXBsZXRlJywKICAgICAgfQogICAgfTsKICB9CgogIGZvciAoY29uc3QgZmlsZSBvZiBmaWxlcykgewogICAgY29uc3QgbGkgPSBkb2N1bWVudC5jcmVhdGVFbGVtZW50KCdsaScpOwogICAgbGkuYXBwZW5kKHNwYW4oZmlsZS5uYW1lLCB7Zm9udFdlaWdodDogJ2JvbGQnfSkpOwogICAgbGkuYXBwZW5kKHNwYW4oCiAgICAgICAgYCgke2ZpbGUudHlwZSB8fCAnbi9hJ30pIC0gJHtmaWxlLnNpemV9IGJ5dGVzLCBgICsKICAgICAgICBgbGFzdCBtb2RpZmllZDogJHsKICAgICAgICAgICAgZmlsZS5sYXN0TW9kaWZpZWREYXRlID8gZmlsZS5sYXN0TW9kaWZpZWREYXRlLnRvTG9jYWxlRGF0ZVN0cmluZygpIDoKICAgICAgICAgICAgICAgICAgICAgICAgICAgICAgICAgICAgJ24vYSd9IC0gYCkpOwogICAgY29uc3QgcGVyY2VudCA9IHNwYW4oJzAlIGRvbmUnKTsKICAgIGxpLmFwcGVuZENoaWxkKHBlcmNlbnQpOwoKICAgIG91dHB1dEVsZW1lbnQuYXBwZW5kQ2hpbGQobGkpOwoKICAgIGNvbnN0IGZpbGVEYXRhUHJvbWlzZSA9IG5ldyBQcm9taXNlKChyZXNvbHZlKSA9PiB7CiAgICAgIGNvbnN0IHJlYWRlciA9IG5ldyBGaWxlUmVhZGVyKCk7CiAgICAgIHJlYWRlci5vbmxvYWQgPSAoZSkgPT4gewogICAgICAgIHJlc29sdmUoZS50YXJnZXQucmVzdWx0KTsKICAgICAgfTsKICAgICAgcmVhZGVyLnJlYWRBc0FycmF5QnVmZmVyKGZpbGUpOwogICAgfSk7CiAgICAvLyBXYWl0IGZvciB0aGUgZGF0YSB0byBiZSByZWFkeS4KICAgIGxldCBmaWxlRGF0YSA9IHlpZWxkIHsKICAgICAgcHJvbWlzZTogZmlsZURhdGFQcm9taXNlLAogICAgICByZXNwb25zZTogewogICAgICAgIGFjdGlvbjogJ2NvbnRpbnVlJywKICAgICAgfQogICAgfTsKCiAgICAvLyBVc2UgYSBjaHVua2VkIHNlbmRpbmcgdG8gYXZvaWQgbWVzc2FnZSBzaXplIGxpbWl0cy4gU2VlIGIvNjIxMTU2NjAuCiAgICBsZXQgcG9zaXRpb24gPSAwOwogICAgZG8gewogICAgICBjb25zdCBsZW5ndGggPSBNYXRoLm1pbihmaWxlRGF0YS5ieXRlTGVuZ3RoIC0gcG9zaXRpb24sIE1BWF9QQVlMT0FEX1NJWkUpOwogICAgICBjb25zdCBjaHVuayA9IG5ldyBVaW50OEFycmF5KGZpbGVEYXRhLCBwb3NpdGlvbiwgbGVuZ3RoKTsKICAgICAgcG9zaXRpb24gKz0gbGVuZ3RoOwoKICAgICAgY29uc3QgYmFzZTY0ID0gYnRvYShTdHJpbmcuZnJvbUNoYXJDb2RlLmFwcGx5KG51bGwsIGNodW5rKSk7CiAgICAgIHlpZWxkIHsKICAgICAgICByZXNwb25zZTogewogICAgICAgICAgYWN0aW9uOiAnYXBwZW5kJywKICAgICAgICAgIGZpbGU6IGZpbGUubmFtZSwKICAgICAgICAgIGRhdGE6IGJhc2U2NCwKICAgICAgICB9LAogICAgICB9OwoKICAgICAgbGV0IHBlcmNlbnREb25lID0gZmlsZURhdGEuYnl0ZUxlbmd0aCA9PT0gMCA/CiAgICAgICAgICAxMDAgOgogICAgICAgICAgTWF0aC5yb3VuZCgocG9zaXRpb24gLyBmaWxlRGF0YS5ieXRlTGVuZ3RoKSAqIDEwMCk7CiAgICAgIHBlcmNlbnQudGV4dENvbnRlbnQgPSBgJHtwZXJjZW50RG9uZX0lIGRvbmVgOwoKICAgIH0gd2hpbGUgKHBvc2l0aW9uIDwgZmlsZURhdGEuYnl0ZUxlbmd0aCk7CiAgfQoKICAvLyBBbGwgZG9uZS4KICB5aWVsZCB7CiAgICByZXNwb25zZTogewogICAgICBhY3Rpb246ICdjb21wbGV0ZScsCiAgICB9CiAgfTsKfQoKc2NvcGUuZ29vZ2xlID0gc2NvcGUuZ29vZ2xlIHx8IHt9OwpzY29wZS5nb29nbGUuY29sYWIgPSBzY29wZS5nb29nbGUuY29sYWIgfHwge307CnNjb3BlLmdvb2dsZS5jb2xhYi5fZmlsZXMgPSB7CiAgX3VwbG9hZEZpbGVzLAogIF91cGxvYWRGaWxlc0NvbnRpbnVlLAp9Owp9KShzZWxmKTsK",
              "ok": true,
              "headers": [
                [
                  "content-type",
                  "application/javascript"
                ]
              ],
              "status": 200,
              "status_text": ""
            }
          },
          "base_uri": "https://localhost:8080/",
          "height": 76
        },
        "id": "rsF9SVpcbmuE",
        "outputId": "8021980f-c2a4-4872-b4d1-187fdb17f628"
      },
      "source": [
        "from google.colab import files\n",
        "uploaded = files.upload()"
      ],
      "execution_count": 1,
      "outputs": [
        {
          "output_type": "display_data",
          "data": {
            "text/html": [
              "\n",
              "     <input type=\"file\" id=\"files-2bd257b4-0396-4991-a543-0a11e985c3f9\" name=\"files[]\" multiple disabled\n",
              "        style=\"border:none\" />\n",
              "     <output id=\"result-2bd257b4-0396-4991-a543-0a11e985c3f9\">\n",
              "      Upload widget is only available when the cell has been executed in the\n",
              "      current browser session. Please rerun this cell to enable.\n",
              "      </output>\n",
              "      <script src=\"/nbextensions/google.colab/files.js\"></script> "
            ],
            "text/plain": [
              "<IPython.core.display.HTML object>"
            ]
          },
          "metadata": {
            "tags": []
          }
        },
        {
          "output_type": "stream",
          "text": [
            "Saving vgames2.csv to vgames2.csv\n"
          ],
          "name": "stdout"
        }
      ]
    },
    {
      "cell_type": "markdown",
      "metadata": {
        "id": "lHUXDMxbYhar"
      },
      "source": [
        "#기본 데이터 전처리"
      ]
    },
    {
      "cell_type": "code",
      "metadata": {
        "colab": {
          "base_uri": "https://localhost:8080/",
          "height": 0
        },
        "id": "E9JwlZ6BDfhu",
        "outputId": "cde67343-46b1-4578-fd8d-79f50f8211f6"
      },
      "source": [
        "import pandas as pd\n",
        "\n",
        "df= pd.read_csv('vgames2.csv', index_col=0) #df로 파일 불러오는데 인덱스를 숫자 있는 열(0행)로 지정\n",
        "df"
      ],
      "execution_count": 2,
      "outputs": [
        {
          "output_type": "execute_result",
          "data": {
            "text/html": [
              "<div>\n",
              "<style scoped>\n",
              "    .dataframe tbody tr th:only-of-type {\n",
              "        vertical-align: middle;\n",
              "    }\n",
              "\n",
              "    .dataframe tbody tr th {\n",
              "        vertical-align: top;\n",
              "    }\n",
              "\n",
              "    .dataframe thead th {\n",
              "        text-align: right;\n",
              "    }\n",
              "</style>\n",
              "<table border=\"1\" class=\"dataframe\">\n",
              "  <thead>\n",
              "    <tr style=\"text-align: right;\">\n",
              "      <th></th>\n",
              "      <th>Name</th>\n",
              "      <th>Platform</th>\n",
              "      <th>Year</th>\n",
              "      <th>Genre</th>\n",
              "      <th>Publisher</th>\n",
              "      <th>NA_Sales</th>\n",
              "      <th>EU_Sales</th>\n",
              "      <th>JP_Sales</th>\n",
              "      <th>Other_Sales</th>\n",
              "    </tr>\n",
              "  </thead>\n",
              "  <tbody>\n",
              "    <tr>\n",
              "      <th>1</th>\n",
              "      <td>Candace Kane's Candy Factory</td>\n",
              "      <td>DS</td>\n",
              "      <td>2008.0</td>\n",
              "      <td>Action</td>\n",
              "      <td>Destineer</td>\n",
              "      <td>0.04</td>\n",
              "      <td>0</td>\n",
              "      <td>0</td>\n",
              "      <td>0</td>\n",
              "    </tr>\n",
              "    <tr>\n",
              "      <th>2</th>\n",
              "      <td>The Munchables</td>\n",
              "      <td>Wii</td>\n",
              "      <td>2009.0</td>\n",
              "      <td>Action</td>\n",
              "      <td>Namco Bandai Games</td>\n",
              "      <td>0.17</td>\n",
              "      <td>0</td>\n",
              "      <td>0</td>\n",
              "      <td>0.01</td>\n",
              "    </tr>\n",
              "    <tr>\n",
              "      <th>3</th>\n",
              "      <td>Otome wa Oanesama Boku ni Koi Shiteru Portable</td>\n",
              "      <td>PSP</td>\n",
              "      <td>2010.0</td>\n",
              "      <td>Adventure</td>\n",
              "      <td>Alchemist</td>\n",
              "      <td>0</td>\n",
              "      <td>0</td>\n",
              "      <td>0.02</td>\n",
              "      <td>0</td>\n",
              "    </tr>\n",
              "    <tr>\n",
              "      <th>4</th>\n",
              "      <td>Deal or No Deal: Special Edition</td>\n",
              "      <td>DS</td>\n",
              "      <td>2010.0</td>\n",
              "      <td>Misc</td>\n",
              "      <td>Zoo Games</td>\n",
              "      <td>0.04</td>\n",
              "      <td>0</td>\n",
              "      <td>0</td>\n",
              "      <td>0</td>\n",
              "    </tr>\n",
              "    <tr>\n",
              "      <th>5</th>\n",
              "      <td>Ben 10 Ultimate Alien: Cosmic Destruction</td>\n",
              "      <td>PS3</td>\n",
              "      <td>2010.0</td>\n",
              "      <td>Platform</td>\n",
              "      <td>D3Publisher</td>\n",
              "      <td>0.12</td>\n",
              "      <td>0.09</td>\n",
              "      <td>0</td>\n",
              "      <td>0.04</td>\n",
              "    </tr>\n",
              "    <tr>\n",
              "      <th>...</th>\n",
              "      <td>...</td>\n",
              "      <td>...</td>\n",
              "      <td>...</td>\n",
              "      <td>...</td>\n",
              "      <td>...</td>\n",
              "      <td>...</td>\n",
              "      <td>...</td>\n",
              "      <td>...</td>\n",
              "      <td>...</td>\n",
              "    </tr>\n",
              "    <tr>\n",
              "      <th>16594</th>\n",
              "      <td>Ice Age 2: The Meltdown</td>\n",
              "      <td>GC</td>\n",
              "      <td>2006.0</td>\n",
              "      <td>Platform</td>\n",
              "      <td>Vivendi Games</td>\n",
              "      <td>0.15</td>\n",
              "      <td>0.04</td>\n",
              "      <td>0</td>\n",
              "      <td>0.01</td>\n",
              "    </tr>\n",
              "    <tr>\n",
              "      <th>16595</th>\n",
              "      <td>Rainbow Islands: Revolution</td>\n",
              "      <td>PSP</td>\n",
              "      <td>2005.0</td>\n",
              "      <td>Action</td>\n",
              "      <td>Rising Star Games</td>\n",
              "      <td>0.01</td>\n",
              "      <td>0</td>\n",
              "      <td>0</td>\n",
              "      <td>0</td>\n",
              "    </tr>\n",
              "    <tr>\n",
              "      <th>16596</th>\n",
              "      <td>NBA 2K16</td>\n",
              "      <td>PS3</td>\n",
              "      <td>2015.0</td>\n",
              "      <td>Sports</td>\n",
              "      <td>Take-Two Interactive</td>\n",
              "      <td>0.44</td>\n",
              "      <td>0.19</td>\n",
              "      <td>0.03</td>\n",
              "      <td>0.13</td>\n",
              "    </tr>\n",
              "    <tr>\n",
              "      <th>16597</th>\n",
              "      <td>Toukiden: The Age of Demons</td>\n",
              "      <td>PSV</td>\n",
              "      <td>2013.0</td>\n",
              "      <td>Action</td>\n",
              "      <td>Tecmo Koei</td>\n",
              "      <td>0.05</td>\n",
              "      <td>0.05</td>\n",
              "      <td>0.25</td>\n",
              "      <td>0.03</td>\n",
              "    </tr>\n",
              "    <tr>\n",
              "      <th>16598</th>\n",
              "      <td>The King of Fighters '95</td>\n",
              "      <td>PS</td>\n",
              "      <td>1996.0</td>\n",
              "      <td>Fighting</td>\n",
              "      <td>Sony Computer Entertainment</td>\n",
              "      <td>0</td>\n",
              "      <td>0</td>\n",
              "      <td>0.16</td>\n",
              "      <td>0.01</td>\n",
              "    </tr>\n",
              "  </tbody>\n",
              "</table>\n",
              "<p>16598 rows × 9 columns</p>\n",
              "</div>"
            ],
            "text/plain": [
              "                                                 Name  ... Other_Sales\n",
              "1                        Candace Kane's Candy Factory  ...           0\n",
              "2                                      The Munchables  ...        0.01\n",
              "3      Otome wa Oanesama Boku ni Koi Shiteru Portable  ...           0\n",
              "4                    Deal or No Deal: Special Edition  ...           0\n",
              "5           Ben 10 Ultimate Alien: Cosmic Destruction  ...        0.04\n",
              "...                                               ...  ...         ...\n",
              "16594                         Ice Age 2: The Meltdown  ...        0.01\n",
              "16595                     Rainbow Islands: Revolution  ...           0\n",
              "16596                                        NBA 2K16  ...        0.13\n",
              "16597                     Toukiden: The Age of Demons  ...        0.03\n",
              "16598                        The King of Fighters '95  ...        0.01\n",
              "\n",
              "[16598 rows x 9 columns]"
            ]
          },
          "metadata": {
            "tags": []
          },
          "execution_count": 2
        }
      ]
    },
    {
      "cell_type": "code",
      "metadata": {
        "id": "9tS5GP062LpO"
      },
      "source": [
        "df.isnull().sum() # 결측치 확인\n",
        "df['Year']=df['Year'].fillna(0).replace('N/A',0).astype(int) # Year 피쳐에 결측지 0으로 대체하고 N/A를 0으로 대체하고 정수형 타입으로 변환\n",
        "df[['Genre','Publisher' ]]=df[['Genre','Publisher' ]].fillna('unknown') #Genre,Publisher 피쳐의 결측치를 unknown으로 대체\n",
        "#df['Platform']=df['Platform'].replace('챕','e') \n",
        "\n"
      ],
      "execution_count": 3,
      "outputs": []
    },
    {
      "cell_type": "code",
      "metadata": {
        "id": "Usg_kltxKk-U"
      },
      "source": [
        "def value_to_float(x):\n",
        "    if 'K' in x:\n",
        "       return float(x.replace('K', '')) * 0.001\n",
        "    elif 'M' in x: \n",
        "       return float(x.replace('M', ''))\n",
        "    else:\n",
        "       return float(x)\n",
        "\n",
        "df['NA_Sales']=df['NA_Sales'].apply(value_to_float)\n",
        "df['EU_Sales']=df['EU_Sales'].apply(value_to_float)\n",
        "df['JP_Sales']=df['JP_Sales'].apply(value_to_float)\n",
        "df['Other_Sales']=df['Other_Sales'].apply(value_to_float)\n",
        "#출고량 피쳐에서 'M'을 빼고 정수형으로 바꾸고, 'K'를 빼고 0,0001를 곱하여 단위를 맞춤"
      ],
      "execution_count": 4,
      "outputs": []
    },
    {
      "cell_type": "code",
      "metadata": {
        "colab": {
          "base_uri": "https://localhost:8080/"
        },
        "id": "ul8JNCafA6lP",
        "outputId": "b38b8655-4f15-4ec9-ac76-f48180f1366d"
      },
      "source": [
        "df.dtypes #타입 잘 바뀌었는지 확인"
      ],
      "execution_count": 5,
      "outputs": [
        {
          "output_type": "execute_result",
          "data": {
            "text/plain": [
              "Name            object\n",
              "Platform        object\n",
              "Year             int64\n",
              "Genre           object\n",
              "Publisher       object\n",
              "NA_Sales       float64\n",
              "EU_Sales       float64\n",
              "JP_Sales       float64\n",
              "Other_Sales    float64\n",
              "dtype: object"
            ]
          },
          "metadata": {
            "tags": []
          },
          "execution_count": 5
        }
      ]
    },
    {
      "cell_type": "code",
      "metadata": {
        "id": "cCMfKk8tRezW"
      },
      "source": [
        "def value_to_year(x):\n",
        "   if x in range(1,20):\n",
        "      return x + 2000  \n",
        "   elif x in range(80,100):\n",
        "      return x + 1900   \n",
        "   else :   \n",
        "      return x\n",
        "\n",
        "df['Year']=df['Year'].apply(value_to_year) # 97이나 9같은 한 두자리 숫자를 1997,2009으로 바꿈"
      ],
      "execution_count": 6,
      "outputs": []
    },
    {
      "cell_type": "code",
      "metadata": {
        "id": "jbFYUKwiCDUd",
        "colab": {
          "base_uri": "https://localhost:8080/"
        },
        "outputId": "b04292a1-1441-4c9f-fb4b-a5d76cef96b7"
      },
      "source": [
        "df['Year'].iloc[81] # 잘 바뀌었는지 확인"
      ],
      "execution_count": 7,
      "outputs": [
        {
          "output_type": "execute_result",
          "data": {
            "text/plain": [
              "1997"
            ]
          },
          "metadata": {
            "tags": []
          },
          "execution_count": 7
        }
      ]
    },
    {
      "cell_type": "code",
      "metadata": {
        "colab": {
          "base_uri": "https://localhost:8080/",
          "height": 0
        },
        "id": "LO1ZTOWBcZMr",
        "outputId": "f0db0184-daa0-4746-baf5-17eee1e0e72b"
      },
      "source": [
        "df['Total_sales']= df['NA_Sales']+df['EU_Sales']+df['JP_Sales']+df['Other_Sales']\n",
        "df \n",
        "# 모든 지역 출고량의 합 피쳐를 만든"
      ],
      "execution_count": 8,
      "outputs": [
        {
          "output_type": "execute_result",
          "data": {
            "text/html": [
              "<div>\n",
              "<style scoped>\n",
              "    .dataframe tbody tr th:only-of-type {\n",
              "        vertical-align: middle;\n",
              "    }\n",
              "\n",
              "    .dataframe tbody tr th {\n",
              "        vertical-align: top;\n",
              "    }\n",
              "\n",
              "    .dataframe thead th {\n",
              "        text-align: right;\n",
              "    }\n",
              "</style>\n",
              "<table border=\"1\" class=\"dataframe\">\n",
              "  <thead>\n",
              "    <tr style=\"text-align: right;\">\n",
              "      <th></th>\n",
              "      <th>Name</th>\n",
              "      <th>Platform</th>\n",
              "      <th>Year</th>\n",
              "      <th>Genre</th>\n",
              "      <th>Publisher</th>\n",
              "      <th>NA_Sales</th>\n",
              "      <th>EU_Sales</th>\n",
              "      <th>JP_Sales</th>\n",
              "      <th>Other_Sales</th>\n",
              "      <th>Total_sales</th>\n",
              "    </tr>\n",
              "  </thead>\n",
              "  <tbody>\n",
              "    <tr>\n",
              "      <th>1</th>\n",
              "      <td>Candace Kane's Candy Factory</td>\n",
              "      <td>DS</td>\n",
              "      <td>2008</td>\n",
              "      <td>Action</td>\n",
              "      <td>Destineer</td>\n",
              "      <td>0.04</td>\n",
              "      <td>0.00</td>\n",
              "      <td>0.00</td>\n",
              "      <td>0.00</td>\n",
              "      <td>0.04</td>\n",
              "    </tr>\n",
              "    <tr>\n",
              "      <th>2</th>\n",
              "      <td>The Munchables</td>\n",
              "      <td>Wii</td>\n",
              "      <td>2009</td>\n",
              "      <td>Action</td>\n",
              "      <td>Namco Bandai Games</td>\n",
              "      <td>0.17</td>\n",
              "      <td>0.00</td>\n",
              "      <td>0.00</td>\n",
              "      <td>0.01</td>\n",
              "      <td>0.18</td>\n",
              "    </tr>\n",
              "    <tr>\n",
              "      <th>3</th>\n",
              "      <td>Otome wa Oanesama Boku ni Koi Shiteru Portable</td>\n",
              "      <td>PSP</td>\n",
              "      <td>2010</td>\n",
              "      <td>Adventure</td>\n",
              "      <td>Alchemist</td>\n",
              "      <td>0.00</td>\n",
              "      <td>0.00</td>\n",
              "      <td>0.02</td>\n",
              "      <td>0.00</td>\n",
              "      <td>0.02</td>\n",
              "    </tr>\n",
              "    <tr>\n",
              "      <th>4</th>\n",
              "      <td>Deal or No Deal: Special Edition</td>\n",
              "      <td>DS</td>\n",
              "      <td>2010</td>\n",
              "      <td>Misc</td>\n",
              "      <td>Zoo Games</td>\n",
              "      <td>0.04</td>\n",
              "      <td>0.00</td>\n",
              "      <td>0.00</td>\n",
              "      <td>0.00</td>\n",
              "      <td>0.04</td>\n",
              "    </tr>\n",
              "    <tr>\n",
              "      <th>5</th>\n",
              "      <td>Ben 10 Ultimate Alien: Cosmic Destruction</td>\n",
              "      <td>PS3</td>\n",
              "      <td>2010</td>\n",
              "      <td>Platform</td>\n",
              "      <td>D3Publisher</td>\n",
              "      <td>0.12</td>\n",
              "      <td>0.09</td>\n",
              "      <td>0.00</td>\n",
              "      <td>0.04</td>\n",
              "      <td>0.25</td>\n",
              "    </tr>\n",
              "    <tr>\n",
              "      <th>...</th>\n",
              "      <td>...</td>\n",
              "      <td>...</td>\n",
              "      <td>...</td>\n",
              "      <td>...</td>\n",
              "      <td>...</td>\n",
              "      <td>...</td>\n",
              "      <td>...</td>\n",
              "      <td>...</td>\n",
              "      <td>...</td>\n",
              "      <td>...</td>\n",
              "    </tr>\n",
              "    <tr>\n",
              "      <th>16594</th>\n",
              "      <td>Ice Age 2: The Meltdown</td>\n",
              "      <td>GC</td>\n",
              "      <td>2006</td>\n",
              "      <td>Platform</td>\n",
              "      <td>Vivendi Games</td>\n",
              "      <td>0.15</td>\n",
              "      <td>0.04</td>\n",
              "      <td>0.00</td>\n",
              "      <td>0.01</td>\n",
              "      <td>0.20</td>\n",
              "    </tr>\n",
              "    <tr>\n",
              "      <th>16595</th>\n",
              "      <td>Rainbow Islands: Revolution</td>\n",
              "      <td>PSP</td>\n",
              "      <td>2005</td>\n",
              "      <td>Action</td>\n",
              "      <td>Rising Star Games</td>\n",
              "      <td>0.01</td>\n",
              "      <td>0.00</td>\n",
              "      <td>0.00</td>\n",
              "      <td>0.00</td>\n",
              "      <td>0.01</td>\n",
              "    </tr>\n",
              "    <tr>\n",
              "      <th>16596</th>\n",
              "      <td>NBA 2K16</td>\n",
              "      <td>PS3</td>\n",
              "      <td>2015</td>\n",
              "      <td>Sports</td>\n",
              "      <td>Take-Two Interactive</td>\n",
              "      <td>0.44</td>\n",
              "      <td>0.19</td>\n",
              "      <td>0.03</td>\n",
              "      <td>0.13</td>\n",
              "      <td>0.79</td>\n",
              "    </tr>\n",
              "    <tr>\n",
              "      <th>16597</th>\n",
              "      <td>Toukiden: The Age of Demons</td>\n",
              "      <td>PSV</td>\n",
              "      <td>2013</td>\n",
              "      <td>Action</td>\n",
              "      <td>Tecmo Koei</td>\n",
              "      <td>0.05</td>\n",
              "      <td>0.05</td>\n",
              "      <td>0.25</td>\n",
              "      <td>0.03</td>\n",
              "      <td>0.38</td>\n",
              "    </tr>\n",
              "    <tr>\n",
              "      <th>16598</th>\n",
              "      <td>The King of Fighters '95</td>\n",
              "      <td>PS</td>\n",
              "      <td>1996</td>\n",
              "      <td>Fighting</td>\n",
              "      <td>Sony Computer Entertainment</td>\n",
              "      <td>0.00</td>\n",
              "      <td>0.00</td>\n",
              "      <td>0.16</td>\n",
              "      <td>0.01</td>\n",
              "      <td>0.17</td>\n",
              "    </tr>\n",
              "  </tbody>\n",
              "</table>\n",
              "<p>16598 rows × 10 columns</p>\n",
              "</div>"
            ],
            "text/plain": [
              "                                                 Name  ... Total_sales\n",
              "1                        Candace Kane's Candy Factory  ...        0.04\n",
              "2                                      The Munchables  ...        0.18\n",
              "3      Otome wa Oanesama Boku ni Koi Shiteru Portable  ...        0.02\n",
              "4                    Deal or No Deal: Special Edition  ...        0.04\n",
              "5           Ben 10 Ultimate Alien: Cosmic Destruction  ...        0.25\n",
              "...                                               ...  ...         ...\n",
              "16594                         Ice Age 2: The Meltdown  ...        0.20\n",
              "16595                     Rainbow Islands: Revolution  ...        0.01\n",
              "16596                                        NBA 2K16  ...        0.79\n",
              "16597                     Toukiden: The Age of Demons  ...        0.38\n",
              "16598                        The King of Fighters '95  ...        0.17\n",
              "\n",
              "[16598 rows x 10 columns]"
            ]
          },
          "metadata": {
            "tags": []
          },
          "execution_count": 8
        }
      ]
    },
    {
      "cell_type": "markdown",
      "metadata": {
        "id": "_13njiQt3H1H"
      },
      "source": [
        "#지역에 따라서 선호하는 게임 장르가 다를까\n",
        "1. 장르별로 모아서 각 나라의 출고량의 총합들 계산\n",
        "2. 총합 시각화"
      ]
    },
    {
      "cell_type": "code",
      "metadata": {
        "colab": {
          "base_uri": "https://localhost:8080/"
        },
        "id": "QSHe87CB3RNk",
        "outputId": "e6be9ec7-212f-4c2d-81bc-31170f851d57"
      },
      "source": [
        "df['Genre'].value_counts(dropna = False) # 장르별 빈도 "
      ],
      "execution_count": 9,
      "outputs": [
        {
          "output_type": "execute_result",
          "data": {
            "text/plain": [
              "Action          3305\n",
              "Sports          2341\n",
              "Misc            1734\n",
              "Role-Playing    1483\n",
              "Shooter         1308\n",
              "Adventure       1280\n",
              "Racing          1243\n",
              "Platform         884\n",
              "Simulation       865\n",
              "Fighting         847\n",
              "Strategy         680\n",
              "Puzzle           578\n",
              "unknown           50\n",
              "Name: Genre, dtype: int64"
            ]
          },
          "metadata": {
            "tags": []
          },
          "execution_count": 9
        }
      ]
    },
    {
      "cell_type": "code",
      "metadata": {
        "id": "UEGJB-aNEvV_"
      },
      "source": [
        "df_g= df.sort_values(by=['Genre'], axis=0).reset_index(drop=True)[['Genre','NA_Sales',\t'EU_Sales',\t'JP_Sales',\t'Other_Sales' ]]\n"
      ],
      "execution_count": 10,
      "outputs": []
    },
    {
      "cell_type": "code",
      "metadata": {
        "colab": {
          "base_uri": "https://localhost:8080/",
          "height": 419
        },
        "id": "a4Gwgn5ymPrS",
        "outputId": "34dd7cea-544d-4783-a1cb-32c971484de7"
      },
      "source": [
        "df_g"
      ],
      "execution_count": 11,
      "outputs": [
        {
          "output_type": "execute_result",
          "data": {
            "text/html": [
              "<div>\n",
              "<style scoped>\n",
              "    .dataframe tbody tr th:only-of-type {\n",
              "        vertical-align: middle;\n",
              "    }\n",
              "\n",
              "    .dataframe tbody tr th {\n",
              "        vertical-align: top;\n",
              "    }\n",
              "\n",
              "    .dataframe thead th {\n",
              "        text-align: right;\n",
              "    }\n",
              "</style>\n",
              "<table border=\"1\" class=\"dataframe\">\n",
              "  <thead>\n",
              "    <tr style=\"text-align: right;\">\n",
              "      <th></th>\n",
              "      <th>Genre</th>\n",
              "      <th>NA_Sales</th>\n",
              "      <th>EU_Sales</th>\n",
              "      <th>JP_Sales</th>\n",
              "      <th>Other_Sales</th>\n",
              "    </tr>\n",
              "  </thead>\n",
              "  <tbody>\n",
              "    <tr>\n",
              "      <th>0</th>\n",
              "      <td>Action</td>\n",
              "      <td>0.04</td>\n",
              "      <td>0.00</td>\n",
              "      <td>0.00</td>\n",
              "      <td>0.00</td>\n",
              "    </tr>\n",
              "    <tr>\n",
              "      <th>1</th>\n",
              "      <td>Action</td>\n",
              "      <td>0.00</td>\n",
              "      <td>0.00</td>\n",
              "      <td>0.11</td>\n",
              "      <td>0.00</td>\n",
              "    </tr>\n",
              "    <tr>\n",
              "      <th>2</th>\n",
              "      <td>Action</td>\n",
              "      <td>0.29</td>\n",
              "      <td>0.28</td>\n",
              "      <td>0.00</td>\n",
              "      <td>0.06</td>\n",
              "    </tr>\n",
              "    <tr>\n",
              "      <th>3</th>\n",
              "      <td>Action</td>\n",
              "      <td>0.04</td>\n",
              "      <td>0.02</td>\n",
              "      <td>0.00</td>\n",
              "      <td>0.00</td>\n",
              "    </tr>\n",
              "    <tr>\n",
              "      <th>4</th>\n",
              "      <td>Action</td>\n",
              "      <td>0.16</td>\n",
              "      <td>0.05</td>\n",
              "      <td>0.00</td>\n",
              "      <td>0.02</td>\n",
              "    </tr>\n",
              "    <tr>\n",
              "      <th>...</th>\n",
              "      <td>...</td>\n",
              "      <td>...</td>\n",
              "      <td>...</td>\n",
              "      <td>...</td>\n",
              "      <td>...</td>\n",
              "    </tr>\n",
              "    <tr>\n",
              "      <th>16593</th>\n",
              "      <td>unknown</td>\n",
              "      <td>0.46</td>\n",
              "      <td>0.03</td>\n",
              "      <td>0.00</td>\n",
              "      <td>0.01</td>\n",
              "    </tr>\n",
              "    <tr>\n",
              "      <th>16594</th>\n",
              "      <td>unknown</td>\n",
              "      <td>5.17</td>\n",
              "      <td>4.05</td>\n",
              "      <td>4.34</td>\n",
              "      <td>0.79</td>\n",
              "    </tr>\n",
              "    <tr>\n",
              "      <th>16595</th>\n",
              "      <td>unknown</td>\n",
              "      <td>0.13</td>\n",
              "      <td>0.05</td>\n",
              "      <td>0.00</td>\n",
              "      <td>0.00</td>\n",
              "    </tr>\n",
              "    <tr>\n",
              "      <th>16596</th>\n",
              "      <td>unknown</td>\n",
              "      <td>0.00</td>\n",
              "      <td>0.02</td>\n",
              "      <td>0.00</td>\n",
              "      <td>0.00</td>\n",
              "    </tr>\n",
              "    <tr>\n",
              "      <th>16597</th>\n",
              "      <td>unknown</td>\n",
              "      <td>0.35</td>\n",
              "      <td>0.52</td>\n",
              "      <td>0.00</td>\n",
              "      <td>0.22</td>\n",
              "    </tr>\n",
              "  </tbody>\n",
              "</table>\n",
              "<p>16598 rows × 5 columns</p>\n",
              "</div>"
            ],
            "text/plain": [
              "         Genre  NA_Sales  EU_Sales  JP_Sales  Other_Sales\n",
              "0       Action      0.04      0.00      0.00         0.00\n",
              "1       Action      0.00      0.00      0.11         0.00\n",
              "2       Action      0.29      0.28      0.00         0.06\n",
              "3       Action      0.04      0.02      0.00         0.00\n",
              "4       Action      0.16      0.05      0.00         0.02\n",
              "...        ...       ...       ...       ...          ...\n",
              "16593  unknown      0.46      0.03      0.00         0.01\n",
              "16594  unknown      5.17      4.05      4.34         0.79\n",
              "16595  unknown      0.13      0.05      0.00         0.00\n",
              "16596  unknown      0.00      0.02      0.00         0.00\n",
              "16597  unknown      0.35      0.52      0.00         0.22\n",
              "\n",
              "[16598 rows x 5 columns]"
            ]
          },
          "metadata": {
            "tags": []
          },
          "execution_count": 11
        }
      ]
    },
    {
      "cell_type": "code",
      "metadata": {
        "id": "od4aaszhP_O0"
      },
      "source": [
        "a=df_g[df_g['Genre'].isin(['Action'])].sum()\n",
        "b=df_g[df_g['Genre'].isin(['Sports'])].sum()\n",
        "c=df_g[df_g['Genre'].isin(['Misc'])].sum()\n",
        "d=df_g[df_g['Genre'].isin(['Role-Playing'])].sum()\n",
        "e=df_g[df_g['Genre'].isin(['Shooter'])].sum()\n",
        "f=df_g[df_g['Genre'].isin(['Adventure'])].sum()\n",
        "g=df_g[df_g['Genre'].isin(['Racing'])].sum()\n",
        "h=df_g[df_g['Genre'].isin(['Platform'])].sum()\n",
        "i=df_g[df_g['Genre'].isin(['Simulation'])].sum()\n",
        "j=df_g[df_g['Genre'].isin(['Fighting'])].sum()\n",
        "k=df_g[df_g['Genre'].isin(['Strategy'])].sum()\n",
        "l=df_g[df_g['Genre'].isin(['Puzzle'])].sum()\n"
      ],
      "execution_count": 12,
      "outputs": []
    },
    {
      "cell_type": "code",
      "metadata": {
        "colab": {
          "base_uri": "https://localhost:8080/",
          "height": 421
        },
        "id": "QMyq8uYGJNIl",
        "outputId": "e967ca2e-a1ae-4257-f573-2fe79fbb6b5a"
      },
      "source": [
        "df_g_to=pd.concat([a,b,c,d,e,f,g,h,i,j,k,l], axis=1) # 평균 구한것을 합쳐주기\n",
        "df_g_to.columns=['Action','Sport','Misc','Role-Playing','Shooter','Adventure','Racing','Platform','Simulation','Fighting','Strategy','Puzzle']\n",
        "# 컬럼명을 변경\n",
        "df_g_to=df_g_to.T.drop(columns='Genre') #행과 열 전환\n",
        "df_g_to"
      ],
      "execution_count": 13,
      "outputs": [
        {
          "output_type": "execute_result",
          "data": {
            "text/html": [
              "<div>\n",
              "<style scoped>\n",
              "    .dataframe tbody tr th:only-of-type {\n",
              "        vertical-align: middle;\n",
              "    }\n",
              "\n",
              "    .dataframe tbody tr th {\n",
              "        vertical-align: top;\n",
              "    }\n",
              "\n",
              "    .dataframe thead th {\n",
              "        text-align: right;\n",
              "    }\n",
              "</style>\n",
              "<table border=\"1\" class=\"dataframe\">\n",
              "  <thead>\n",
              "    <tr style=\"text-align: right;\">\n",
              "      <th></th>\n",
              "      <th>NA_Sales</th>\n",
              "      <th>EU_Sales</th>\n",
              "      <th>JP_Sales</th>\n",
              "      <th>Other_Sales</th>\n",
              "    </tr>\n",
              "  </thead>\n",
              "  <tbody>\n",
              "    <tr>\n",
              "      <th>Action</th>\n",
              "      <td>874.81</td>\n",
              "      <td>522.16</td>\n",
              "      <td>157.9</td>\n",
              "      <td>186.45</td>\n",
              "    </tr>\n",
              "    <tr>\n",
              "      <th>Sport</th>\n",
              "      <td>680.52</td>\n",
              "      <td>376.48</td>\n",
              "      <td>135.37</td>\n",
              "      <td>134.67</td>\n",
              "    </tr>\n",
              "    <tr>\n",
              "      <th>Misc</th>\n",
              "      <td>408.05</td>\n",
              "      <td>212.36</td>\n",
              "      <td>105.27</td>\n",
              "      <td>74.04</td>\n",
              "    </tr>\n",
              "    <tr>\n",
              "      <th>Role-Playing</th>\n",
              "      <td>319.54</td>\n",
              "      <td>183.58</td>\n",
              "      <td>344.95</td>\n",
              "      <td>56.96</td>\n",
              "    </tr>\n",
              "    <tr>\n",
              "      <th>Shooter</th>\n",
              "      <td>581.92</td>\n",
              "      <td>313.05</td>\n",
              "      <td>38.28</td>\n",
              "      <td>102.65</td>\n",
              "    </tr>\n",
              "    <tr>\n",
              "      <th>Adventure</th>\n",
              "      <td>105.66</td>\n",
              "      <td>64.05</td>\n",
              "      <td>51.95</td>\n",
              "      <td>16.81</td>\n",
              "    </tr>\n",
              "    <tr>\n",
              "      <th>Racing</th>\n",
              "      <td>357.19</td>\n",
              "      <td>237.1</td>\n",
              "      <td>56.4</td>\n",
              "      <td>77.1</td>\n",
              "    </tr>\n",
              "    <tr>\n",
              "      <th>Platform</th>\n",
              "      <td>446.44</td>\n",
              "      <td>201.61</td>\n",
              "      <td>130.65</td>\n",
              "      <td>51.53</td>\n",
              "    </tr>\n",
              "    <tr>\n",
              "      <th>Simulation</th>\n",
              "      <td>182.96</td>\n",
              "      <td>113.35</td>\n",
              "      <td>63.7</td>\n",
              "      <td>31.48</td>\n",
              "    </tr>\n",
              "    <tr>\n",
              "      <th>Fighting</th>\n",
              "      <td>223.2</td>\n",
              "      <td>101.22</td>\n",
              "      <td>87.34</td>\n",
              "      <td>36.64</td>\n",
              "    </tr>\n",
              "    <tr>\n",
              "      <th>Strategy</th>\n",
              "      <td>68.7</td>\n",
              "      <td>45.32</td>\n",
              "      <td>49.46</td>\n",
              "      <td>11.36</td>\n",
              "    </tr>\n",
              "    <tr>\n",
              "      <th>Puzzle</th>\n",
              "      <td>123.35</td>\n",
              "      <td>50.73</td>\n",
              "      <td>56.87</td>\n",
              "      <td>12.52</td>\n",
              "    </tr>\n",
              "  </tbody>\n",
              "</table>\n",
              "</div>"
            ],
            "text/plain": [
              "             NA_Sales EU_Sales JP_Sales Other_Sales\n",
              "Action         874.81   522.16    157.9      186.45\n",
              "Sport          680.52   376.48   135.37      134.67\n",
              "Misc           408.05   212.36   105.27       74.04\n",
              "Role-Playing   319.54   183.58   344.95       56.96\n",
              "Shooter        581.92   313.05    38.28      102.65\n",
              "Adventure      105.66    64.05    51.95       16.81\n",
              "Racing         357.19    237.1     56.4        77.1\n",
              "Platform       446.44   201.61   130.65       51.53\n",
              "Simulation     182.96   113.35     63.7       31.48\n",
              "Fighting        223.2   101.22    87.34       36.64\n",
              "Strategy         68.7    45.32    49.46       11.36\n",
              "Puzzle         123.35    50.73    56.87       12.52"
            ]
          },
          "metadata": {
            "tags": []
          },
          "execution_count": 13
        }
      ]
    },
    {
      "cell_type": "code",
      "metadata": {
        "colab": {
          "base_uri": "https://localhost:8080/"
        },
        "id": "otalVq53Vujj",
        "outputId": "df0194c0-d6a8-4f45-a175-1ca609977f57"
      },
      "source": [
        "df_g_to.iloc[:,1]"
      ],
      "execution_count": 14,
      "outputs": [
        {
          "output_type": "execute_result",
          "data": {
            "text/plain": [
              "Action          522.16\n",
              "Sport           376.48\n",
              "Misc            212.36\n",
              "Role-Playing    183.58\n",
              "Shooter         313.05\n",
              "Adventure        64.05\n",
              "Racing           237.1\n",
              "Platform        201.61\n",
              "Simulation      113.35\n",
              "Fighting        101.22\n",
              "Strategy         45.32\n",
              "Puzzle           50.73\n",
              "Name: EU_Sales, dtype: object"
            ]
          },
          "metadata": {
            "tags": []
          },
          "execution_count": 14
        }
      ]
    },
    {
      "cell_type": "code",
      "metadata": {
        "id": "K4hQZfaYvd0m"
      },
      "source": [
        "import matplotlib.pyplot as plt\n",
        "\n",
        "plt.rc('font', family='NanumBarunGothic')  "
      ],
      "execution_count": 15,
      "outputs": []
    },
    {
      "cell_type": "code",
      "metadata": {
        "colab": {
          "base_uri": "https://localhost:8080/",
          "height": 356
        },
        "id": "c7fBbeFt_Re2",
        "outputId": "e7450051-416d-4529-a2da-ed365fe0657c"
      },
      "source": [
        "area_category=['Action','Sports','Misc','Role-Playing','Shooter','Adventure','Racing','Platform','Simulation','Fighting','Strategy','Puzzle']\n",
        "\n",
        "plt.figure(figsize=(15,5))\n",
        "\n",
        "xtick_label_position = list(range(len(area_category))) ## x축 눈금 라벨이 표시될 x좌표\n",
        "plt.xticks(xtick_label_position, area_category)\n",
        "colors=['r','r','b','b','r','b','b','b','b','b','b','b']\n",
        "\n",
        "plt.bar(xtick_label_position, df_g_to.iloc[:,0], color=colors)\n",
        "\n",
        "plt.title('장르별 북미 출고량의 합',fontsize=20) ## 타이틀 출력\n",
        "plt.xlabel('Genre') ## x축 라벨 출력\n",
        "plt.ylabel('평균') ## y축 라벨 출력\n",
        "plt.show()"
      ],
      "execution_count": 16,
      "outputs": [
        {
          "output_type": "display_data",
          "data": {
            "image/png": "[encoded data removed]",
            "text/plain": [
              "<Figure size 1080x360 with 1 Axes>"
            ]
          },
          "metadata": {
            "tags": [],
            "needs_background": "light"
          }
        }
      ]
    },
    {
      "cell_type": "code",
      "metadata": {
        "colab": {
          "base_uri": "https://localhost:8080/",
          "height": 356
        },
        "id": "KXTzDwGkA8Gz",
        "outputId": "a5f57e45-bd3f-4f49-9269-38a909c27296"
      },
      "source": [
        "\n",
        "\n",
        "plt.figure(figsize=(15,5))\n",
        "\n",
        "xtick_label_position = list(range(len(area_category))) ## x축 눈금 라벨이 표시될 x좌표\n",
        "plt.xticks(xtick_label_position, area_category)\n",
        "colors=['r','r','b','b','r','b','b','b','b','b','b','b']\n",
        "\n",
        "plt.bar(xtick_label_position, df_g_to.iloc[:,1], color=colors)\n",
        "\n",
        "plt.title('장르별 유럽 출고량 합',fontsize=20) ## 타이틀 출력\n",
        "plt.xlabel('Genre') ## x축 라벨 출력\n",
        "plt.ylabel('평균') ## y축 라벨 출력\n",
        "plt.show()"
      ],
      "execution_count": 17,
      "outputs": [
        {
          "output_type": "display_data",
          "data": {
            "image/png": "[encoded data removed]",
            "text/plain": [
              "<Figure size 1080x360 with 1 Axes>"
            ]
          },
          "metadata": {
            "tags": [],
            "needs_background": "light"
          }
        }
      ]
    },
    {
      "cell_type": "code",
      "metadata": {
        "colab": {
          "base_uri": "https://localhost:8080/",
          "height": 356
        },
        "id": "ZXgHj5xRBBjx",
        "outputId": "a186a3b0-0a23-4024-c673-41a0cb95410a"
      },
      "source": [
        "\n",
        "\n",
        "plt.figure(figsize=(15,5))\n",
        "\n",
        "xtick_label_position = list(range(len(area_category))) ## x축 눈금 라벨이 표시될 x좌표\n",
        "plt.xticks(xtick_label_position, area_category)\n",
        "colors=['b','b','b','r','b','b','b','r','b','r','b','b']\n",
        "\n",
        "plt.bar(xtick_label_position, df_g_to.iloc[:,2], color=colors)\n",
        "\n",
        "plt.title('장르별 일본 출고량 합',fontsize=20) ## 타이틀 출력\n",
        "plt.xlabel('Genre') ## x축 라벨 출력\n",
        "plt.ylabel('평균') ## y축 라벨 출력\n",
        "plt.show()"
      ],
      "execution_count": 18,
      "outputs": [
        {
          "output_type": "display_data",
          "data": {
            "image/png": "[encoded data removed]",
            "text/plain": [
              "<Figure size 1080x360 with 1 Axes>"
            ]
          },
          "metadata": {
            "tags": [],
            "needs_background": "light"
          }
        }
      ]
    },
    {
      "cell_type": "code",
      "metadata": {
        "colab": {
          "base_uri": "https://localhost:8080/",
          "height": 356
        },
        "id": "sgDHa9Kqa6Sz",
        "outputId": "8a737f6b-e1e3-4646-d623-ed29f69d94b1"
      },
      "source": [
        "\n",
        "\n",
        "plt.figure(figsize=(15,5))\n",
        "\n",
        "xtick_label_position = list(range(len(area_category))) ## x축 눈금 라벨이 표시될 x좌표\n",
        "plt.xticks(xtick_label_position, area_category)\n",
        "colors=['r','r','b','b','r','b','b','b','b','b','b','b']\n",
        "\n",
        "plt.bar(xtick_label_position, df_g_to.iloc[:,3], color=colors)\n",
        "\n",
        "plt.title('장르별 기타지역 출고량 합',fontsize=20) ## 타이틀 출력\n",
        "plt.xlabel('Genre') ## x축 라벨 출력\n",
        "plt.ylabel('평균') ## y축 라벨 출력\n",
        "plt.show()"
      ],
      "execution_count": 19,
      "outputs": [
        {
          "output_type": "display_data",
          "data": {
            "image/png": "[encoded data removed]",
            "text/plain": [
              "<Figure size 1080x360 with 1 Axes>"
            ]
          },
          "metadata": {
            "tags": [],
            "needs_background": "light"
          }
        }
      ]
    },
    {
      "cell_type": "markdown",
      "metadata": {
        "id": "8nzcbT-WFjZA"
      },
      "source": [
        "히트맵으로 전체적으로 비교"
      ]
    },
    {
      "cell_type": "code",
      "metadata": {
        "colab": {
          "base_uri": "https://localhost:8080/",
          "height": 747
        },
        "id": "9SjBvnLsFl_V",
        "outputId": "c08e67a2-8009-497a-e990-0f9cfab031b2"
      },
      "source": [
        "import seaborn as sns\n",
        "sns.clustermap(df_g_to,\n",
        "               annot = True, annot_kws={'size':20},\n",
        "               fmt = '.2f',\n",
        "               cmap='RdYlBu_r',\n",
        "              vmax= 900) "
      ],
      "execution_count": 42,
      "outputs": [
        {
          "output_type": "execute_result",
          "data": {
            "text/plain": [
              "<seaborn.matrix.ClusterGrid at 0x7f9fd633eed0>"
            ]
          },
          "metadata": {
            "tags": []
          },
          "execution_count": 42
        },
        {
          "output_type": "display_data",
          "data": {
            "image/png": "[encoded data removed]",
            "text/plain": [
              "<Figure size 720x720 with 4 Axes>"
            ]
          },
          "metadata": {
            "tags": [],
            "needs_background": "light"
          }
        }
      ]
    },
    {
      "cell_type": "markdown",
      "metadata": {
        "id": "2IdhdW0WfxJG"
      },
      "source": [
        "북미와 유럽은 action, sport, shooter을 선호하는 반면,\n",
        "일본은 Role-playing이 압도적으로 선호하는 것을 알 수 있다."
      ]
    },
    {
      "cell_type": "markdown",
      "metadata": {
        "id": "WpDiYG26hgWj"
      },
      "source": [
        "**가설1: 지역별 출고량의 총합들의 비율은 유사하다**"
      ]
    },
    {
      "cell_type": "code",
      "metadata": {
        "id": "4PeKbiLsgrQY"
      },
      "source": [
        "df_g_to_sum=df_g_to.sum()\n",
        "df_g_to_sum"
      ],
      "execution_count": null,
      "outputs": []
    },
    {
      "cell_type": "code",
      "metadata": {
        "colab": {
          "base_uri": "https://localhost:8080/"
        },
        "id": "k-iwSR2dhXI7",
        "outputId": "58fb120b-f821-436e-e665-b845836e7144"
      },
      "source": [
        "from scipy.stats import chisquare\n",
        "\n",
        "chi1 = chisquare(df_g_to_sum, axis=None)\n",
        "chi1"
      ],
      "execution_count": 26,
      "outputs": [
        {
          "output_type": "execute_result",
          "data": {
            "text/plain": [
              "Power_divergenceResult(statistic=3429.0829413901647, pvalue=0.0)"
            ]
          },
          "metadata": {
            "tags": []
          },
          "execution_count": 26
        }
      ]
    },
    {
      "cell_type": "markdown",
      "metadata": {
        "id": "HanZyO5Wiu0c"
      },
      "source": [
        "Pvalue가 0.05로 귀무가설을 기각될 가능성이 높으므로 즉, 지역별 출고량의 총합들은 유사하지 않다."
      ]
    },
    {
      "cell_type": "markdown",
      "metadata": {
        "id": "Lh3jNXi_pGO2"
      },
      "source": [
        "**가설2: 지역별 출고량과 장르가 독립적이다(연관이 없다)**"
      ]
    },
    {
      "cell_type": "code",
      "metadata": {
        "id": "lJ-yVJ7A9O9n"
      },
      "source": [
        "df_g_to=df_g_to.astype('category')"
      ],
      "execution_count": 27,
      "outputs": []
    },
    {
      "cell_type": "code",
      "metadata": {
        "colab": {
          "base_uri": "https://localhost:8080/"
        },
        "id": "y022ESvIm9MT",
        "outputId": "d49fc769-cfb8-4702-84c1-36aba464bf58"
      },
      "source": [
        "from scipy.stats import chi2_contingency\n",
        "\n",
        "chi2_val, p, dof, expected= chi2_contingency(df_g_to, correction=False) #Two-sample 카이제곱 검증함\n",
        "print('Chi^2 값',': ',chi2_val.round(2),\"\\n\")\n",
        "if(p<0.05) : \n",
        "    print('귀무가설 H0를 기각한다.', 'p value:', p.round(2),\"\\n\")\n",
        "else :\n",
        "    print('귀무가설 H0를 기각하지 못한다.', 'p value:', p.round(2),\"\\n\")\n"
      ],
      "execution_count": 28,
      "outputs": [
        {
          "output_type": "stream",
          "text": [
            "Chi^2 값 :  696.8 \n",
            "\n",
            "귀무가설 H0를 기각한다. p value: 0.0 \n",
            "\n"
          ],
          "name": "stdout"
        }
      ]
    },
    {
      "cell_type": "markdown",
      "metadata": {
        "id": "B0OUsnebnYLX"
      },
      "source": [
        "Pvalue가 0.05로 귀무가설을 기각될 가능성이 높으므로 즉, 장르와 지역별 출고량이 독립적이지 않다. 즉, 둘은 연관이 되어있음을 알수 있다"
      ]
    },
    {
      "cell_type": "markdown",
      "metadata": {
        "id": "VXuMTb-3Zurt"
      },
      "source": [
        "##총정리\n",
        "\n",
        "시각화된 자료를 통해서 미국과 유럽은 비슷하나 일본은 매우 다르고, 가설 검증을 통해서 지역별 출고량과 장르가 연관이 되어있다. \n",
        "\n",
        "**즉, 지역에 따라서 선호하는 게임의 장르가 다르다는 것을 알 수 있다.**"
      ]
    },
    {
      "cell_type": "markdown",
      "metadata": {
        "id": "6HFFj9coSw8m"
      },
      "source": [
        "#연도별 게임의 트렌드가 있을까?"
      ]
    },
    {
      "cell_type": "code",
      "metadata": {
        "colab": {
          "base_uri": "https://localhost:8080/"
        },
        "id": "eIQykh9KYomL",
        "outputId": "47b1bc32-b5ab-4730-eeb5-99b45cb6c5e1"
      },
      "source": [
        "df['Year'].value_counts(dropna = False) "
      ],
      "execution_count": null,
      "outputs": [
        {
          "output_type": "execute_result",
          "data": {
            "text/plain": [
              "2009    1431\n",
              "2008    1428\n",
              "2010    1259\n",
              "2007    1202\n",
              "2011    1139\n",
              "2006    1008\n",
              "2005     941\n",
              "2002     829\n",
              "2003     775\n",
              "2004     763\n",
              "2012     657\n",
              "2015     614\n",
              "2014     582\n",
              "2013     546\n",
              "2001     482\n",
              "1998     379\n",
              "2000     346\n",
              "2016     344\n",
              "1999     338\n",
              "1997     289\n",
              "0        274\n",
              "1996     263\n",
              "1995     219\n",
              "1994     121\n",
              "1993      60\n",
              "1981      46\n",
              "1992      43\n",
              "1991      41\n",
              "1982      36\n",
              "1986      21\n",
              "1989      17\n",
              "1983      17\n",
              "1990      16\n",
              "1987      16\n",
              "1988      15\n",
              "1984      14\n",
              "1985      14\n",
              "1980       9\n",
              "2017       3\n",
              "2020       1\n",
              "Name: Year, dtype: int64"
            ]
          },
          "metadata": {
            "tags": []
          },
          "execution_count": 26
        }
      ]
    },
    {
      "cell_type": "code",
      "metadata": {
        "colab": {
          "base_uri": "https://localhost:8080/",
          "height": 419
        },
        "id": "AE32AJ77cCbj",
        "outputId": "d31ba358-111f-488c-8fb8-db54cbb62f22"
      },
      "source": [
        "df_Y=df.sort_values(by=['Year'], axis=0) #year피쳐 기준으로 정렬\n",
        "df_Y=df_Y.sort_values(by=['Platform'], axis=0)\n",
        "df_Y"
      ],
      "execution_count": null,
      "outputs": [
        {
          "output_type": "execute_result",
          "data": {
            "text/html": [
              "<div>\n",
              "<style scoped>\n",
              "    .dataframe tbody tr th:only-of-type {\n",
              "        vertical-align: middle;\n",
              "    }\n",
              "\n",
              "    .dataframe tbody tr th {\n",
              "        vertical-align: top;\n",
              "    }\n",
              "\n",
              "    .dataframe thead th {\n",
              "        text-align: right;\n",
              "    }\n",
              "</style>\n",
              "<table border=\"1\" class=\"dataframe\">\n",
              "  <thead>\n",
              "    <tr style=\"text-align: right;\">\n",
              "      <th></th>\n",
              "      <th>Name</th>\n",
              "      <th>Platform</th>\n",
              "      <th>Year</th>\n",
              "      <th>Genre</th>\n",
              "      <th>Publisher</th>\n",
              "      <th>NA_Sales</th>\n",
              "      <th>EU_Sales</th>\n",
              "      <th>JP_Sales</th>\n",
              "      <th>Other_Sales</th>\n",
              "      <th>Total_sales</th>\n",
              "    </tr>\n",
              "  </thead>\n",
              "  <tbody>\n",
              "    <tr>\n",
              "      <th>4618</th>\n",
              "      <td>Hangman</td>\n",
              "      <td>2600</td>\n",
              "      <td>0</td>\n",
              "      <td>Puzzle</td>\n",
              "      <td>Atari</td>\n",
              "      <td>0.35</td>\n",
              "      <td>0.02</td>\n",
              "      <td>0.00</td>\n",
              "      <td>0.00</td>\n",
              "      <td>0.37</td>\n",
              "    </tr>\n",
              "    <tr>\n",
              "      <th>6123</th>\n",
              "      <td>Berzerk</td>\n",
              "      <td>2600</td>\n",
              "      <td>1981</td>\n",
              "      <td>Shooter</td>\n",
              "      <td>Atari</td>\n",
              "      <td>0.68</td>\n",
              "      <td>0.04</td>\n",
              "      <td>0.00</td>\n",
              "      <td>0.01</td>\n",
              "      <td>0.73</td>\n",
              "    </tr>\n",
              "    <tr>\n",
              "      <th>15886</th>\n",
              "      <td>Pitfall!</td>\n",
              "      <td>2600</td>\n",
              "      <td>1981</td>\n",
              "      <td>Platform</td>\n",
              "      <td>Activision</td>\n",
              "      <td>4.21</td>\n",
              "      <td>0.24</td>\n",
              "      <td>0.00</td>\n",
              "      <td>0.05</td>\n",
              "      <td>4.50</td>\n",
              "    </tr>\n",
              "    <tr>\n",
              "      <th>821</th>\n",
              "      <td>Fantastic Voyage</td>\n",
              "      <td>2600</td>\n",
              "      <td>1981</td>\n",
              "      <td>Action</td>\n",
              "      <td>20th Century Fox Video Games</td>\n",
              "      <td>0.32</td>\n",
              "      <td>0.02</td>\n",
              "      <td>0.00</td>\n",
              "      <td>0.00</td>\n",
              "      <td>0.34</td>\n",
              "    </tr>\n",
              "    <tr>\n",
              "      <th>13507</th>\n",
              "      <td>Raiders of the Lost Ark</td>\n",
              "      <td>2600</td>\n",
              "      <td>1981</td>\n",
              "      <td>Action</td>\n",
              "      <td>Atari</td>\n",
              "      <td>0.46</td>\n",
              "      <td>0.03</td>\n",
              "      <td>0.00</td>\n",
              "      <td>0.01</td>\n",
              "      <td>0.50</td>\n",
              "    </tr>\n",
              "    <tr>\n",
              "      <th>...</th>\n",
              "      <td>...</td>\n",
              "      <td>...</td>\n",
              "      <td>...</td>\n",
              "      <td>...</td>\n",
              "      <td>...</td>\n",
              "      <td>...</td>\n",
              "      <td>...</td>\n",
              "      <td>...</td>\n",
              "      <td>...</td>\n",
              "      <td>...</td>\n",
              "    </tr>\n",
              "    <tr>\n",
              "      <th>5610</th>\n",
              "      <td>Forza Motorsport 6</td>\n",
              "      <td>XOne</td>\n",
              "      <td>2015</td>\n",
              "      <td>Racing</td>\n",
              "      <td>Microsoft Game Studios</td>\n",
              "      <td>0.69</td>\n",
              "      <td>0.89</td>\n",
              "      <td>0.03</td>\n",
              "      <td>0.14</td>\n",
              "      <td>1.75</td>\n",
              "    </tr>\n",
              "    <tr>\n",
              "      <th>3595</th>\n",
              "      <td>Middle-Earth: Shadow of Mordor</td>\n",
              "      <td>XOne</td>\n",
              "      <td>2014</td>\n",
              "      <td>Action</td>\n",
              "      <td>Warner Bros. Interactive Entertainment</td>\n",
              "      <td>0.72</td>\n",
              "      <td>0.50</td>\n",
              "      <td>0.01</td>\n",
              "      <td>0.10</td>\n",
              "      <td>1.33</td>\n",
              "    </tr>\n",
              "    <tr>\n",
              "      <th>6769</th>\n",
              "      <td>Transformer: Rise of the Dark Spark</td>\n",
              "      <td>XOne</td>\n",
              "      <td>2014</td>\n",
              "      <td>Action</td>\n",
              "      <td>Activision</td>\n",
              "      <td>0.06</td>\n",
              "      <td>0.03</td>\n",
              "      <td>0.00</td>\n",
              "      <td>0.01</td>\n",
              "      <td>0.10</td>\n",
              "    </tr>\n",
              "    <tr>\n",
              "      <th>1731</th>\n",
              "      <td>Just Dance: Disney Party 2</td>\n",
              "      <td>XOne</td>\n",
              "      <td>2015</td>\n",
              "      <td>Action</td>\n",
              "      <td>Ubisoft</td>\n",
              "      <td>0.05</td>\n",
              "      <td>0.01</td>\n",
              "      <td>0.00</td>\n",
              "      <td>0.01</td>\n",
              "      <td>0.07</td>\n",
              "    </tr>\n",
              "    <tr>\n",
              "      <th>6118</th>\n",
              "      <td>MX vs. ATV Supercross Encore</td>\n",
              "      <td>XOne</td>\n",
              "      <td>2015</td>\n",
              "      <td>Sports</td>\n",
              "      <td>Nordic Games</td>\n",
              "      <td>0.02</td>\n",
              "      <td>0.00</td>\n",
              "      <td>0.00</td>\n",
              "      <td>0.00</td>\n",
              "      <td>0.02</td>\n",
              "    </tr>\n",
              "  </tbody>\n",
              "</table>\n",
              "<p>16598 rows × 10 columns</p>\n",
              "</div>"
            ],
            "text/plain": [
              "                                      Name Platform  ...  Other_Sales Total_sales\n",
              "4618                               Hangman     2600  ...         0.00        0.37\n",
              "6123                               Berzerk     2600  ...         0.01        0.73\n",
              "15886                             Pitfall!     2600  ...         0.05        4.50\n",
              "821                       Fantastic Voyage     2600  ...         0.00        0.34\n",
              "13507              Raiders of the Lost Ark     2600  ...         0.01        0.50\n",
              "...                                    ...      ...  ...          ...         ...\n",
              "5610                    Forza Motorsport 6     XOne  ...         0.14        1.75\n",
              "3595        Middle-Earth: Shadow of Mordor     XOne  ...         0.10        1.33\n",
              "6769   Transformer: Rise of the Dark Spark     XOne  ...         0.01        0.10\n",
              "1731            Just Dance: Disney Party 2     XOne  ...         0.01        0.07\n",
              "6118          MX vs. ATV Supercross Encore     XOne  ...         0.00        0.02\n",
              "\n",
              "[16598 rows x 10 columns]"
            ]
          },
          "metadata": {
            "tags": []
          },
          "execution_count": 27
        }
      ]
    },
    {
      "cell_type": "markdown",
      "metadata": {
        "id": "AHzkPeMU0b90"
      },
      "source": [
        "## 1.연도와 장르 선호도\n",
        "- 갯수의 합"
      ]
    },
    {
      "cell_type": "code",
      "metadata": {
        "id": "qLEgvI8rXBdB"
      },
      "source": [
        "eighty =range(1980,1990)\n",
        "\n",
        "e_s=df_Y[df_Y['Year'].isin(eighty)].reset_index(drop=True) #205\n",
        "A=e_s['Genre'].value_counts(dropna = False) \n",
        "\n",
        "nighty=range(1990,2000)\n",
        "\n",
        "n_s=df_Y[df_Y['Year'].isin(nighty)].reset_index(drop=True) #1769\n",
        "B=n_s['Genre'].value_counts(dropna = False)\n",
        " \n",
        "noughties_1=range(2000,2010)\n",
        "\n",
        "nou_s1=df_Y[df_Y['Year'].isin(noughties_1)].reset_index(drop=True) #4136\n",
        "C=nou_s1['Genre'].value_counts(dropna = False)\n",
        "\n",
        "#noughties_2=range(2006,2010)\n",
        "\n",
        "#nou_s2=df_Y[df_Y['Year'].isin(noughties_2)].reset_index(drop=True) #5069\n",
        "#D=nou_s2['Genre'].value_counts(dropna = False)\n",
        "\n",
        "tens=range(2010,2021)\n",
        "t1=df_Y[df_Y['Year'].isin(tens)].reset_index(drop=True) #5145\n",
        "E=t1['Genre'].value_counts(dropna = False)"
      ],
      "execution_count": null,
      "outputs": []
    },
    {
      "cell_type": "code",
      "metadata": {
        "colab": {
          "base_uri": "https://localhost:8080/",
          "height": 173
        },
        "id": "xx3lZ9vLgPka",
        "outputId": "057c58e3-9a94-47c3-9c76-d597ffb54175"
      },
      "source": [
        "df_Y_v=pd.concat([A,B,C,E], axis=1)\n",
        "df_Y_v.columns=['80s','90s','2000s','2010s']\n",
        "df_Y_v_1=df_Y_v.drop(labels = \"unknown\", axis = 0).transpose().reset_index()\n",
        "\n",
        "df_Y_v_1\n"
      ],
      "execution_count": null,
      "outputs": [
        {
          "output_type": "execute_result",
          "data": {
            "text/html": [
              "<div>\n",
              "<style scoped>\n",
              "    .dataframe tbody tr th:only-of-type {\n",
              "        vertical-align: middle;\n",
              "    }\n",
              "\n",
              "    .dataframe tbody tr th {\n",
              "        vertical-align: top;\n",
              "    }\n",
              "\n",
              "    .dataframe thead th {\n",
              "        text-align: right;\n",
              "    }\n",
              "</style>\n",
              "<table border=\"1\" class=\"dataframe\">\n",
              "  <thead>\n",
              "    <tr style=\"text-align: right;\">\n",
              "      <th></th>\n",
              "      <th>index</th>\n",
              "      <th>Action</th>\n",
              "      <th>Platform</th>\n",
              "      <th>Shooter</th>\n",
              "      <th>Sports</th>\n",
              "      <th>Puzzle</th>\n",
              "      <th>Role-Playing</th>\n",
              "      <th>Misc</th>\n",
              "      <th>Racing</th>\n",
              "      <th>Fighting</th>\n",
              "      <th>Simulation</th>\n",
              "      <th>Adventure</th>\n",
              "      <th>Strategy</th>\n",
              "    </tr>\n",
              "  </thead>\n",
              "  <tbody>\n",
              "    <tr>\n",
              "      <th>0</th>\n",
              "      <td>80s</td>\n",
              "      <td>66.0</td>\n",
              "      <td>33.0</td>\n",
              "      <td>30.0</td>\n",
              "      <td>22.0</td>\n",
              "      <td>19.0</td>\n",
              "      <td>9.0</td>\n",
              "      <td>8.0</td>\n",
              "      <td>8.0</td>\n",
              "      <td>4.0</td>\n",
              "      <td>3.0</td>\n",
              "      <td>2.0</td>\n",
              "      <td>NaN</td>\n",
              "    </tr>\n",
              "    <tr>\n",
              "      <th>1</th>\n",
              "      <td>90s</td>\n",
              "      <td>161.0</td>\n",
              "      <td>125.0</td>\n",
              "      <td>137.0</td>\n",
              "      <td>304.0</td>\n",
              "      <td>71.0</td>\n",
              "      <td>171.0</td>\n",
              "      <td>115.0</td>\n",
              "      <td>181.0</td>\n",
              "      <td>193.0</td>\n",
              "      <td>86.0</td>\n",
              "      <td>97.0</td>\n",
              "      <td>123.0</td>\n",
              "    </tr>\n",
              "    <tr>\n",
              "      <th>2</th>\n",
              "      <td>2000s</td>\n",
              "      <td>1579.0</td>\n",
              "      <td>564.0</td>\n",
              "      <td>717.0</td>\n",
              "      <td>1404.0</td>\n",
              "      <td>361.0</td>\n",
              "      <td>729.0</td>\n",
              "      <td>1021.0</td>\n",
              "      <td>797.0</td>\n",
              "      <td>442.0</td>\n",
              "      <td>551.0</td>\n",
              "      <td>632.0</td>\n",
              "      <td>378.0</td>\n",
              "    </tr>\n",
              "    <tr>\n",
              "      <th>3</th>\n",
              "      <td>2010s</td>\n",
              "      <td>1436.0</td>\n",
              "      <td>151.0</td>\n",
              "      <td>395.0</td>\n",
              "      <td>569.0</td>\n",
              "      <td>116.0</td>\n",
              "      <td>557.0</td>\n",
              "      <td>561.0</td>\n",
              "      <td>234.0</td>\n",
              "      <td>196.0</td>\n",
              "      <td>209.0</td>\n",
              "      <td>539.0</td>\n",
              "      <td>168.0</td>\n",
              "    </tr>\n",
              "  </tbody>\n",
              "</table>\n",
              "</div>"
            ],
            "text/plain": [
              "   index  Action  Platform  Shooter  ...  Fighting  Simulation  Adventure  Strategy\n",
              "0    80s    66.0      33.0     30.0  ...       4.0         3.0        2.0       NaN\n",
              "1    90s   161.0     125.0    137.0  ...     193.0        86.0       97.0     123.0\n",
              "2  2000s  1579.0     564.0    717.0  ...     442.0       551.0      632.0     378.0\n",
              "3  2010s  1436.0     151.0    395.0  ...     196.0       209.0      539.0     168.0\n",
              "\n",
              "[4 rows x 13 columns]"
            ]
          },
          "metadata": {
            "tags": []
          },
          "execution_count": 29
        }
      ]
    },
    {
      "cell_type": "code",
      "metadata": {
        "colab": {
          "base_uri": "https://localhost:8080/",
          "height": 670
        },
        "id": "kBvb8BBbiLHR",
        "outputId": "ff1f8a2f-b0f7-4d09-d78a-abc0d082883d"
      },
      "source": [
        "import seaborn as sns\n",
        "import matplotlib.pyplot as plt\n",
        "\n",
        "area_category=['Action',\t'Platform',\t'Shooter',\t'Sports',\t'Puzzle',\t'Role-Playing','Misc',\t'Racing',\t'Fighting',\t'Simulation',\t'Adventure',\t'Strategy']\n",
        "\n",
        "df_Y_v_1.plot(x= 'index', y=area_category, kind=\"bar\",figsize=(20,10)) \n",
        "\n",
        "plt.title('연도별 장르 갯수',fontsize=20) ## 타이틀 출력\n",
        "plt.xlabel('Year',fontsize=15) ## x축 라벨 출력\n",
        "#plt.ylabel('') ## y축 라벨 출력"
      ],
      "execution_count": null,
      "outputs": [
        {
          "output_type": "execute_result",
          "data": {
            "text/plain": [
              "Text(0.5, 0, 'Year')"
            ]
          },
          "metadata": {
            "tags": []
          },
          "execution_count": 30
        },
        {
          "output_type": "display_data",
          "data": {
            "image/png": "[encoded data removed]",
            "text/plain": [
              "<Figure size 1440x720 with 1 Axes>"
            ]
          },
          "metadata": {
            "tags": [],
            "needs_background": "light"
          }
        }
      ]
    },
    {
      "cell_type": "markdown",
      "metadata": {
        "id": "YxpMcxtyR0Wh"
      },
      "source": [
        "- 연도별 장르 출고량의 합"
      ]
    },
    {
      "cell_type": "code",
      "metadata": {
        "colab": {
          "base_uri": "https://localhost:8080/",
          "height": 173
        },
        "id": "p0tNPZ13et7x",
        "outputId": "8fc2724d-2963-4e6e-e43e-43c9faf897a2"
      },
      "source": [
        "id= n_s.groupby(by=['Genre'],as_index=False).sum()['Genre']\n",
        "e_s_1=e_s.groupby(by=['Genre'],as_index=False).sum()['Total_sales']\n",
        "n_s_1=n_s.groupby(by=['Genre'],as_index=False).sum()['Total_sales']\n",
        "nou_s1_1=nou_s1.groupby(by=['Genre'],as_index=False).sum()['Total_sales']\n",
        "t1_1=t1.groupby(by=['Genre'],as_index=False).sum()['Total_sales']\n",
        "\n",
        "df_Y_s=pd.concat([id,e_s_1,n_s_1,nou_s1_1,t1_1], axis=1)\n",
        "df_Y_s.columns=['Year','80s','90s','2000s','2010s']\n",
        "df_Y_s_=df_Y_s.transpose().reset_index()\n",
        "df_Y_s_= df_Y_s_.rename(columns=df_Y_s_.iloc[0]).drop(df_Y_s_.index[0]).drop(labels = \"unknown\", axis = 1)\n",
        "df_Y_s_"
      ],
      "execution_count": null,
      "outputs": [
        {
          "output_type": "execute_result",
          "data": {
            "text/html": [
              "<div>\n",
              "<style scoped>\n",
              "    .dataframe tbody tr th:only-of-type {\n",
              "        vertical-align: middle;\n",
              "    }\n",
              "\n",
              "    .dataframe tbody tr th {\n",
              "        vertical-align: top;\n",
              "    }\n",
              "\n",
              "    .dataframe thead th {\n",
              "        text-align: right;\n",
              "    }\n",
              "</style>\n",
              "<table border=\"1\" class=\"dataframe\">\n",
              "  <thead>\n",
              "    <tr style=\"text-align: right;\">\n",
              "      <th></th>\n",
              "      <th>Year</th>\n",
              "      <th>Action</th>\n",
              "      <th>Adventure</th>\n",
              "      <th>Fighting</th>\n",
              "      <th>Misc</th>\n",
              "      <th>Platform</th>\n",
              "      <th>Puzzle</th>\n",
              "      <th>Racing</th>\n",
              "      <th>Role-Playing</th>\n",
              "      <th>Shooter</th>\n",
              "      <th>Simulation</th>\n",
              "      <th>Sports</th>\n",
              "      <th>Strategy</th>\n",
              "    </tr>\n",
              "  </thead>\n",
              "  <tbody>\n",
              "    <tr>\n",
              "      <th>1</th>\n",
              "      <td>80s</td>\n",
              "      <td>51.1</td>\n",
              "      <td>4.78</td>\n",
              "      <td>7.24</td>\n",
              "      <td>8.44</td>\n",
              "      <td>122.26</td>\n",
              "      <td>62.75</td>\n",
              "      <td>12.1</td>\n",
              "      <td>15.25</td>\n",
              "      <td>59.77</td>\n",
              "      <td>0.51</td>\n",
              "      <td>31.78</td>\n",
              "      <td>0.5</td>\n",
              "    </tr>\n",
              "    <tr>\n",
              "      <th>2</th>\n",
              "      <td>90s</td>\n",
              "      <td>139.15</td>\n",
              "      <td>44.8</td>\n",
              "      <td>123.51</td>\n",
              "      <td>63.43</td>\n",
              "      <td>208.87</td>\n",
              "      <td>38.94</td>\n",
              "      <td>148.81</td>\n",
              "      <td>182.77</td>\n",
              "      <td>68.89</td>\n",
              "      <td>52.04</td>\n",
              "      <td>146.47</td>\n",
              "      <td>57.51</td>\n",
              "    </tr>\n",
              "    <tr>\n",
              "      <th>3</th>\n",
              "      <td>2000s</td>\n",
              "      <td>853.13</td>\n",
              "      <td>123.77</td>\n",
              "      <td>231.26</td>\n",
              "      <td>486.24</td>\n",
              "      <td>376.04</td>\n",
              "      <td>117.86</td>\n",
              "      <td>438</td>\n",
              "      <td>412.2</td>\n",
              "      <td>433.43</td>\n",
              "      <td>265.64</td>\n",
              "      <td>802.81</td>\n",
              "      <td>79.62</td>\n",
              "    </tr>\n",
              "    <tr>\n",
              "      <th>4</th>\n",
              "      <td>2010s</td>\n",
              "      <td>669.64</td>\n",
              "      <td>60.87</td>\n",
              "      <td>81.53</td>\n",
              "      <td>229.3</td>\n",
              "      <td>120.75</td>\n",
              "      <td>21.19</td>\n",
              "      <td>123.65</td>\n",
              "      <td>291.3</td>\n",
              "      <td>462.64</td>\n",
              "      <td>71.27</td>\n",
              "      <td>324.28</td>\n",
              "      <td>35.81</td>\n",
              "    </tr>\n",
              "  </tbody>\n",
              "</table>\n",
              "</div>"
            ],
            "text/plain": [
              "    Year  Action Adventure Fighting  ... Shooter Simulation  Sports Strategy\n",
              "1    80s    51.1      4.78     7.24  ...   59.77       0.51   31.78      0.5\n",
              "2    90s  139.15      44.8   123.51  ...   68.89      52.04  146.47    57.51\n",
              "3  2000s  853.13    123.77   231.26  ...  433.43     265.64  802.81    79.62\n",
              "4  2010s  669.64     60.87    81.53  ...  462.64      71.27  324.28    35.81\n",
              "\n",
              "[4 rows x 13 columns]"
            ]
          },
          "metadata": {
            "tags": []
          },
          "execution_count": 77
        }
      ]
    },
    {
      "cell_type": "code",
      "metadata": {
        "colab": {
          "base_uri": "https://localhost:8080/",
          "height": 670
        },
        "id": "b6dgS8a8tlSf",
        "outputId": "13dadb4f-5820-43ca-9caa-4d616f4c92e2"
      },
      "source": [
        "import seaborn as sns\n",
        "\n",
        "df_Y_s_.plot(x= 'Year', y=area_category, kind=\"bar\",figsize=(20,10)) \n",
        "\n",
        "plt.title('연도별 장르 출고량의 합',fontsize=20) ## 타이틀 출력\n",
        "plt.xlabel('Year',fontsize=15) ## x축 라벨 출력\n",
        "#plt.ylabel('') ## y축 라벨 출력"
      ],
      "execution_count": null,
      "outputs": [
        {
          "output_type": "execute_result",
          "data": {
            "text/plain": [
              "Text(0.5, 0, 'Year')"
            ]
          },
          "metadata": {
            "tags": []
          },
          "execution_count": 78
        },
        {
          "output_type": "display_data",
          "data": {
            "image/png": "[encoded data removed]",
            "text/plain": [
              "<Figure size 1440x720 with 1 Axes>"
            ]
          },
          "metadata": {
            "tags": [],
            "needs_background": "light"
          }
        }
      ]
    },
    {
      "cell_type": "markdown",
      "metadata": {
        "id": "kvzbxXL45ZRa"
      },
      "source": [
        "###최근 10년 장르 출고량의 합\n"
      ]
    },
    {
      "cell_type": "code",
      "metadata": {
        "id": "DWtyp8j374jD"
      },
      "source": [
        "df_Y_s=df_Y_s.set_index('Year')"
      ],
      "execution_count": null,
      "outputs": []
    },
    {
      "cell_type": "code",
      "metadata": {
        "colab": {
          "base_uri": "https://localhost:8080/",
          "height": 403
        },
        "id": "19QCLala5vfI",
        "outputId": "f356aa7e-8f15-4ed3-dfa4-ddc6ddde3508"
      },
      "source": [
        "plt.figure(figsize=(10,5))\n",
        "df_Y_s['2010s'].plot.bar()"
      ],
      "execution_count": null,
      "outputs": [
        {
          "output_type": "execute_result",
          "data": {
            "text/plain": [
              "<matplotlib.axes._subplots.AxesSubplot at 0x7f974e30eb90>"
            ]
          },
          "metadata": {
            "tags": []
          },
          "execution_count": 92
        },
        {
          "output_type": "display_data",
          "data": {
            "image/png": "[encoded data removed]",
            "text/plain": [
              "<Figure size 720x360 with 1 Axes>"
            ]
          },
          "metadata": {
            "tags": [],
            "needs_background": "light"
          }
        }
      ]
    },
    {
      "cell_type": "markdown",
      "metadata": {
        "id": "4PtKennb4NXG"
      },
      "source": [
        "## 연도와 플렛폼 선호도"
      ]
    },
    {
      "cell_type": "code",
      "metadata": {
        "id": "dbz_RGu5mUGu"
      },
      "source": [
        "id2_2_=df_Y.groupby(by=['Platform'],as_index=False).sum()[['Platform','Total_sales']].set_index(keys='Platform')\n",
        "e_s_=e_s.groupby(by=['Platform'],as_index=False).sum()[['Platform','Total_sales']].set_index(keys='Platform')\n",
        "n_s_=n_s.groupby(by=['Platform'],as_index=False).sum()[['Platform','Total_sales']].set_index(keys='Platform')\n",
        "nou_s1_=nou_s1.groupby(by=['Platform'],as_index=False).sum()[['Platform','Total_sales']].set_index(keys='Platform')\n",
        "t1_=t1.groupby(by=['Platform'],as_index=False).sum()[['Platform','Total_sales']].set_index(keys='Platform')"
      ],
      "execution_count": null,
      "outputs": []
    },
    {
      "cell_type": "code",
      "metadata": {
        "colab": {
          "base_uri": "https://localhost:8080/",
          "height": 173
        },
        "id": "CVO9oZnsfwkX",
        "outputId": "d7845e3c-f451-4553-f287-5234af5eea0e"
      },
      "source": [
        "id2_2_2= id2_2_.copy()\n",
        "e_s_2=e_s_.copy()\n",
        "n_s_2=n_s_.copy()\n",
        "nou_s1_2=nou_s1_.copy()\n",
        "t1_2=t1_.copy()\n",
        "\n",
        "id2_2_2=id2_2_2.add_suffix('_')\n",
        "e_s_2=e_s_2.add_suffix('_1980')\n",
        "n_s_2=n_s_2.add_suffix('_1990')\n",
        "nou_s1_2=nou_s1_2.add_suffix('_2000')\n",
        "t1_2=t1_2.add_suffix('_2010')\n",
        "\n",
        "result= id2_2_2.join([e_s_2,n_s_2,nou_s1_2,t1_2])\n",
        "result2=result.drop(labels='Total_sales_', axis=1).fillna(0).reset_index(drop=False)\n",
        "\n",
        "re=result2.T.reset_index()\n",
        "re2=re.rename(columns=re.iloc[0]).drop(re.index[0])\n",
        "re2"
      ],
      "execution_count": null,
      "outputs": [
        {
          "output_type": "execute_result",
          "data": {
            "text/html": [
              "<div>\n",
              "<style scoped>\n",
              "    .dataframe tbody tr th:only-of-type {\n",
              "        vertical-align: middle;\n",
              "    }\n",
              "\n",
              "    .dataframe tbody tr th {\n",
              "        vertical-align: top;\n",
              "    }\n",
              "\n",
              "    .dataframe thead th {\n",
              "        text-align: right;\n",
              "    }\n",
              "</style>\n",
              "<table border=\"1\" class=\"dataframe\">\n",
              "  <thead>\n",
              "    <tr style=\"text-align: right;\">\n",
              "      <th></th>\n",
              "      <th>Platform</th>\n",
              "      <th>2600</th>\n",
              "      <th>3DO</th>\n",
              "      <th>3DS</th>\n",
              "      <th>DC</th>\n",
              "      <th>DS</th>\n",
              "      <th>GB</th>\n",
              "      <th>GBA</th>\n",
              "      <th>GC</th>\n",
              "      <th>GEN</th>\n",
              "      <th>GG</th>\n",
              "      <th>N64</th>\n",
              "      <th>NES</th>\n",
              "      <th>NG</th>\n",
              "      <th>PC</th>\n",
              "      <th>PCFX</th>\n",
              "      <th>PS</th>\n",
              "      <th>PS2</th>\n",
              "      <th>PS3</th>\n",
              "      <th>PS4</th>\n",
              "      <th>PSP</th>\n",
              "      <th>PSV</th>\n",
              "      <th>SAT</th>\n",
              "      <th>SCD</th>\n",
              "      <th>SNES</th>\n",
              "      <th>TG16</th>\n",
              "      <th>WS</th>\n",
              "      <th>Wii</th>\n",
              "      <th>WiiU</th>\n",
              "      <th>X360</th>\n",
              "      <th>XB</th>\n",
              "      <th>XOne</th>\n",
              "    </tr>\n",
              "  </thead>\n",
              "  <tbody>\n",
              "    <tr>\n",
              "      <th>1</th>\n",
              "      <td>Total_sales_1980</td>\n",
              "      <td>86.48</td>\n",
              "      <td>0</td>\n",
              "      <td>0</td>\n",
              "      <td>0</td>\n",
              "      <td>0.02</td>\n",
              "      <td>66.4</td>\n",
              "      <td>0</td>\n",
              "      <td>0</td>\n",
              "      <td>0</td>\n",
              "      <td>0</td>\n",
              "      <td>0</td>\n",
              "      <td>223.51</td>\n",
              "      <td>0</td>\n",
              "      <td>0.07</td>\n",
              "      <td>0</td>\n",
              "      <td>0</td>\n",
              "      <td>0</td>\n",
              "      <td>0</td>\n",
              "      <td>0</td>\n",
              "      <td>0</td>\n",
              "      <td>0</td>\n",
              "      <td>0</td>\n",
              "      <td>0</td>\n",
              "      <td>0</td>\n",
              "      <td>0</td>\n",
              "      <td>0</td>\n",
              "      <td>0</td>\n",
              "      <td>0</td>\n",
              "      <td>0</td>\n",
              "      <td>0</td>\n",
              "      <td>0</td>\n",
              "    </tr>\n",
              "    <tr>\n",
              "      <th>2</th>\n",
              "      <td>Total_sales_1990</td>\n",
              "      <td>0</td>\n",
              "      <td>0.1</td>\n",
              "      <td>0</td>\n",
              "      <td>8.54</td>\n",
              "      <td>0</td>\n",
              "      <td>159.03</td>\n",
              "      <td>0</td>\n",
              "      <td>0</td>\n",
              "      <td>28.35</td>\n",
              "      <td>0.04</td>\n",
              "      <td>180.71</td>\n",
              "      <td>27.54</td>\n",
              "      <td>1.44</td>\n",
              "      <td>49.96</td>\n",
              "      <td>0.03</td>\n",
              "      <td>586.88</td>\n",
              "      <td>0</td>\n",
              "      <td>0</td>\n",
              "      <td>0</td>\n",
              "      <td>0</td>\n",
              "      <td>0</td>\n",
              "      <td>33.59</td>\n",
              "      <td>1.86</td>\n",
              "      <td>200.04</td>\n",
              "      <td>0.16</td>\n",
              "      <td>0.46</td>\n",
              "      <td>0</td>\n",
              "      <td>0</td>\n",
              "      <td>0</td>\n",
              "      <td>0</td>\n",
              "      <td>0</td>\n",
              "    </tr>\n",
              "    <tr>\n",
              "      <th>3</th>\n",
              "      <td>Total_sales_2000</td>\n",
              "      <td>0</td>\n",
              "      <td>0</td>\n",
              "      <td>0</td>\n",
              "      <td>7.41</td>\n",
              "      <td>688.22</td>\n",
              "      <td>28.8</td>\n",
              "      <td>312.88</td>\n",
              "      <td>196.73</td>\n",
              "      <td>0</td>\n",
              "      <td>0</td>\n",
              "      <td>37.3</td>\n",
              "      <td>0</td>\n",
              "      <td>0</td>\n",
              "      <td>84.34</td>\n",
              "      <td>0</td>\n",
              "      <td>140.57</td>\n",
              "      <td>1227.47</td>\n",
              "      <td>347.08</td>\n",
              "      <td>0</td>\n",
              "      <td>227.3</td>\n",
              "      <td>0</td>\n",
              "      <td>0</td>\n",
              "      <td>0</td>\n",
              "      <td>0</td>\n",
              "      <td>0</td>\n",
              "      <td>0.96</td>\n",
              "      <td>676.95</td>\n",
              "      <td>0</td>\n",
              "      <td>412.62</td>\n",
              "      <td>251.57</td>\n",
              "      <td>0</td>\n",
              "    </tr>\n",
              "    <tr>\n",
              "      <th>4</th>\n",
              "      <td>Total_sales_2010</td>\n",
              "      <td>0</td>\n",
              "      <td>0</td>\n",
              "      <td>246.18</td>\n",
              "      <td>0</td>\n",
              "      <td>129.7</td>\n",
              "      <td>0</td>\n",
              "      <td>0</td>\n",
              "      <td>0</td>\n",
              "      <td>0</td>\n",
              "      <td>0</td>\n",
              "      <td>0</td>\n",
              "      <td>0</td>\n",
              "      <td>0</td>\n",
              "      <td>119.87</td>\n",
              "      <td>0</td>\n",
              "      <td>0</td>\n",
              "      <td>6.09</td>\n",
              "      <td>602.31</td>\n",
              "      <td>278.16</td>\n",
              "      <td>64.36</td>\n",
              "      <td>61.64</td>\n",
              "      <td>0</td>\n",
              "      <td>0</td>\n",
              "      <td>0</td>\n",
              "      <td>0</td>\n",
              "      <td>0</td>\n",
              "      <td>232.25</td>\n",
              "      <td>81.79</td>\n",
              "      <td>556.69</td>\n",
              "      <td>0</td>\n",
              "      <td>141.1</td>\n",
              "    </tr>\n",
              "  </tbody>\n",
              "</table>\n",
              "</div>"
            ],
            "text/plain": [
              "           Platform   2600  3DO     3DS  ...   WiiU    X360      XB   XOne\n",
              "1  Total_sales_1980  86.48    0       0  ...      0       0       0      0\n",
              "2  Total_sales_1990      0  0.1       0  ...      0       0       0      0\n",
              "3  Total_sales_2000      0    0       0  ...      0  412.62  251.57      0\n",
              "4  Total_sales_2010      0    0  246.18  ...  81.79  556.69       0  141.1\n",
              "\n",
              "[4 rows x 32 columns]"
            ]
          },
          "metadata": {
            "tags": []
          },
          "execution_count": 34
        }
      ]
    },
    {
      "cell_type": "code",
      "metadata": {
        "colab": {
          "base_uri": "https://localhost:8080/",
          "height": 721
        },
        "id": "MrZCrUqV6SGY",
        "outputId": "c855135f-6844-4da1-ff49-96ed68831f6c"
      },
      "source": [
        "import seaborn as sns\n",
        "\n",
        "p_category=['2600',\t'3DO',\t'3DS',\t'DC',\t'DS',\t'GB',\t'GBA',\t'GC',\t'GEN',\t'GG',\t'N64',\t'NES',\t'NG',\t'PC',\t'PCFX',\t'PS',\t'PS2',\t'PS3',\t'PS4',\t'PSP',\t'PSV',\t'SAT',\t'SCD',\t'SNES',\t'TG16',\t'WS',\t'Wii',\t'WiiU',\t'X360',\t'XB',\t'XOne']\n",
        "re2.plot(x= 'Platform', y=p_category, kind=\"bar\",figsize=(30,10)) \n",
        "\n",
        "plt.title('연도별 플랫폼 출고량의 합',fontsize=20) ## 타이틀 출력\n",
        "plt.xlabel('Year',fontsize=15) ## x축 라벨 출력\n",
        "#plt.ylabel('') ## y축 라벨 출력"
      ],
      "execution_count": null,
      "outputs": [
        {
          "output_type": "execute_result",
          "data": {
            "text/plain": [
              "Text(0.5, 0, 'Year')"
            ]
          },
          "metadata": {
            "tags": []
          },
          "execution_count": 35
        },
        {
          "output_type": "display_data",
          "data": {
            "image/png": "[encoded data removed]",
            "text/plain": [
              "<Figure size 2160x720 with 1 Axes>"
            ]
          },
          "metadata": {
            "tags": [],
            "needs_background": "light"
          }
        }
      ]
    },
    {
      "cell_type": "code",
      "metadata": {
        "colab": {
          "base_uri": "https://localhost:8080/",
          "height": 298
        },
        "id": "mMYZvzVZtSjK",
        "outputId": "3b48578c-1e58-4b01-c0d8-694f4b08fb38"
      },
      "source": [
        "plt.figure(figsize=(30,30))\n",
        "\n",
        "ax = result.plot(kind='barh', stacked=True, title=\"플렛폼별로 연도별 총합(%)\", rot=0)\n",
        "for p in ax.patches:\n",
        "    left, bottom, width, height = p.get_bbox().bounds\n",
        "    #ax.annotate(\"%.1f\"%(width*100), xy=(left+width/2, bottom+height/2), ha='center', va='center')\n",
        "plt.box(False)\n",
        "plt.show()"
      ],
      "execution_count": null,
      "outputs": [
        {
          "output_type": "display_data",
          "data": {
            "text/plain": [
              "<Figure size 2160x2160 with 0 Axes>"
            ]
          },
          "metadata": {
            "tags": []
          }
        },
        {
          "output_type": "display_data",
          "data": {
            "image/png": "[encoded data removed]",
            "text/plain": [
              "<Figure size 432x288 with 1 Axes>"
            ]
          },
          "metadata": {
            "tags": [],
            "needs_background": "light"
          }
        }
      ]
    },
    {
      "cell_type": "code",
      "metadata": {
        "colab": {
          "base_uri": "https://localhost:8080/",
          "height": 173
        },
        "id": "Riflt-jBviq4",
        "outputId": "9f56dfe0-5068-4d54-84c9-b2dd0f834329"
      },
      "source": [
        "r_2=result2.set_index(keys='Platform').T\n",
        "r_2"
      ],
      "execution_count": null,
      "outputs": [
        {
          "output_type": "execute_result",
          "data": {
            "text/html": [
              "<div>\n",
              "<style scoped>\n",
              "    .dataframe tbody tr th:only-of-type {\n",
              "        vertical-align: middle;\n",
              "    }\n",
              "\n",
              "    .dataframe tbody tr th {\n",
              "        vertical-align: top;\n",
              "    }\n",
              "\n",
              "    .dataframe thead th {\n",
              "        text-align: right;\n",
              "    }\n",
              "</style>\n",
              "<table border=\"1\" class=\"dataframe\">\n",
              "  <thead>\n",
              "    <tr style=\"text-align: right;\">\n",
              "      <th>Platform</th>\n",
              "      <th>2600</th>\n",
              "      <th>3DO</th>\n",
              "      <th>3DS</th>\n",
              "      <th>DC</th>\n",
              "      <th>DS</th>\n",
              "      <th>GB</th>\n",
              "      <th>GBA</th>\n",
              "      <th>GC</th>\n",
              "      <th>GEN</th>\n",
              "      <th>GG</th>\n",
              "      <th>N64</th>\n",
              "      <th>NES</th>\n",
              "      <th>NG</th>\n",
              "      <th>PC</th>\n",
              "      <th>PCFX</th>\n",
              "      <th>PS</th>\n",
              "      <th>PS2</th>\n",
              "      <th>PS3</th>\n",
              "      <th>PS4</th>\n",
              "      <th>PSP</th>\n",
              "      <th>PSV</th>\n",
              "      <th>SAT</th>\n",
              "      <th>SCD</th>\n",
              "      <th>SNES</th>\n",
              "      <th>TG16</th>\n",
              "      <th>WS</th>\n",
              "      <th>Wii</th>\n",
              "      <th>WiiU</th>\n",
              "      <th>X360</th>\n",
              "      <th>XB</th>\n",
              "      <th>XOne</th>\n",
              "    </tr>\n",
              "  </thead>\n",
              "  <tbody>\n",
              "    <tr>\n",
              "      <th>Total_sales_1980</th>\n",
              "      <td>86.48</td>\n",
              "      <td>0.0</td>\n",
              "      <td>0.00</td>\n",
              "      <td>0.00</td>\n",
              "      <td>0.02</td>\n",
              "      <td>66.40</td>\n",
              "      <td>0.00</td>\n",
              "      <td>0.00</td>\n",
              "      <td>0.00</td>\n",
              "      <td>0.00</td>\n",
              "      <td>0.00</td>\n",
              "      <td>223.51</td>\n",
              "      <td>0.00</td>\n",
              "      <td>0.07</td>\n",
              "      <td>0.00</td>\n",
              "      <td>0.00</td>\n",
              "      <td>0.00</td>\n",
              "      <td>0.00</td>\n",
              "      <td>0.00</td>\n",
              "      <td>0.00</td>\n",
              "      <td>0.00</td>\n",
              "      <td>0.00</td>\n",
              "      <td>0.00</td>\n",
              "      <td>0.00</td>\n",
              "      <td>0.00</td>\n",
              "      <td>0.00</td>\n",
              "      <td>0.00</td>\n",
              "      <td>0.00</td>\n",
              "      <td>0.00</td>\n",
              "      <td>0.00</td>\n",
              "      <td>0.0</td>\n",
              "    </tr>\n",
              "    <tr>\n",
              "      <th>Total_sales_1990</th>\n",
              "      <td>0.00</td>\n",
              "      <td>0.1</td>\n",
              "      <td>0.00</td>\n",
              "      <td>8.54</td>\n",
              "      <td>0.00</td>\n",
              "      <td>159.03</td>\n",
              "      <td>0.00</td>\n",
              "      <td>0.00</td>\n",
              "      <td>28.35</td>\n",
              "      <td>0.04</td>\n",
              "      <td>180.71</td>\n",
              "      <td>27.54</td>\n",
              "      <td>1.44</td>\n",
              "      <td>49.96</td>\n",
              "      <td>0.03</td>\n",
              "      <td>586.88</td>\n",
              "      <td>0.00</td>\n",
              "      <td>0.00</td>\n",
              "      <td>0.00</td>\n",
              "      <td>0.00</td>\n",
              "      <td>0.00</td>\n",
              "      <td>33.59</td>\n",
              "      <td>1.86</td>\n",
              "      <td>200.04</td>\n",
              "      <td>0.16</td>\n",
              "      <td>0.46</td>\n",
              "      <td>0.00</td>\n",
              "      <td>0.00</td>\n",
              "      <td>0.00</td>\n",
              "      <td>0.00</td>\n",
              "      <td>0.0</td>\n",
              "    </tr>\n",
              "    <tr>\n",
              "      <th>Total_sales_2000</th>\n",
              "      <td>0.00</td>\n",
              "      <td>0.0</td>\n",
              "      <td>0.00</td>\n",
              "      <td>7.41</td>\n",
              "      <td>688.22</td>\n",
              "      <td>28.80</td>\n",
              "      <td>312.88</td>\n",
              "      <td>196.73</td>\n",
              "      <td>0.00</td>\n",
              "      <td>0.00</td>\n",
              "      <td>37.30</td>\n",
              "      <td>0.00</td>\n",
              "      <td>0.00</td>\n",
              "      <td>84.34</td>\n",
              "      <td>0.00</td>\n",
              "      <td>140.57</td>\n",
              "      <td>1227.47</td>\n",
              "      <td>347.08</td>\n",
              "      <td>0.00</td>\n",
              "      <td>227.30</td>\n",
              "      <td>0.00</td>\n",
              "      <td>0.00</td>\n",
              "      <td>0.00</td>\n",
              "      <td>0.00</td>\n",
              "      <td>0.00</td>\n",
              "      <td>0.96</td>\n",
              "      <td>676.95</td>\n",
              "      <td>0.00</td>\n",
              "      <td>412.62</td>\n",
              "      <td>251.57</td>\n",
              "      <td>0.0</td>\n",
              "    </tr>\n",
              "    <tr>\n",
              "      <th>Total_sales_2010</th>\n",
              "      <td>0.00</td>\n",
              "      <td>0.0</td>\n",
              "      <td>246.18</td>\n",
              "      <td>0.00</td>\n",
              "      <td>129.70</td>\n",
              "      <td>0.00</td>\n",
              "      <td>0.00</td>\n",
              "      <td>0.00</td>\n",
              "      <td>0.00</td>\n",
              "      <td>0.00</td>\n",
              "      <td>0.00</td>\n",
              "      <td>0.00</td>\n",
              "      <td>0.00</td>\n",
              "      <td>119.87</td>\n",
              "      <td>0.00</td>\n",
              "      <td>0.00</td>\n",
              "      <td>6.09</td>\n",
              "      <td>602.31</td>\n",
              "      <td>278.16</td>\n",
              "      <td>64.36</td>\n",
              "      <td>61.64</td>\n",
              "      <td>0.00</td>\n",
              "      <td>0.00</td>\n",
              "      <td>0.00</td>\n",
              "      <td>0.00</td>\n",
              "      <td>0.00</td>\n",
              "      <td>232.25</td>\n",
              "      <td>81.79</td>\n",
              "      <td>556.69</td>\n",
              "      <td>0.00</td>\n",
              "      <td>141.1</td>\n",
              "    </tr>\n",
              "  </tbody>\n",
              "</table>\n",
              "</div>"
            ],
            "text/plain": [
              "Platform           2600  3DO     3DS    DC  ...   WiiU    X360      XB   XOne\n",
              "Total_sales_1980  86.48  0.0    0.00  0.00  ...   0.00    0.00    0.00    0.0\n",
              "Total_sales_1990   0.00  0.1    0.00  8.54  ...   0.00    0.00    0.00    0.0\n",
              "Total_sales_2000   0.00  0.0    0.00  7.41  ...   0.00  412.62  251.57    0.0\n",
              "Total_sales_2010   0.00  0.0  246.18  0.00  ...  81.79  556.69    0.00  141.1\n",
              "\n",
              "[4 rows x 31 columns]"
            ]
          },
          "metadata": {
            "tags": []
          },
          "execution_count": 37
        }
      ]
    },
    {
      "cell_type": "code",
      "metadata": {
        "colab": {
          "base_uri": "https://localhost:8080/"
        },
        "id": "4yg5o5Xy4rS5",
        "outputId": "5f05912d-aca7-46ef-941a-c1f87bf8248f"
      },
      "source": [
        "r_2['NES'][0]"
      ],
      "execution_count": null,
      "outputs": [
        {
          "output_type": "execute_result",
          "data": {
            "text/plain": [
              "223.50999999999993"
            ]
          },
          "metadata": {
            "tags": []
          },
          "execution_count": 38
        }
      ]
    },
    {
      "cell_type": "code",
      "metadata": {
        "colab": {
          "base_uri": "https://localhost:8080/",
          "height": 606
        },
        "id": "rt_NlWR3v4lg",
        "outputId": "1362ab6e-6e6a-4bc6-e6e4-441678a5af9b"
      },
      "source": [
        "\n",
        "ax = r_2.plot(kind='barh', stacked=True, title=\"연도별 플렛폼 출고량(%)\", rot=0,figsize=(20,10))\n",
        "\n",
        "for p in ax.patches:\n",
        "    left, bottom, width, height = p.get_bbox().bounds\n",
        "    #ax.annotate(bottom,xy=(left+width/2, bottom+height/2), ha='center', va='center)\n",
        "\n",
        "plt.text(200,0.03,'NES',color= 'w',fontsize=15 )    \n",
        "plt.text(650,0.95,'PS', color= 'w',fontsize=20 )\n",
        "plt.text(2100,1.95,'Ps2', color='w',fontsize=20, )\n",
        "plt.text(750,2.95,'PS3',color= 'w', fontsize=20)\n",
        "plt.legend(loc='lower left', ncol=4, bbox_to_anchor=(1.1, 0))  \n",
        "#plt.annotate 0.1\n",
        "plt.sca(ax)\n",
        "plt.box(False)"
      ],
      "execution_count": null,
      "outputs": [
        {
          "output_type": "display_data",
          "data": {
            "image/png": "[encoded data removed]",
            "text/plain": [
              "<Figure size 1440x720 with 1 Axes>"
            ]
          },
          "metadata": {
            "tags": [],
            "needs_background": "light"
          }
        }
      ]
    },
    {
      "cell_type": "markdown",
      "metadata": {
        "id": "cLW8Sr-O8fnT"
      },
      "source": [
        "##최근 10년동안 플랫폼 출고량의 합"
      ]
    },
    {
      "cell_type": "code",
      "metadata": {
        "colab": {
          "base_uri": "https://localhost:8080/",
          "height": 639
        },
        "id": "5ifdNio98gXZ",
        "outputId": "7baecebf-920f-48fd-d5bc-29c7768d61f5"
      },
      "source": [
        "\n",
        "result2_=result2.set_index('Platform')\n",
        "\n",
        "result2_['Total_sales_2010'].plot.bar(figsize=(20,10))"
      ],
      "execution_count": null,
      "outputs": [
        {
          "output_type": "execute_result",
          "data": {
            "text/plain": [
              "<matplotlib.axes._subplots.AxesSubplot at 0x7f974e2bde10>"
            ]
          },
          "metadata": {
            "tags": []
          },
          "execution_count": 108
        },
        {
          "output_type": "display_data",
          "data": {
            "image/png": "[encoded data removed]",
            "text/plain": [
              "<Figure size 1440x720 with 1 Axes>"
            ]
          },
          "metadata": {
            "tags": [],
            "needs_background": "light"
          }
        }
      ]
    },
    {
      "cell_type": "markdown",
      "metadata": {
        "id": "Uy-IulbTqbHB"
      },
      "source": [
        "#출고량 많은 게임 분석"
      ]
    },
    {
      "cell_type": "markdown",
      "metadata": {
        "id": "NnxqtaAZZLm_"
      },
      "source": [
        "##출고량이 많은 게임 "
      ]
    },
    {
      "cell_type": "code",
      "metadata": {
        "colab": {
          "base_uri": "https://localhost:8080/"
        },
        "id": "G1AjgOQMCXJk",
        "outputId": "ffad9293-0ff7-4133-bd59-ff3384f936af"
      },
      "source": [
        "df[\"Name\"].value_counts(dropna = False)"
      ],
      "execution_count": 29,
      "outputs": [
        {
          "output_type": "execute_result",
          "data": {
            "text/plain": [
              "Need for Speed: Most Wanted               12\n",
              "Madden NFL 07                              9\n",
              "Ratatouille                                9\n",
              "LEGO Marvel Super Heroes                   9\n",
              "FIFA 14                                    9\n",
              "                                          ..\n",
              "Metal Slug 3                               1\n",
              "The Cheetah Girls: Pop Star Sensations     1\n",
              "Animal Planet: Emergency Vets              1\n",
              "Dynasty Warriors 5: Xtreme Legends         1\n",
              "Spore Galactic Adventures                  1\n",
              "Name: Name, Length: 11493, dtype: int64"
            ]
          },
          "metadata": {
            "tags": []
          },
          "execution_count": 29
        }
      ]
    },
    {
      "cell_type": "code",
      "metadata": {
        "colab": {
          "base_uri": "https://localhost:8080/",
          "height": 359
        },
        "id": "3ie17UAVYUo8",
        "outputId": "e733a726-2681-42ad-a8a1-7b2db932815b"
      },
      "source": [
        "df_10=df.sort_values(by=['Total_sales'], axis=0, ascending = False).reset_index(drop=True).head(10)\n",
        "df_10"
      ],
      "execution_count": 141,
      "outputs": [
        {
          "output_type": "execute_result",
          "data": {
            "text/html": [
              "<div>\n",
              "<style scoped>\n",
              "    .dataframe tbody tr th:only-of-type {\n",
              "        vertical-align: middle;\n",
              "    }\n",
              "\n",
              "    .dataframe tbody tr th {\n",
              "        vertical-align: top;\n",
              "    }\n",
              "\n",
              "    .dataframe thead th {\n",
              "        text-align: right;\n",
              "    }\n",
              "</style>\n",
              "<table border=\"1\" class=\"dataframe\">\n",
              "  <thead>\n",
              "    <tr style=\"text-align: right;\">\n",
              "      <th></th>\n",
              "      <th>Name</th>\n",
              "      <th>Platform</th>\n",
              "      <th>Year</th>\n",
              "      <th>Genre</th>\n",
              "      <th>Publisher</th>\n",
              "      <th>NA_Sales</th>\n",
              "      <th>EU_Sales</th>\n",
              "      <th>JP_Sales</th>\n",
              "      <th>Other_Sales</th>\n",
              "      <th>Total_sales</th>\n",
              "    </tr>\n",
              "  </thead>\n",
              "  <tbody>\n",
              "    <tr>\n",
              "      <th>0</th>\n",
              "      <td>Wii Sports</td>\n",
              "      <td>Wii</td>\n",
              "      <td>2006</td>\n",
              "      <td>Sports</td>\n",
              "      <td>Nintendo</td>\n",
              "      <td>41.49</td>\n",
              "      <td>29.02</td>\n",
              "      <td>3.77</td>\n",
              "      <td>8.46</td>\n",
              "      <td>82.74</td>\n",
              "    </tr>\n",
              "    <tr>\n",
              "      <th>1</th>\n",
              "      <td>Super Mario Bros.</td>\n",
              "      <td>NES</td>\n",
              "      <td>1985</td>\n",
              "      <td>Platform</td>\n",
              "      <td>Nintendo</td>\n",
              "      <td>29.08</td>\n",
              "      <td>3.58</td>\n",
              "      <td>6.81</td>\n",
              "      <td>0.77</td>\n",
              "      <td>40.24</td>\n",
              "    </tr>\n",
              "    <tr>\n",
              "      <th>2</th>\n",
              "      <td>Mario Kart Wii</td>\n",
              "      <td>Wii</td>\n",
              "      <td>2008</td>\n",
              "      <td>Racing</td>\n",
              "      <td>Nintendo</td>\n",
              "      <td>15.85</td>\n",
              "      <td>12.88</td>\n",
              "      <td>3.79</td>\n",
              "      <td>3.31</td>\n",
              "      <td>35.83</td>\n",
              "    </tr>\n",
              "    <tr>\n",
              "      <th>3</th>\n",
              "      <td>Wii Sports Resort</td>\n",
              "      <td>Wii</td>\n",
              "      <td>2009</td>\n",
              "      <td>Sports</td>\n",
              "      <td>Nintendo</td>\n",
              "      <td>15.75</td>\n",
              "      <td>11.01</td>\n",
              "      <td>3.28</td>\n",
              "      <td>2.96</td>\n",
              "      <td>33.00</td>\n",
              "    </tr>\n",
              "    <tr>\n",
              "      <th>4</th>\n",
              "      <td>Pokemon Red/Pokemon Blue</td>\n",
              "      <td>GB</td>\n",
              "      <td>1996</td>\n",
              "      <td>Role-Playing</td>\n",
              "      <td>Nintendo</td>\n",
              "      <td>11.27</td>\n",
              "      <td>8.89</td>\n",
              "      <td>10.22</td>\n",
              "      <td>1.00</td>\n",
              "      <td>31.38</td>\n",
              "    </tr>\n",
              "    <tr>\n",
              "      <th>5</th>\n",
              "      <td>Tetris</td>\n",
              "      <td>GB</td>\n",
              "      <td>1989</td>\n",
              "      <td>Puzzle</td>\n",
              "      <td>Nintendo</td>\n",
              "      <td>23.20</td>\n",
              "      <td>2.26</td>\n",
              "      <td>4.22</td>\n",
              "      <td>0.58</td>\n",
              "      <td>30.26</td>\n",
              "    </tr>\n",
              "    <tr>\n",
              "      <th>6</th>\n",
              "      <td>New Super Mario Bros.</td>\n",
              "      <td>DS</td>\n",
              "      <td>2006</td>\n",
              "      <td>Platform</td>\n",
              "      <td>Nintendo</td>\n",
              "      <td>11.38</td>\n",
              "      <td>9.23</td>\n",
              "      <td>6.50</td>\n",
              "      <td>2.90</td>\n",
              "      <td>30.01</td>\n",
              "    </tr>\n",
              "    <tr>\n",
              "      <th>7</th>\n",
              "      <td>Wii Play</td>\n",
              "      <td>Wii</td>\n",
              "      <td>2006</td>\n",
              "      <td>Misc</td>\n",
              "      <td>Nintendo</td>\n",
              "      <td>14.03</td>\n",
              "      <td>9.20</td>\n",
              "      <td>2.93</td>\n",
              "      <td>2.85</td>\n",
              "      <td>29.01</td>\n",
              "    </tr>\n",
              "    <tr>\n",
              "      <th>8</th>\n",
              "      <td>New Super Mario Bros. Wii</td>\n",
              "      <td>Wii</td>\n",
              "      <td>2009</td>\n",
              "      <td>Platform</td>\n",
              "      <td>Nintendo</td>\n",
              "      <td>14.59</td>\n",
              "      <td>7.06</td>\n",
              "      <td>4.70</td>\n",
              "      <td>2.26</td>\n",
              "      <td>28.61</td>\n",
              "    </tr>\n",
              "    <tr>\n",
              "      <th>9</th>\n",
              "      <td>Duck Hunt</td>\n",
              "      <td>NES</td>\n",
              "      <td>1984</td>\n",
              "      <td>Shooter</td>\n",
              "      <td>Nintendo</td>\n",
              "      <td>26.93</td>\n",
              "      <td>0.63</td>\n",
              "      <td>0.28</td>\n",
              "      <td>0.47</td>\n",
              "      <td>28.31</td>\n",
              "    </tr>\n",
              "  </tbody>\n",
              "</table>\n",
              "</div>"
            ],
            "text/plain": [
              "                        Name Platform  Year  ... JP_Sales Other_Sales  Total_sales\n",
              "0                 Wii Sports      Wii  2006  ...     3.77        8.46        82.74\n",
              "1          Super Mario Bros.      NES  1985  ...     6.81        0.77        40.24\n",
              "2             Mario Kart Wii      Wii  2008  ...     3.79        3.31        35.83\n",
              "3          Wii Sports Resort      Wii  2009  ...     3.28        2.96        33.00\n",
              "4   Pokemon Red/Pokemon Blue       GB  1996  ...    10.22        1.00        31.38\n",
              "5                     Tetris       GB  1989  ...     4.22        0.58        30.26\n",
              "6      New Super Mario Bros.       DS  2006  ...     6.50        2.90        30.01\n",
              "7                   Wii Play      Wii  2006  ...     2.93        2.85        29.01\n",
              "8  New Super Mario Bros. Wii      Wii  2009  ...     4.70        2.26        28.61\n",
              "9                  Duck Hunt      NES  1984  ...     0.28        0.47        28.31\n",
              "\n",
              "[10 rows x 10 columns]"
            ]
          },
          "metadata": {
            "tags": []
          },
          "execution_count": 141
        }
      ]
    },
    {
      "cell_type": "code",
      "metadata": {
        "id": "0qDrsZa_VFhV",
        "colab": {
          "base_uri": "https://localhost:8080/",
          "height": 359
        },
        "outputId": "2a948ec6-0440-4f7b-df9b-c26efc950a89"
      },
      "source": [
        "df_n=df.groupby(by=['Name'],as_index=False).sum().sort_values(by=['Total_sales'],ascending = False).reset_index(drop=True).head(10).drop(labels='Year', axis=1)\n",
        "\n",
        "#df_10[['Name','NA_Sales','EU_Sales','JP_Sales','Other_Sales','Total_Sales']]=df_n\n",
        "df_n['Rank']= df_n['Total_sales'].rank(ascending = False).astype(int)\n",
        "#df_10=df_10.drop(labels='Total_sales', axis=1)\n",
        "df_n"
      ],
      "execution_count": 153,
      "outputs": [
        {
          "output_type": "execute_result",
          "data": {
            "text/html": [
              "<div>\n",
              "<style scoped>\n",
              "    .dataframe tbody tr th:only-of-type {\n",
              "        vertical-align: middle;\n",
              "    }\n",
              "\n",
              "    .dataframe tbody tr th {\n",
              "        vertical-align: top;\n",
              "    }\n",
              "\n",
              "    .dataframe thead th {\n",
              "        text-align: right;\n",
              "    }\n",
              "</style>\n",
              "<table border=\"1\" class=\"dataframe\">\n",
              "  <thead>\n",
              "    <tr style=\"text-align: right;\">\n",
              "      <th></th>\n",
              "      <th>Name</th>\n",
              "      <th>NA_Sales</th>\n",
              "      <th>EU_Sales</th>\n",
              "      <th>JP_Sales</th>\n",
              "      <th>Other_Sales</th>\n",
              "      <th>Total_sales</th>\n",
              "      <th>Rank</th>\n",
              "    </tr>\n",
              "  </thead>\n",
              "  <tbody>\n",
              "    <tr>\n",
              "      <th>0</th>\n",
              "      <td>Wii Sports</td>\n",
              "      <td>41.49</td>\n",
              "      <td>29.02</td>\n",
              "      <td>3.77</td>\n",
              "      <td>8.46</td>\n",
              "      <td>82.74</td>\n",
              "      <td>1</td>\n",
              "    </tr>\n",
              "    <tr>\n",
              "      <th>1</th>\n",
              "      <td>Grand Theft Auto V</td>\n",
              "      <td>23.46</td>\n",
              "      <td>23.04</td>\n",
              "      <td>1.39</td>\n",
              "      <td>8.03</td>\n",
              "      <td>55.92</td>\n",
              "      <td>2</td>\n",
              "    </tr>\n",
              "    <tr>\n",
              "      <th>2</th>\n",
              "      <td>Super Mario Bros.</td>\n",
              "      <td>32.48</td>\n",
              "      <td>4.88</td>\n",
              "      <td>6.96</td>\n",
              "      <td>0.99</td>\n",
              "      <td>45.31</td>\n",
              "      <td>3</td>\n",
              "    </tr>\n",
              "    <tr>\n",
              "      <th>3</th>\n",
              "      <td>Tetris</td>\n",
              "      <td>26.17</td>\n",
              "      <td>2.95</td>\n",
              "      <td>6.03</td>\n",
              "      <td>0.69</td>\n",
              "      <td>35.84</td>\n",
              "      <td>4</td>\n",
              "    </tr>\n",
              "    <tr>\n",
              "      <th>4</th>\n",
              "      <td>Mario Kart Wii</td>\n",
              "      <td>15.85</td>\n",
              "      <td>12.88</td>\n",
              "      <td>3.79</td>\n",
              "      <td>3.31</td>\n",
              "      <td>35.83</td>\n",
              "      <td>5</td>\n",
              "    </tr>\n",
              "    <tr>\n",
              "      <th>5</th>\n",
              "      <td>Wii Sports Resort</td>\n",
              "      <td>15.75</td>\n",
              "      <td>11.01</td>\n",
              "      <td>3.28</td>\n",
              "      <td>2.96</td>\n",
              "      <td>33.00</td>\n",
              "      <td>6</td>\n",
              "    </tr>\n",
              "    <tr>\n",
              "      <th>6</th>\n",
              "      <td>Pokemon Red/Pokemon Blue</td>\n",
              "      <td>11.27</td>\n",
              "      <td>8.89</td>\n",
              "      <td>10.22</td>\n",
              "      <td>1.00</td>\n",
              "      <td>31.38</td>\n",
              "      <td>7</td>\n",
              "    </tr>\n",
              "    <tr>\n",
              "      <th>7</th>\n",
              "      <td>Call of Duty: Black Ops</td>\n",
              "      <td>17.59</td>\n",
              "      <td>9.50</td>\n",
              "      <td>0.59</td>\n",
              "      <td>3.36</td>\n",
              "      <td>31.04</td>\n",
              "      <td>8</td>\n",
              "    </tr>\n",
              "    <tr>\n",
              "      <th>8</th>\n",
              "      <td>Call of Duty: Modern Warfare 3</td>\n",
              "      <td>15.58</td>\n",
              "      <td>11.29</td>\n",
              "      <td>0.62</td>\n",
              "      <td>3.35</td>\n",
              "      <td>30.84</td>\n",
              "      <td>9</td>\n",
              "    </tr>\n",
              "    <tr>\n",
              "      <th>9</th>\n",
              "      <td>New Super Mario Bros.</td>\n",
              "      <td>11.38</td>\n",
              "      <td>9.23</td>\n",
              "      <td>6.50</td>\n",
              "      <td>2.90</td>\n",
              "      <td>30.01</td>\n",
              "      <td>10</td>\n",
              "    </tr>\n",
              "  </tbody>\n",
              "</table>\n",
              "</div>"
            ],
            "text/plain": [
              "                             Name  NA_Sales  ...  Total_sales  Rank\n",
              "0                      Wii Sports     41.49  ...        82.74     1\n",
              "1              Grand Theft Auto V     23.46  ...        55.92     2\n",
              "2               Super Mario Bros.     32.48  ...        45.31     3\n",
              "3                          Tetris     26.17  ...        35.84     4\n",
              "4                  Mario Kart Wii     15.85  ...        35.83     5\n",
              "5               Wii Sports Resort     15.75  ...        33.00     6\n",
              "6        Pokemon Red/Pokemon Blue     11.27  ...        31.38     7\n",
              "7         Call of Duty: Black Ops     17.59  ...        31.04     8\n",
              "8  Call of Duty: Modern Warfare 3     15.58  ...        30.84     9\n",
              "9           New Super Mario Bros.     11.38  ...        30.01    10\n",
              "\n",
              "[10 rows x 7 columns]"
            ]
          },
          "metadata": {
            "tags": []
          },
          "execution_count": 153
        }
      ]
    },
    {
      "cell_type": "code",
      "metadata": {
        "id": "gclc5tzV47di"
      },
      "source": [
        "data={'Name':['Wii Sports',\t'Grand Theft Auto V',\t'Super Mario Bros.',\t'Tetris',\t'Mario Kart Wii',\t'Wii Sports Resort',\t'Pokemon Red/Pokemon Blue',\t'Call of Duty: Black Ops',\t'Call of Duty: Modern Warfare 3',\t'New Super Mario Bros.'],\n",
        "      'Platform':['Will','PS3','NES','GB','Will','Will','GB','X360','X360','DS'],\n",
        "      'Year':[2006,2013,1985,1989,2009,2009,1996,2010,2011,2006],\n",
        "      'Genre':['Sports','Action',' Platform','Puzzle','Sports','Sports','Role-Playing','Shooter','Shooter','Platform'],\n",
        "      'Publisher':['Nintendo','Action Take-Two Interactive', 'Nintendo','Nintendo','Nintendo','Nintendo','Nintendo','Shooter\tActivision','Shooter\tActivision','Nintendo']}\n",
        "\n",
        "df_detail= pd.DataFrame(data)      "
      ],
      "execution_count": 151,
      "outputs": []
    },
    {
      "cell_type": "code",
      "metadata": {
        "id": "4lacC4my99PZ"
      },
      "source": [
        "df_n=pd.merge(df_detail, df_n, how='left', on='Name')\n",
        "\n"
      ],
      "execution_count": 154,
      "outputs": []
    },
    {
      "cell_type": "code",
      "metadata": {
        "colab": {
          "base_uri": "https://localhost:8080/",
          "height": 359
        },
        "id": "k38ix5IQ2qnS",
        "outputId": "554c510e-f6df-41e0-90d8-1108ef2209d2"
      },
      "source": [
        "df_n"
      ],
      "execution_count": 155,
      "outputs": [
        {
          "output_type": "execute_result",
          "data": {
            "text/html": [
              "<div>\n",
              "<style scoped>\n",
              "    .dataframe tbody tr th:only-of-type {\n",
              "        vertical-align: middle;\n",
              "    }\n",
              "\n",
              "    .dataframe tbody tr th {\n",
              "        vertical-align: top;\n",
              "    }\n",
              "\n",
              "    .dataframe thead th {\n",
              "        text-align: right;\n",
              "    }\n",
              "</style>\n",
              "<table border=\"1\" class=\"dataframe\">\n",
              "  <thead>\n",
              "    <tr style=\"text-align: right;\">\n",
              "      <th></th>\n",
              "      <th>Name</th>\n",
              "      <th>Platform</th>\n",
              "      <th>Year</th>\n",
              "      <th>Genre</th>\n",
              "      <th>Publisher</th>\n",
              "      <th>NA_Sales</th>\n",
              "      <th>EU_Sales</th>\n",
              "      <th>JP_Sales</th>\n",
              "      <th>Other_Sales</th>\n",
              "      <th>Total_sales</th>\n",
              "      <th>Rank</th>\n",
              "    </tr>\n",
              "  </thead>\n",
              "  <tbody>\n",
              "    <tr>\n",
              "      <th>0</th>\n",
              "      <td>Wii Sports</td>\n",
              "      <td>Will</td>\n",
              "      <td>2006</td>\n",
              "      <td>Sports</td>\n",
              "      <td>Nintendo</td>\n",
              "      <td>41.49</td>\n",
              "      <td>29.02</td>\n",
              "      <td>3.77</td>\n",
              "      <td>8.46</td>\n",
              "      <td>82.74</td>\n",
              "      <td>1</td>\n",
              "    </tr>\n",
              "    <tr>\n",
              "      <th>1</th>\n",
              "      <td>Grand Theft Auto V</td>\n",
              "      <td>PS3</td>\n",
              "      <td>2013</td>\n",
              "      <td>Action</td>\n",
              "      <td>Action Take-Two Interactive</td>\n",
              "      <td>23.46</td>\n",
              "      <td>23.04</td>\n",
              "      <td>1.39</td>\n",
              "      <td>8.03</td>\n",
              "      <td>55.92</td>\n",
              "      <td>2</td>\n",
              "    </tr>\n",
              "    <tr>\n",
              "      <th>2</th>\n",
              "      <td>Super Mario Bros.</td>\n",
              "      <td>NES</td>\n",
              "      <td>1985</td>\n",
              "      <td>Platform</td>\n",
              "      <td>Nintendo</td>\n",
              "      <td>32.48</td>\n",
              "      <td>4.88</td>\n",
              "      <td>6.96</td>\n",
              "      <td>0.99</td>\n",
              "      <td>45.31</td>\n",
              "      <td>3</td>\n",
              "    </tr>\n",
              "    <tr>\n",
              "      <th>3</th>\n",
              "      <td>Tetris</td>\n",
              "      <td>GB</td>\n",
              "      <td>1989</td>\n",
              "      <td>Puzzle</td>\n",
              "      <td>Nintendo</td>\n",
              "      <td>26.17</td>\n",
              "      <td>2.95</td>\n",
              "      <td>6.03</td>\n",
              "      <td>0.69</td>\n",
              "      <td>35.84</td>\n",
              "      <td>4</td>\n",
              "    </tr>\n",
              "    <tr>\n",
              "      <th>4</th>\n",
              "      <td>Mario Kart Wii</td>\n",
              "      <td>Will</td>\n",
              "      <td>2009</td>\n",
              "      <td>Sports</td>\n",
              "      <td>Nintendo</td>\n",
              "      <td>15.85</td>\n",
              "      <td>12.88</td>\n",
              "      <td>3.79</td>\n",
              "      <td>3.31</td>\n",
              "      <td>35.83</td>\n",
              "      <td>5</td>\n",
              "    </tr>\n",
              "    <tr>\n",
              "      <th>5</th>\n",
              "      <td>Wii Sports Resort</td>\n",
              "      <td>Will</td>\n",
              "      <td>2009</td>\n",
              "      <td>Sports</td>\n",
              "      <td>Nintendo</td>\n",
              "      <td>15.75</td>\n",
              "      <td>11.01</td>\n",
              "      <td>3.28</td>\n",
              "      <td>2.96</td>\n",
              "      <td>33.00</td>\n",
              "      <td>6</td>\n",
              "    </tr>\n",
              "    <tr>\n",
              "      <th>6</th>\n",
              "      <td>Pokemon Red/Pokemon Blue</td>\n",
              "      <td>GB</td>\n",
              "      <td>1996</td>\n",
              "      <td>Role-Playing</td>\n",
              "      <td>Nintendo</td>\n",
              "      <td>11.27</td>\n",
              "      <td>8.89</td>\n",
              "      <td>10.22</td>\n",
              "      <td>1.00</td>\n",
              "      <td>31.38</td>\n",
              "      <td>7</td>\n",
              "    </tr>\n",
              "    <tr>\n",
              "      <th>7</th>\n",
              "      <td>Call of Duty: Black Ops</td>\n",
              "      <td>X360</td>\n",
              "      <td>2010</td>\n",
              "      <td>Shooter</td>\n",
              "      <td>Shooter\\tActivision</td>\n",
              "      <td>17.59</td>\n",
              "      <td>9.50</td>\n",
              "      <td>0.59</td>\n",
              "      <td>3.36</td>\n",
              "      <td>31.04</td>\n",
              "      <td>8</td>\n",
              "    </tr>\n",
              "    <tr>\n",
              "      <th>8</th>\n",
              "      <td>Call of Duty: Modern Warfare 3</td>\n",
              "      <td>X360</td>\n",
              "      <td>2011</td>\n",
              "      <td>Shooter</td>\n",
              "      <td>Shooter\\tActivision</td>\n",
              "      <td>15.58</td>\n",
              "      <td>11.29</td>\n",
              "      <td>0.62</td>\n",
              "      <td>3.35</td>\n",
              "      <td>30.84</td>\n",
              "      <td>9</td>\n",
              "    </tr>\n",
              "    <tr>\n",
              "      <th>9</th>\n",
              "      <td>New Super Mario Bros.</td>\n",
              "      <td>DS</td>\n",
              "      <td>2006</td>\n",
              "      <td>Platform</td>\n",
              "      <td>Nintendo</td>\n",
              "      <td>11.38</td>\n",
              "      <td>9.23</td>\n",
              "      <td>6.50</td>\n",
              "      <td>2.90</td>\n",
              "      <td>30.01</td>\n",
              "      <td>10</td>\n",
              "    </tr>\n",
              "  </tbody>\n",
              "</table>\n",
              "</div>"
            ],
            "text/plain": [
              "                             Name Platform  ...  Total_sales Rank\n",
              "0                      Wii Sports     Will  ...        82.74    1\n",
              "1              Grand Theft Auto V      PS3  ...        55.92    2\n",
              "2               Super Mario Bros.      NES  ...        45.31    3\n",
              "3                          Tetris       GB  ...        35.84    4\n",
              "4                  Mario Kart Wii     Will  ...        35.83    5\n",
              "5               Wii Sports Resort     Will  ...        33.00    6\n",
              "6        Pokemon Red/Pokemon Blue       GB  ...        31.38    7\n",
              "7         Call of Duty: Black Ops     X360  ...        31.04    8\n",
              "8  Call of Duty: Modern Warfare 3     X360  ...        30.84    9\n",
              "9           New Super Mario Bros.       DS  ...        30.01   10\n",
              "\n",
              "[10 rows x 11 columns]"
            ]
          },
          "metadata": {
            "tags": []
          },
          "execution_count": 155
        }
      ]
    },
    {
      "cell_type": "code",
      "metadata": {
        "colab": {
          "base_uri": "https://localhost:8080/",
          "height": 796
        },
        "id": "5tUfVfhAbyj2",
        "outputId": "2c967eba-c7a4-4132-9ed3-b6ff0b43bc27"
      },
      "source": [
        "import matplotlib\n",
        "\n",
        "plt.figure(figsize=(20,10))\n",
        "\n",
        "Name= ['Wii Sports','Grand Theft Auto V',\t'Super Mario Bros.','Tetris',\t'Mario Kart Wii',\t'Wii Sports Resort',\t'Pokemon Red/Pokemon',\t'Call of Duty: Black Ops',\t'Call of Duty: Modern Warfare 3',\t'New Super Mario Bros.']\n",
        "xtick_label_position = list(range(len(Name)))\n",
        "\n",
        "#df_10['Total_Sales'].plot.bar()\n",
        "\n",
        "plt.xticks(xtick_label_position, Name,fontsize = '15',rotation = 50)\n",
        "\n",
        "plt.bar(xtick_label_position, df_n.iloc[:,9], color='tab:cyan')\n",
        "\n",
        "for i, v in enumerate(xtick_label_position):\n",
        "    plt.text(v, df_n.iloc[:,9][i]-4, round(df_n.iloc[:,9][i],2),                 # 좌표 (x축 = v, y축 = y[0]..y[1], 표시 = y[0]..y[1])\n",
        "             fontsize = 15, \n",
        "             color='w',\n",
        "             horizontalalignment='center',  # horizontalalignment (left, center, right)\n",
        "             verticalalignment='bottom') \n",
        "\n",
        "\n",
        "plt.title('게임 출고량 순위',fontsize=20) ## 타이틀 출력\n",
        "plt.xlabel('Name',fontsize=15) ## x축 라벨 출력\n",
        "\n",
        "#plt.xaxis(rotation = 90, fontsize = '15')\n",
        "\n",
        "plt.show()"
      ],
      "execution_count": 156,
      "outputs": [
        {
          "output_type": "display_data",
          "data": {
            "image/png": "[encoded data removed]",
            "text/plain": [
              "<Figure size 1440x720 with 1 Axes>"
            ]
          },
          "metadata": {
            "tags": [],
            "needs_background": "light"
          }
        }
      ]
    },
    {
      "cell_type": "markdown",
      "metadata": {
        "id": "auuoJWn5_n-b"
      },
      "source": [
        "상위 10위 안에 드는 게임의 Publisher은 모두 닌텐도가 차지하고 있으며, 플렛폼은 Will이 5개로 50% 차지하고 있고 그외 NES 2개, GB 2개씩 차지하고 있다. \n",
        "장르는 다른 feasure보다 고르게 분포되어있으며, Platform 3개정도 있다는 것과 스포츠 2개만 있지만 둘다 4위안에 들었다.\n",
        "\n",
        "이 게임들은 모두 2010년에 이전에 출시되었고 1980년것도 3개나 있다. 이 대부분 오랜 기간 많은 사랑을 받아온 게임들로 추측되니 이 게임들보다 훨씬 뛰어나게 못만들거면 비슷한 류는 피하는 것이 좋겠다.\n"
      ]
    },
    {
      "cell_type": "markdown",
      "metadata": {
        "id": "HaK_d9Snvs2Y"
      },
      "source": [
        "##출고량 많은 장르\n"
      ]
    },
    {
      "cell_type": "code",
      "metadata": {
        "colab": {
          "base_uri": "https://localhost:8080/",
          "height": 359
        },
        "id": "RS_8uuqEv_cl",
        "outputId": "81b6c9ba-5a6b-4aa8-f0a6-7962f9a29752"
      },
      "source": [
        "df_G=df.groupby(by=['Genre'],as_index=False).sum().sort_values(by=['Total_sales'], ascending = False).reset_index(drop=True).head(10)\n",
        "df_G['Rank']= df_G['Total_sales'].rank(ascending = False).astype(int)\n",
        "df_G"
      ],
      "execution_count": 97,
      "outputs": [
        {
          "output_type": "execute_result",
          "data": {
            "text/html": [
              "<div>\n",
              "<style scoped>\n",
              "    .dataframe tbody tr th:only-of-type {\n",
              "        vertical-align: middle;\n",
              "    }\n",
              "\n",
              "    .dataframe tbody tr th {\n",
              "        vertical-align: top;\n",
              "    }\n",
              "\n",
              "    .dataframe thead th {\n",
              "        text-align: right;\n",
              "    }\n",
              "</style>\n",
              "<table border=\"1\" class=\"dataframe\">\n",
              "  <thead>\n",
              "    <tr style=\"text-align: right;\">\n",
              "      <th></th>\n",
              "      <th>Genre</th>\n",
              "      <th>Year</th>\n",
              "      <th>NA_Sales</th>\n",
              "      <th>EU_Sales</th>\n",
              "      <th>JP_Sales</th>\n",
              "      <th>Other_Sales</th>\n",
              "      <th>Total_sales</th>\n",
              "      <th>Rank</th>\n",
              "    </tr>\n",
              "  </thead>\n",
              "  <tbody>\n",
              "    <tr>\n",
              "      <th>0</th>\n",
              "      <td>Action</td>\n",
              "      <td>6509645</td>\n",
              "      <td>874.81</td>\n",
              "      <td>522.16</td>\n",
              "      <td>157.90</td>\n",
              "      <td>186.45</td>\n",
              "      <td>1741.32</td>\n",
              "      <td>1</td>\n",
              "    </tr>\n",
              "    <tr>\n",
              "      <th>1</th>\n",
              "      <td>Sports</td>\n",
              "      <td>4610619</td>\n",
              "      <td>680.52</td>\n",
              "      <td>376.48</td>\n",
              "      <td>135.37</td>\n",
              "      <td>134.67</td>\n",
              "      <td>1327.04</td>\n",
              "      <td>2</td>\n",
              "    </tr>\n",
              "    <tr>\n",
              "      <th>2</th>\n",
              "      <td>Shooter</td>\n",
              "      <td>2565579</td>\n",
              "      <td>581.92</td>\n",
              "      <td>313.05</td>\n",
              "      <td>38.28</td>\n",
              "      <td>102.65</td>\n",
              "      <td>1035.90</td>\n",
              "      <td>3</td>\n",
              "    </tr>\n",
              "    <tr>\n",
              "      <th>3</th>\n",
              "      <td>Role-Playing</td>\n",
              "      <td>2942353</td>\n",
              "      <td>319.54</td>\n",
              "      <td>183.58</td>\n",
              "      <td>344.95</td>\n",
              "      <td>56.96</td>\n",
              "      <td>905.03</td>\n",
              "      <td>4</td>\n",
              "    </tr>\n",
              "    <tr>\n",
              "      <th>4</th>\n",
              "      <td>Platform</td>\n",
              "      <td>1749333</td>\n",
              "      <td>446.44</td>\n",
              "      <td>201.61</td>\n",
              "      <td>130.65</td>\n",
              "      <td>51.53</td>\n",
              "      <td>830.23</td>\n",
              "      <td>5</td>\n",
              "    </tr>\n",
              "    <tr>\n",
              "      <th>5</th>\n",
              "      <td>Misc</td>\n",
              "      <td>3422377</td>\n",
              "      <td>408.05</td>\n",
              "      <td>212.36</td>\n",
              "      <td>105.27</td>\n",
              "      <td>74.04</td>\n",
              "      <td>799.72</td>\n",
              "      <td>6</td>\n",
              "    </tr>\n",
              "    <tr>\n",
              "      <th>6</th>\n",
              "      <td>Racing</td>\n",
              "      <td>2445913</td>\n",
              "      <td>357.19</td>\n",
              "      <td>237.10</td>\n",
              "      <td>56.40</td>\n",
              "      <td>77.10</td>\n",
              "      <td>727.79</td>\n",
              "      <td>7</td>\n",
              "    </tr>\n",
              "    <tr>\n",
              "      <th>7</th>\n",
              "      <td>Fighting</td>\n",
              "      <td>1673860</td>\n",
              "      <td>223.20</td>\n",
              "      <td>101.22</td>\n",
              "      <td>87.34</td>\n",
              "      <td>36.64</td>\n",
              "      <td>448.40</td>\n",
              "      <td>8</td>\n",
              "    </tr>\n",
              "    <tr>\n",
              "      <th>8</th>\n",
              "      <td>Simulation</td>\n",
              "      <td>1703571</td>\n",
              "      <td>182.96</td>\n",
              "      <td>113.35</td>\n",
              "      <td>63.70</td>\n",
              "      <td>31.48</td>\n",
              "      <td>391.49</td>\n",
              "      <td>9</td>\n",
              "    </tr>\n",
              "    <tr>\n",
              "      <th>9</th>\n",
              "      <td>Puzzle</td>\n",
              "      <td>1136973</td>\n",
              "      <td>123.35</td>\n",
              "      <td>50.73</td>\n",
              "      <td>56.87</td>\n",
              "      <td>12.52</td>\n",
              "      <td>243.47</td>\n",
              "      <td>10</td>\n",
              "    </tr>\n",
              "  </tbody>\n",
              "</table>\n",
              "</div>"
            ],
            "text/plain": [
              "          Genre     Year  NA_Sales  ...  Other_Sales  Total_sales  Rank\n",
              "0        Action  6509645    874.81  ...       186.45      1741.32     1\n",
              "1        Sports  4610619    680.52  ...       134.67      1327.04     2\n",
              "2       Shooter  2565579    581.92  ...       102.65      1035.90     3\n",
              "3  Role-Playing  2942353    319.54  ...        56.96       905.03     4\n",
              "4      Platform  1749333    446.44  ...        51.53       830.23     5\n",
              "5          Misc  3422377    408.05  ...        74.04       799.72     6\n",
              "6        Racing  2445913    357.19  ...        77.10       727.79     7\n",
              "7      Fighting  1673860    223.20  ...        36.64       448.40     8\n",
              "8    Simulation  1703571    182.96  ...        31.48       391.49     9\n",
              "9        Puzzle  1136973    123.35  ...        12.52       243.47    10\n",
              "\n",
              "[10 rows x 8 columns]"
            ]
          },
          "metadata": {
            "tags": []
          },
          "execution_count": 97
        }
      ]
    },
    {
      "cell_type": "code",
      "metadata": {
        "colab": {
          "base_uri": "https://localhost:8080/",
          "height": 640
        },
        "id": "YTJNrP9eys9B",
        "outputId": "cda8a075-767d-4281-e36c-ecda62939071"
      },
      "source": [
        "import matplotlib\n",
        "\n",
        "plt.figure(figsize=(20,10))\n",
        "\n",
        "Genre= ['Action',\t'Sports',\t'Shooter',\t'Role-Playing',\t'Platform',\t'Misc',\t'Racing',\t'Fighting',\t'Simulation',\t'Puzzle']\n",
        "xtick_label_position_3 = list(range(len(Genre)))\n",
        "\n",
        "plt.xticks(xtick_label_position_3, Genre,fontsize = '15')\n",
        "plt.bar(xtick_label_position_3, df_G.iloc[:,6], color='tab:purple')\n",
        "\n",
        "for k, l in enumerate(xtick_label_position_3):\n",
        "    plt.text(l, df_G.iloc[:,6][k],round(df_G.iloc[:,6][k],2),                # 좌표 (x축 = v, y축 = y[0]..y[1], 표시 = y[0]..y[1])\n",
        "             fontsize = 15, \n",
        "            \n",
        "             horizontalalignment='center',  # horizontalalignment (left, center, right)\n",
        "             verticalalignment='bottom') \n",
        "\n",
        "plt.title('장르 출고량 순위',fontsize=20) ## 타이틀 출력\n",
        "plt.xlabel('Name',fontsize=15) ## x축 라벨 출력\n",
        "\n",
        "plt.show()"
      ],
      "execution_count": 98,
      "outputs": [
        {
          "output_type": "display_data",
          "data": {
            "image/png": "[encoded data removed]",
            "text/plain": [
              "<Figure size 1440x720 with 1 Axes>"
            ]
          },
          "metadata": {
            "tags": [],
            "needs_background": "light"
          }
        }
      ]
    },
    {
      "cell_type": "markdown",
      "metadata": {
        "id": "q3DkOfzftQNC"
      },
      "source": [
        "##출고량 많은 플랫폼"
      ]
    },
    {
      "cell_type": "code",
      "metadata": {
        "colab": {
          "base_uri": "https://localhost:8080/",
          "height": 359
        },
        "id": "1Nen4bq0owIW",
        "outputId": "84c28bb5-774d-4d21-ae91-dc5d758ae9b5"
      },
      "source": [
        "df_p=df.groupby(by=['Platform'],as_index=False).sum().sort_values(by=['Total_sales'], ascending = False).reset_index(drop=True).head(10)\n",
        "df_p['Rank']= df_p['Total_sales'].rank(ascending = False).astype(int)\n",
        "df_p"
      ],
      "execution_count": 37,
      "outputs": [
        {
          "output_type": "execute_result",
          "data": {
            "text/html": [
              "<div>\n",
              "<style scoped>\n",
              "    .dataframe tbody tr th:only-of-type {\n",
              "        vertical-align: middle;\n",
              "    }\n",
              "\n",
              "    .dataframe tbody tr th {\n",
              "        vertical-align: top;\n",
              "    }\n",
              "\n",
              "    .dataframe thead th {\n",
              "        text-align: right;\n",
              "    }\n",
              "</style>\n",
              "<table border=\"1\" class=\"dataframe\">\n",
              "  <thead>\n",
              "    <tr style=\"text-align: right;\">\n",
              "      <th></th>\n",
              "      <th>Platform</th>\n",
              "      <th>Year</th>\n",
              "      <th>NA_Sales</th>\n",
              "      <th>EU_Sales</th>\n",
              "      <th>JP_Sales</th>\n",
              "      <th>Other_Sales</th>\n",
              "      <th>Total_sales</th>\n",
              "      <th>Rank</th>\n",
              "    </tr>\n",
              "  </thead>\n",
              "  <tbody>\n",
              "    <tr>\n",
              "      <th>0</th>\n",
              "      <td>PS2</td>\n",
              "      <td>4263750</td>\n",
              "      <td>583.84</td>\n",
              "      <td>339.29</td>\n",
              "      <td>139.20</td>\n",
              "      <td>193.44</td>\n",
              "      <td>1255.77</td>\n",
              "      <td>1</td>\n",
              "    </tr>\n",
              "    <tr>\n",
              "      <th>1</th>\n",
              "      <td>X360</td>\n",
              "      <td>2482205</td>\n",
              "      <td>601.05</td>\n",
              "      <td>280.58</td>\n",
              "      <td>12.43</td>\n",
              "      <td>85.54</td>\n",
              "      <td>979.60</td>\n",
              "      <td>2</td>\n",
              "    </tr>\n",
              "    <tr>\n",
              "      <th>2</th>\n",
              "      <td>PS3</td>\n",
              "      <td>2622109</td>\n",
              "      <td>392.26</td>\n",
              "      <td>343.71</td>\n",
              "      <td>79.99</td>\n",
              "      <td>141.93</td>\n",
              "      <td>957.89</td>\n",
              "      <td>3</td>\n",
              "    </tr>\n",
              "    <tr>\n",
              "      <th>3</th>\n",
              "      <td>Wii</td>\n",
              "      <td>2591562</td>\n",
              "      <td>507.71</td>\n",
              "      <td>268.38</td>\n",
              "      <td>69.35</td>\n",
              "      <td>80.61</td>\n",
              "      <td>926.05</td>\n",
              "      <td>4</td>\n",
              "    </tr>\n",
              "    <tr>\n",
              "      <th>4</th>\n",
              "      <td>DS</td>\n",
              "      <td>4283493</td>\n",
              "      <td>390.71</td>\n",
              "      <td>194.65</td>\n",
              "      <td>175.57</td>\n",
              "      <td>60.53</td>\n",
              "      <td>821.46</td>\n",
              "      <td>5</td>\n",
              "    </tr>\n",
              "    <tr>\n",
              "      <th>5</th>\n",
              "      <td>PS</td>\n",
              "      <td>2371627</td>\n",
              "      <td>336.51</td>\n",
              "      <td>213.60</td>\n",
              "      <td>139.82</td>\n",
              "      <td>40.91</td>\n",
              "      <td>730.84</td>\n",
              "      <td>6</td>\n",
              "    </tr>\n",
              "    <tr>\n",
              "      <th>6</th>\n",
              "      <td>GBA</td>\n",
              "      <td>1624604</td>\n",
              "      <td>187.54</td>\n",
              "      <td>75.25</td>\n",
              "      <td>47.33</td>\n",
              "      <td>7.73</td>\n",
              "      <td>317.85</td>\n",
              "      <td>7</td>\n",
              "    </tr>\n",
              "    <tr>\n",
              "      <th>7</th>\n",
              "      <td>PSP</td>\n",
              "      <td>2404440</td>\n",
              "      <td>108.99</td>\n",
              "      <td>68.25</td>\n",
              "      <td>76.79</td>\n",
              "      <td>42.19</td>\n",
              "      <td>296.22</td>\n",
              "      <td>8</td>\n",
              "    </tr>\n",
              "    <tr>\n",
              "      <th>8</th>\n",
              "      <td>PS4</td>\n",
              "      <td>677042</td>\n",
              "      <td>96.80</td>\n",
              "      <td>123.70</td>\n",
              "      <td>14.30</td>\n",
              "      <td>43.36</td>\n",
              "      <td>278.16</td>\n",
              "      <td>9</td>\n",
              "    </tr>\n",
              "    <tr>\n",
              "      <th>9</th>\n",
              "      <td>PC</td>\n",
              "      <td>1894273</td>\n",
              "      <td>93.28</td>\n",
              "      <td>139.68</td>\n",
              "      <td>0.17</td>\n",
              "      <td>24.86</td>\n",
              "      <td>257.99</td>\n",
              "      <td>10</td>\n",
              "    </tr>\n",
              "  </tbody>\n",
              "</table>\n",
              "</div>"
            ],
            "text/plain": [
              "  Platform     Year  NA_Sales  ...  Other_Sales  Total_sales  Rank\n",
              "0      PS2  4263750    583.84  ...       193.44      1255.77     1\n",
              "1     X360  2482205    601.05  ...        85.54       979.60     2\n",
              "2      PS3  2622109    392.26  ...       141.93       957.89     3\n",
              "3      Wii  2591562    507.71  ...        80.61       926.05     4\n",
              "4       DS  4283493    390.71  ...        60.53       821.46     5\n",
              "5       PS  2371627    336.51  ...        40.91       730.84     6\n",
              "6      GBA  1624604    187.54  ...         7.73       317.85     7\n",
              "7      PSP  2404440    108.99  ...        42.19       296.22     8\n",
              "8      PS4   677042     96.80  ...        43.36       278.16     9\n",
              "9       PC  1894273     93.28  ...        24.86       257.99    10\n",
              "\n",
              "[10 rows x 8 columns]"
            ]
          },
          "metadata": {
            "tags": []
          },
          "execution_count": 37
        }
      ]
    },
    {
      "cell_type": "code",
      "metadata": {
        "colab": {
          "base_uri": "https://localhost:8080/",
          "height": 640
        },
        "id": "ssL9Ty2_tn6z",
        "outputId": "159491c0-0711-4406-8ee1-2c076fa4e1c7"
      },
      "source": [
        "import matplotlib\n",
        "\n",
        "plt.figure(figsize=(20,10))\n",
        "\n",
        "Platform= ['PS2',\t'X360',\t'PS3',\t'Wii',\t'DS',\t'PS',\t'GBA',\t'PSP',\t'PS4',\t'PC.']\n",
        "xtick_label_position_2 = list(range(len(Platform)))\n",
        "\n",
        "plt.xticks(xtick_label_position_2, Platform,fontsize = '15')\n",
        "plt.bar(xtick_label_position_2, df_p.iloc[:,6], color='tab:green')\n",
        "\n",
        "for j, w in enumerate(xtick_label_position_2):\n",
        "    plt.text(w, df_p.iloc[:,6][j],round(df_p.iloc[:,6][j],2),                # 좌표 (x축 = v, y축 = y[0]..y[1], 표시 = y[0]..y[1])\n",
        "             fontsize = 15, \n",
        "             color='g',\n",
        "             horizontalalignment='center',  # horizontalalignment (left, center, right)\n",
        "             verticalalignment='bottom') \n",
        "\n",
        "plt.title('플렛폼 출고량 순위',fontsize=20) ## 타이틀 출력\n",
        "plt.xlabel('Name',fontsize=15) ## x축 라벨 출력\n",
        "\n",
        "plt.show()"
      ],
      "execution_count": 38,
      "outputs": [
        {
          "output_type": "display_data",
          "data": {
            "image/png": "[encoded data removed]",
            "text/plain": [
              "<Figure size 1440x720 with 1 Axes>"
            ]
          },
          "metadata": {
            "tags": [],
            "needs_background": "light"
          }
        }
      ]
    },
    {
      "cell_type": "markdown",
      "metadata": {
        "id": "JMwnu-0BI5d4"
      },
      "source": [
        "##각 지역을 중심으로"
      ]
    },
    {
      "cell_type": "code",
      "metadata": {
        "id": "sWv_TAFWlVdH"
      },
      "source": [
        "import seaborn as sns\n",
        "\n",
        "cm = sns.light_palette(\"green\", as_cmap=True)"
      ],
      "execution_count": 60,
      "outputs": []
    },
    {
      "cell_type": "code",
      "metadata": {
        "colab": {
          "base_uri": "https://localhost:8080/",
          "height": 250
        },
        "id": "hapD6P8nIQFe",
        "outputId": "b6ded303-47e5-4243-e9de-6c1aa0d6196c"
      },
      "source": [
        "df_N=df.sort_values(by=['NA_Sales'],ascending = False).head(10).reset_index(drop=True)\n",
        "df_N.style.background_gradient(cmap=cm,subset=['NA_Sales'])"
      ],
      "execution_count": 94,
      "outputs": [
        {
          "output_type": "execute_result",
          "data": {
            "text/html": [
              "<style  type=\"text/css\" >\n",
              "#T_304c6a74_f3ff_11eb_8b11_0242ac1c0002row0_col5{\n",
              "            background-color:  #008000;\n",
              "            color:  #f1f1f1;\n",
              "        }#T_304c6a74_f3ff_11eb_8b11_0242ac1c0002row1_col5{\n",
              "            background-color:  #65b265;\n",
              "            color:  #000000;\n",
              "        }#T_304c6a74_f3ff_11eb_8b11_0242ac1c0002row2_col5{\n",
              "            background-color:  #77ba77;\n",
              "            color:  #000000;\n",
              "        }#T_304c6a74_f3ff_11eb_8b11_0242ac1c0002row3_col5{\n",
              "            background-color:  #96c996;\n",
              "            color:  #000000;\n",
              "        }#T_304c6a74_f3ff_11eb_8b11_0242ac1c0002row4_col5{\n",
              "            background-color:  #d2e7d2;\n",
              "            color:  #000000;\n",
              "        }#T_304c6a74_f3ff_11eb_8b11_0242ac1c0002row5_col5{\n",
              "            background-color:  #d3e7d3;\n",
              "            color:  #000000;\n",
              "        }#T_304c6a74_f3ff_11eb_8b11_0242ac1c0002row6_col5{\n",
              "            background-color:  #d9ead9;\n",
              "            color:  #000000;\n",
              "        }#T_304c6a74_f3ff_11eb_8b11_0242ac1c0002row7_col5{\n",
              "            background-color:  #dcecdc;\n",
              "            color:  #000000;\n",
              "        }#T_304c6a74_f3ff_11eb_8b11_0242ac1c0002row8_col5{\n",
              "            background-color:  #e0eee0;\n",
              "            color:  #000000;\n",
              "        }#T_304c6a74_f3ff_11eb_8b11_0242ac1c0002row9_col5{\n",
              "            background-color:  #ebf3eb;\n",
              "            color:  #000000;\n",
              "        }</style><table id=\"T_304c6a74_f3ff_11eb_8b11_0242ac1c0002\" ><thead>    <tr>        <th class=\"blank level0\" ></th>        <th class=\"col_heading level0 col0\" >Name</th>        <th class=\"col_heading level0 col1\" >Platform</th>        <th class=\"col_heading level0 col2\" >Year</th>        <th class=\"col_heading level0 col3\" >Genre</th>        <th class=\"col_heading level0 col4\" >Publisher</th>        <th class=\"col_heading level0 col5\" >NA_Sales</th>        <th class=\"col_heading level0 col6\" >EU_Sales</th>        <th class=\"col_heading level0 col7\" >JP_Sales</th>        <th class=\"col_heading level0 col8\" >Other_Sales</th>        <th class=\"col_heading level0 col9\" >Total_sales</th>    </tr></thead><tbody>\n",
              "                <tr>\n",
              "                        <th id=\"T_304c6a74_f3ff_11eb_8b11_0242ac1c0002level0_row0\" class=\"row_heading level0 row0\" >0</th>\n",
              "                        <td id=\"T_304c6a74_f3ff_11eb_8b11_0242ac1c0002row0_col0\" class=\"data row0 col0\" >Wii Sports</td>\n",
              "                        <td id=\"T_304c6a74_f3ff_11eb_8b11_0242ac1c0002row0_col1\" class=\"data row0 col1\" >Wii</td>\n",
              "                        <td id=\"T_304c6a74_f3ff_11eb_8b11_0242ac1c0002row0_col2\" class=\"data row0 col2\" >2006</td>\n",
              "                        <td id=\"T_304c6a74_f3ff_11eb_8b11_0242ac1c0002row0_col3\" class=\"data row0 col3\" >Sports</td>\n",
              "                        <td id=\"T_304c6a74_f3ff_11eb_8b11_0242ac1c0002row0_col4\" class=\"data row0 col4\" >Nintendo</td>\n",
              "                        <td id=\"T_304c6a74_f3ff_11eb_8b11_0242ac1c0002row0_col5\" class=\"data row0 col5\" >41.490000</td>\n",
              "                        <td id=\"T_304c6a74_f3ff_11eb_8b11_0242ac1c0002row0_col6\" class=\"data row0 col6\" >29.020000</td>\n",
              "                        <td id=\"T_304c6a74_f3ff_11eb_8b11_0242ac1c0002row0_col7\" class=\"data row0 col7\" >3.770000</td>\n",
              "                        <td id=\"T_304c6a74_f3ff_11eb_8b11_0242ac1c0002row0_col8\" class=\"data row0 col8\" >8.460000</td>\n",
              "                        <td id=\"T_304c6a74_f3ff_11eb_8b11_0242ac1c0002row0_col9\" class=\"data row0 col9\" >82.740000</td>\n",
              "            </tr>\n",
              "            <tr>\n",
              "                        <th id=\"T_304c6a74_f3ff_11eb_8b11_0242ac1c0002level0_row1\" class=\"row_heading level0 row1\" >1</th>\n",
              "                        <td id=\"T_304c6a74_f3ff_11eb_8b11_0242ac1c0002row1_col0\" class=\"data row1 col0\" >Super Mario Bros.</td>\n",
              "                        <td id=\"T_304c6a74_f3ff_11eb_8b11_0242ac1c0002row1_col1\" class=\"data row1 col1\" >NES</td>\n",
              "                        <td id=\"T_304c6a74_f3ff_11eb_8b11_0242ac1c0002row1_col2\" class=\"data row1 col2\" >1985</td>\n",
              "                        <td id=\"T_304c6a74_f3ff_11eb_8b11_0242ac1c0002row1_col3\" class=\"data row1 col3\" >Platform</td>\n",
              "                        <td id=\"T_304c6a74_f3ff_11eb_8b11_0242ac1c0002row1_col4\" class=\"data row1 col4\" >Nintendo</td>\n",
              "                        <td id=\"T_304c6a74_f3ff_11eb_8b11_0242ac1c0002row1_col5\" class=\"data row1 col5\" >29.080000</td>\n",
              "                        <td id=\"T_304c6a74_f3ff_11eb_8b11_0242ac1c0002row1_col6\" class=\"data row1 col6\" >3.580000</td>\n",
              "                        <td id=\"T_304c6a74_f3ff_11eb_8b11_0242ac1c0002row1_col7\" class=\"data row1 col7\" >6.810000</td>\n",
              "                        <td id=\"T_304c6a74_f3ff_11eb_8b11_0242ac1c0002row1_col8\" class=\"data row1 col8\" >0.770000</td>\n",
              "                        <td id=\"T_304c6a74_f3ff_11eb_8b11_0242ac1c0002row1_col9\" class=\"data row1 col9\" >40.240000</td>\n",
              "            </tr>\n",
              "            <tr>\n",
              "                        <th id=\"T_304c6a74_f3ff_11eb_8b11_0242ac1c0002level0_row2\" class=\"row_heading level0 row2\" >2</th>\n",
              "                        <td id=\"T_304c6a74_f3ff_11eb_8b11_0242ac1c0002row2_col0\" class=\"data row2 col0\" >Duck Hunt</td>\n",
              "                        <td id=\"T_304c6a74_f3ff_11eb_8b11_0242ac1c0002row2_col1\" class=\"data row2 col1\" >NES</td>\n",
              "                        <td id=\"T_304c6a74_f3ff_11eb_8b11_0242ac1c0002row2_col2\" class=\"data row2 col2\" >1984</td>\n",
              "                        <td id=\"T_304c6a74_f3ff_11eb_8b11_0242ac1c0002row2_col3\" class=\"data row2 col3\" >Shooter</td>\n",
              "                        <td id=\"T_304c6a74_f3ff_11eb_8b11_0242ac1c0002row2_col4\" class=\"data row2 col4\" >Nintendo</td>\n",
              "                        <td id=\"T_304c6a74_f3ff_11eb_8b11_0242ac1c0002row2_col5\" class=\"data row2 col5\" >26.930000</td>\n",
              "                        <td id=\"T_304c6a74_f3ff_11eb_8b11_0242ac1c0002row2_col6\" class=\"data row2 col6\" >0.630000</td>\n",
              "                        <td id=\"T_304c6a74_f3ff_11eb_8b11_0242ac1c0002row2_col7\" class=\"data row2 col7\" >0.280000</td>\n",
              "                        <td id=\"T_304c6a74_f3ff_11eb_8b11_0242ac1c0002row2_col8\" class=\"data row2 col8\" >0.470000</td>\n",
              "                        <td id=\"T_304c6a74_f3ff_11eb_8b11_0242ac1c0002row2_col9\" class=\"data row2 col9\" >28.310000</td>\n",
              "            </tr>\n",
              "            <tr>\n",
              "                        <th id=\"T_304c6a74_f3ff_11eb_8b11_0242ac1c0002level0_row3\" class=\"row_heading level0 row3\" >3</th>\n",
              "                        <td id=\"T_304c6a74_f3ff_11eb_8b11_0242ac1c0002row3_col0\" class=\"data row3 col0\" >Tetris</td>\n",
              "                        <td id=\"T_304c6a74_f3ff_11eb_8b11_0242ac1c0002row3_col1\" class=\"data row3 col1\" >GB</td>\n",
              "                        <td id=\"T_304c6a74_f3ff_11eb_8b11_0242ac1c0002row3_col2\" class=\"data row3 col2\" >1989</td>\n",
              "                        <td id=\"T_304c6a74_f3ff_11eb_8b11_0242ac1c0002row3_col3\" class=\"data row3 col3\" >Puzzle</td>\n",
              "                        <td id=\"T_304c6a74_f3ff_11eb_8b11_0242ac1c0002row3_col4\" class=\"data row3 col4\" >Nintendo</td>\n",
              "                        <td id=\"T_304c6a74_f3ff_11eb_8b11_0242ac1c0002row3_col5\" class=\"data row3 col5\" >23.200000</td>\n",
              "                        <td id=\"T_304c6a74_f3ff_11eb_8b11_0242ac1c0002row3_col6\" class=\"data row3 col6\" >2.260000</td>\n",
              "                        <td id=\"T_304c6a74_f3ff_11eb_8b11_0242ac1c0002row3_col7\" class=\"data row3 col7\" >4.220000</td>\n",
              "                        <td id=\"T_304c6a74_f3ff_11eb_8b11_0242ac1c0002row3_col8\" class=\"data row3 col8\" >0.580000</td>\n",
              "                        <td id=\"T_304c6a74_f3ff_11eb_8b11_0242ac1c0002row3_col9\" class=\"data row3 col9\" >30.260000</td>\n",
              "            </tr>\n",
              "            <tr>\n",
              "                        <th id=\"T_304c6a74_f3ff_11eb_8b11_0242ac1c0002level0_row4\" class=\"row_heading level0 row4\" >4</th>\n",
              "                        <td id=\"T_304c6a74_f3ff_11eb_8b11_0242ac1c0002row4_col0\" class=\"data row4 col0\" >Mario Kart Wii</td>\n",
              "                        <td id=\"T_304c6a74_f3ff_11eb_8b11_0242ac1c0002row4_col1\" class=\"data row4 col1\" >Wii</td>\n",
              "                        <td id=\"T_304c6a74_f3ff_11eb_8b11_0242ac1c0002row4_col2\" class=\"data row4 col2\" >2008</td>\n",
              "                        <td id=\"T_304c6a74_f3ff_11eb_8b11_0242ac1c0002row4_col3\" class=\"data row4 col3\" >Racing</td>\n",
              "                        <td id=\"T_304c6a74_f3ff_11eb_8b11_0242ac1c0002row4_col4\" class=\"data row4 col4\" >Nintendo</td>\n",
              "                        <td id=\"T_304c6a74_f3ff_11eb_8b11_0242ac1c0002row4_col5\" class=\"data row4 col5\" >15.850000</td>\n",
              "                        <td id=\"T_304c6a74_f3ff_11eb_8b11_0242ac1c0002row4_col6\" class=\"data row4 col6\" >12.880000</td>\n",
              "                        <td id=\"T_304c6a74_f3ff_11eb_8b11_0242ac1c0002row4_col7\" class=\"data row4 col7\" >3.790000</td>\n",
              "                        <td id=\"T_304c6a74_f3ff_11eb_8b11_0242ac1c0002row4_col8\" class=\"data row4 col8\" >3.310000</td>\n",
              "                        <td id=\"T_304c6a74_f3ff_11eb_8b11_0242ac1c0002row4_col9\" class=\"data row4 col9\" >35.830000</td>\n",
              "            </tr>\n",
              "            <tr>\n",
              "                        <th id=\"T_304c6a74_f3ff_11eb_8b11_0242ac1c0002level0_row5\" class=\"row_heading level0 row5\" >5</th>\n",
              "                        <td id=\"T_304c6a74_f3ff_11eb_8b11_0242ac1c0002row5_col0\" class=\"data row5 col0\" >Wii Sports Resort</td>\n",
              "                        <td id=\"T_304c6a74_f3ff_11eb_8b11_0242ac1c0002row5_col1\" class=\"data row5 col1\" >Wii</td>\n",
              "                        <td id=\"T_304c6a74_f3ff_11eb_8b11_0242ac1c0002row5_col2\" class=\"data row5 col2\" >2009</td>\n",
              "                        <td id=\"T_304c6a74_f3ff_11eb_8b11_0242ac1c0002row5_col3\" class=\"data row5 col3\" >Sports</td>\n",
              "                        <td id=\"T_304c6a74_f3ff_11eb_8b11_0242ac1c0002row5_col4\" class=\"data row5 col4\" >Nintendo</td>\n",
              "                        <td id=\"T_304c6a74_f3ff_11eb_8b11_0242ac1c0002row5_col5\" class=\"data row5 col5\" >15.750000</td>\n",
              "                        <td id=\"T_304c6a74_f3ff_11eb_8b11_0242ac1c0002row5_col6\" class=\"data row5 col6\" >11.010000</td>\n",
              "                        <td id=\"T_304c6a74_f3ff_11eb_8b11_0242ac1c0002row5_col7\" class=\"data row5 col7\" >3.280000</td>\n",
              "                        <td id=\"T_304c6a74_f3ff_11eb_8b11_0242ac1c0002row5_col8\" class=\"data row5 col8\" >2.960000</td>\n",
              "                        <td id=\"T_304c6a74_f3ff_11eb_8b11_0242ac1c0002row5_col9\" class=\"data row5 col9\" >33.000000</td>\n",
              "            </tr>\n",
              "            <tr>\n",
              "                        <th id=\"T_304c6a74_f3ff_11eb_8b11_0242ac1c0002level0_row6\" class=\"row_heading level0 row6\" >6</th>\n",
              "                        <td id=\"T_304c6a74_f3ff_11eb_8b11_0242ac1c0002row6_col0\" class=\"data row6 col0\" >Kinect Adventures!</td>\n",
              "                        <td id=\"T_304c6a74_f3ff_11eb_8b11_0242ac1c0002row6_col1\" class=\"data row6 col1\" >X360</td>\n",
              "                        <td id=\"T_304c6a74_f3ff_11eb_8b11_0242ac1c0002row6_col2\" class=\"data row6 col2\" >2010</td>\n",
              "                        <td id=\"T_304c6a74_f3ff_11eb_8b11_0242ac1c0002row6_col3\" class=\"data row6 col3\" >Misc</td>\n",
              "                        <td id=\"T_304c6a74_f3ff_11eb_8b11_0242ac1c0002row6_col4\" class=\"data row6 col4\" >Microsoft Game Studios</td>\n",
              "                        <td id=\"T_304c6a74_f3ff_11eb_8b11_0242ac1c0002row6_col5\" class=\"data row6 col5\" >14.970000</td>\n",
              "                        <td id=\"T_304c6a74_f3ff_11eb_8b11_0242ac1c0002row6_col6\" class=\"data row6 col6\" >4.940000</td>\n",
              "                        <td id=\"T_304c6a74_f3ff_11eb_8b11_0242ac1c0002row6_col7\" class=\"data row6 col7\" >0.240000</td>\n",
              "                        <td id=\"T_304c6a74_f3ff_11eb_8b11_0242ac1c0002row6_col8\" class=\"data row6 col8\" >1.670000</td>\n",
              "                        <td id=\"T_304c6a74_f3ff_11eb_8b11_0242ac1c0002row6_col9\" class=\"data row6 col9\" >21.820000</td>\n",
              "            </tr>\n",
              "            <tr>\n",
              "                        <th id=\"T_304c6a74_f3ff_11eb_8b11_0242ac1c0002level0_row7\" class=\"row_heading level0 row7\" >7</th>\n",
              "                        <td id=\"T_304c6a74_f3ff_11eb_8b11_0242ac1c0002row7_col0\" class=\"data row7 col0\" >New Super Mario Bros. Wii</td>\n",
              "                        <td id=\"T_304c6a74_f3ff_11eb_8b11_0242ac1c0002row7_col1\" class=\"data row7 col1\" >Wii</td>\n",
              "                        <td id=\"T_304c6a74_f3ff_11eb_8b11_0242ac1c0002row7_col2\" class=\"data row7 col2\" >2009</td>\n",
              "                        <td id=\"T_304c6a74_f3ff_11eb_8b11_0242ac1c0002row7_col3\" class=\"data row7 col3\" >Platform</td>\n",
              "                        <td id=\"T_304c6a74_f3ff_11eb_8b11_0242ac1c0002row7_col4\" class=\"data row7 col4\" >Nintendo</td>\n",
              "                        <td id=\"T_304c6a74_f3ff_11eb_8b11_0242ac1c0002row7_col5\" class=\"data row7 col5\" >14.590000</td>\n",
              "                        <td id=\"T_304c6a74_f3ff_11eb_8b11_0242ac1c0002row7_col6\" class=\"data row7 col6\" >7.060000</td>\n",
              "                        <td id=\"T_304c6a74_f3ff_11eb_8b11_0242ac1c0002row7_col7\" class=\"data row7 col7\" >4.700000</td>\n",
              "                        <td id=\"T_304c6a74_f3ff_11eb_8b11_0242ac1c0002row7_col8\" class=\"data row7 col8\" >2.260000</td>\n",
              "                        <td id=\"T_304c6a74_f3ff_11eb_8b11_0242ac1c0002row7_col9\" class=\"data row7 col9\" >28.610000</td>\n",
              "            </tr>\n",
              "            <tr>\n",
              "                        <th id=\"T_304c6a74_f3ff_11eb_8b11_0242ac1c0002level0_row8\" class=\"row_heading level0 row8\" >8</th>\n",
              "                        <td id=\"T_304c6a74_f3ff_11eb_8b11_0242ac1c0002row8_col0\" class=\"data row8 col0\" >Wii Play</td>\n",
              "                        <td id=\"T_304c6a74_f3ff_11eb_8b11_0242ac1c0002row8_col1\" class=\"data row8 col1\" >Wii</td>\n",
              "                        <td id=\"T_304c6a74_f3ff_11eb_8b11_0242ac1c0002row8_col2\" class=\"data row8 col2\" >2006</td>\n",
              "                        <td id=\"T_304c6a74_f3ff_11eb_8b11_0242ac1c0002row8_col3\" class=\"data row8 col3\" >Misc</td>\n",
              "                        <td id=\"T_304c6a74_f3ff_11eb_8b11_0242ac1c0002row8_col4\" class=\"data row8 col4\" >Nintendo</td>\n",
              "                        <td id=\"T_304c6a74_f3ff_11eb_8b11_0242ac1c0002row8_col5\" class=\"data row8 col5\" >14.030000</td>\n",
              "                        <td id=\"T_304c6a74_f3ff_11eb_8b11_0242ac1c0002row8_col6\" class=\"data row8 col6\" >9.200000</td>\n",
              "                        <td id=\"T_304c6a74_f3ff_11eb_8b11_0242ac1c0002row8_col7\" class=\"data row8 col7\" >2.930000</td>\n",
              "                        <td id=\"T_304c6a74_f3ff_11eb_8b11_0242ac1c0002row8_col8\" class=\"data row8 col8\" >2.850000</td>\n",
              "                        <td id=\"T_304c6a74_f3ff_11eb_8b11_0242ac1c0002row8_col9\" class=\"data row8 col9\" >29.010000</td>\n",
              "            </tr>\n",
              "            <tr>\n",
              "                        <th id=\"T_304c6a74_f3ff_11eb_8b11_0242ac1c0002level0_row9\" class=\"row_heading level0 row9\" >9</th>\n",
              "                        <td id=\"T_304c6a74_f3ff_11eb_8b11_0242ac1c0002row9_col0\" class=\"data row9 col0\" >Super Mario World</td>\n",
              "                        <td id=\"T_304c6a74_f3ff_11eb_8b11_0242ac1c0002row9_col1\" class=\"data row9 col1\" >SNES</td>\n",
              "                        <td id=\"T_304c6a74_f3ff_11eb_8b11_0242ac1c0002row9_col2\" class=\"data row9 col2\" >1990</td>\n",
              "                        <td id=\"T_304c6a74_f3ff_11eb_8b11_0242ac1c0002row9_col3\" class=\"data row9 col3\" >Platform</td>\n",
              "                        <td id=\"T_304c6a74_f3ff_11eb_8b11_0242ac1c0002row9_col4\" class=\"data row9 col4\" >Nintendo</td>\n",
              "                        <td id=\"T_304c6a74_f3ff_11eb_8b11_0242ac1c0002row9_col5\" class=\"data row9 col5\" >12.780000</td>\n",
              "                        <td id=\"T_304c6a74_f3ff_11eb_8b11_0242ac1c0002row9_col6\" class=\"data row9 col6\" >3.750000</td>\n",
              "                        <td id=\"T_304c6a74_f3ff_11eb_8b11_0242ac1c0002row9_col7\" class=\"data row9 col7\" >3.540000</td>\n",
              "                        <td id=\"T_304c6a74_f3ff_11eb_8b11_0242ac1c0002row9_col8\" class=\"data row9 col8\" >0.550000</td>\n",
              "                        <td id=\"T_304c6a74_f3ff_11eb_8b11_0242ac1c0002row9_col9\" class=\"data row9 col9\" >20.620000</td>\n",
              "            </tr>\n",
              "    </tbody></table>"
            ],
            "text/plain": [
              "<pandas.io.formats.style.Styler at 0x7f9fb4380410>"
            ]
          },
          "metadata": {
            "tags": []
          },
          "execution_count": 94
        }
      ]
    },
    {
      "cell_type": "code",
      "metadata": {
        "colab": {
          "base_uri": "https://localhost:8080/",
          "height": 250
        },
        "id": "U3WAaAZ9IS0G",
        "outputId": "2e31eb7d-9f0f-4a0f-8007-49dae8f5ba80"
      },
      "source": [
        "df_e=df.sort_values(by=['EU_Sales'],ascending = False).head(10).reset_index(drop=True)\n",
        "df_e.style.background_gradient(cmap=cm,subset=['EU_Sales'])"
      ],
      "execution_count": 96,
      "outputs": [
        {
          "output_type": "execute_result",
          "data": {
            "text/html": [
              "<style  type=\"text/css\" >\n",
              "#T_596d5cba_f3ff_11eb_8b11_0242ac1c0002row0_col6{\n",
              "            background-color:  #008000;\n",
              "            color:  #f1f1f1;\n",
              "        }#T_596d5cba_f3ff_11eb_8b11_0242ac1c0002row1_col6{\n",
              "            background-color:  #badbba;\n",
              "            color:  #000000;\n",
              "        }#T_596d5cba_f3ff_11eb_8b11_0242ac1c0002row2_col6,#T_596d5cba_f3ff_11eb_8b11_0242ac1c0002row3_col6{\n",
              "            background-color:  #cfe5cf;\n",
              "            color:  #000000;\n",
              "        }#T_596d5cba_f3ff_11eb_8b11_0242ac1c0002row4_col6,#T_596d5cba_f3ff_11eb_8b11_0242ac1c0002row5_col6,#T_596d5cba_f3ff_11eb_8b11_0242ac1c0002row6_col6{\n",
              "            background-color:  #e3efe3;\n",
              "            color:  #000000;\n",
              "        }#T_596d5cba_f3ff_11eb_8b11_0242ac1c0002row7_col6{\n",
              "            background-color:  #e4f0e4;\n",
              "            color:  #000000;\n",
              "        }#T_596d5cba_f3ff_11eb_8b11_0242ac1c0002row8_col6{\n",
              "            background-color:  #e8f2e8;\n",
              "            color:  #000000;\n",
              "        }#T_596d5cba_f3ff_11eb_8b11_0242ac1c0002row9_col6{\n",
              "            background-color:  #ebf3eb;\n",
              "            color:  #000000;\n",
              "        }</style><table id=\"T_596d5cba_f3ff_11eb_8b11_0242ac1c0002\" ><thead>    <tr>        <th class=\"blank level0\" ></th>        <th class=\"col_heading level0 col0\" >Name</th>        <th class=\"col_heading level0 col1\" >Platform</th>        <th class=\"col_heading level0 col2\" >Year</th>        <th class=\"col_heading level0 col3\" >Genre</th>        <th class=\"col_heading level0 col4\" >Publisher</th>        <th class=\"col_heading level0 col5\" >NA_Sales</th>        <th class=\"col_heading level0 col6\" >EU_Sales</th>        <th class=\"col_heading level0 col7\" >JP_Sales</th>        <th class=\"col_heading level0 col8\" >Other_Sales</th>        <th class=\"col_heading level0 col9\" >Total_sales</th>    </tr></thead><tbody>\n",
              "                <tr>\n",
              "                        <th id=\"T_596d5cba_f3ff_11eb_8b11_0242ac1c0002level0_row0\" class=\"row_heading level0 row0\" >0</th>\n",
              "                        <td id=\"T_596d5cba_f3ff_11eb_8b11_0242ac1c0002row0_col0\" class=\"data row0 col0\" >Wii Sports</td>\n",
              "                        <td id=\"T_596d5cba_f3ff_11eb_8b11_0242ac1c0002row0_col1\" class=\"data row0 col1\" >Wii</td>\n",
              "                        <td id=\"T_596d5cba_f3ff_11eb_8b11_0242ac1c0002row0_col2\" class=\"data row0 col2\" >2006</td>\n",
              "                        <td id=\"T_596d5cba_f3ff_11eb_8b11_0242ac1c0002row0_col3\" class=\"data row0 col3\" >Sports</td>\n",
              "                        <td id=\"T_596d5cba_f3ff_11eb_8b11_0242ac1c0002row0_col4\" class=\"data row0 col4\" >Nintendo</td>\n",
              "                        <td id=\"T_596d5cba_f3ff_11eb_8b11_0242ac1c0002row0_col5\" class=\"data row0 col5\" >41.490000</td>\n",
              "                        <td id=\"T_596d5cba_f3ff_11eb_8b11_0242ac1c0002row0_col6\" class=\"data row0 col6\" >29.020000</td>\n",
              "                        <td id=\"T_596d5cba_f3ff_11eb_8b11_0242ac1c0002row0_col7\" class=\"data row0 col7\" >3.770000</td>\n",
              "                        <td id=\"T_596d5cba_f3ff_11eb_8b11_0242ac1c0002row0_col8\" class=\"data row0 col8\" >8.460000</td>\n",
              "                        <td id=\"T_596d5cba_f3ff_11eb_8b11_0242ac1c0002row0_col9\" class=\"data row0 col9\" >82.740000</td>\n",
              "            </tr>\n",
              "            <tr>\n",
              "                        <th id=\"T_596d5cba_f3ff_11eb_8b11_0242ac1c0002level0_row1\" class=\"row_heading level0 row1\" >1</th>\n",
              "                        <td id=\"T_596d5cba_f3ff_11eb_8b11_0242ac1c0002row1_col0\" class=\"data row1 col0\" >Mario Kart Wii</td>\n",
              "                        <td id=\"T_596d5cba_f3ff_11eb_8b11_0242ac1c0002row1_col1\" class=\"data row1 col1\" >Wii</td>\n",
              "                        <td id=\"T_596d5cba_f3ff_11eb_8b11_0242ac1c0002row1_col2\" class=\"data row1 col2\" >2008</td>\n",
              "                        <td id=\"T_596d5cba_f3ff_11eb_8b11_0242ac1c0002row1_col3\" class=\"data row1 col3\" >Racing</td>\n",
              "                        <td id=\"T_596d5cba_f3ff_11eb_8b11_0242ac1c0002row1_col4\" class=\"data row1 col4\" >Nintendo</td>\n",
              "                        <td id=\"T_596d5cba_f3ff_11eb_8b11_0242ac1c0002row1_col5\" class=\"data row1 col5\" >15.850000</td>\n",
              "                        <td id=\"T_596d5cba_f3ff_11eb_8b11_0242ac1c0002row1_col6\" class=\"data row1 col6\" >12.880000</td>\n",
              "                        <td id=\"T_596d5cba_f3ff_11eb_8b11_0242ac1c0002row1_col7\" class=\"data row1 col7\" >3.790000</td>\n",
              "                        <td id=\"T_596d5cba_f3ff_11eb_8b11_0242ac1c0002row1_col8\" class=\"data row1 col8\" >3.310000</td>\n",
              "                        <td id=\"T_596d5cba_f3ff_11eb_8b11_0242ac1c0002row1_col9\" class=\"data row1 col9\" >35.830000</td>\n",
              "            </tr>\n",
              "            <tr>\n",
              "                        <th id=\"T_596d5cba_f3ff_11eb_8b11_0242ac1c0002level0_row2\" class=\"row_heading level0 row2\" >2</th>\n",
              "                        <td id=\"T_596d5cba_f3ff_11eb_8b11_0242ac1c0002row2_col0\" class=\"data row2 col0\" >Wii Sports Resort</td>\n",
              "                        <td id=\"T_596d5cba_f3ff_11eb_8b11_0242ac1c0002row2_col1\" class=\"data row2 col1\" >Wii</td>\n",
              "                        <td id=\"T_596d5cba_f3ff_11eb_8b11_0242ac1c0002row2_col2\" class=\"data row2 col2\" >2009</td>\n",
              "                        <td id=\"T_596d5cba_f3ff_11eb_8b11_0242ac1c0002row2_col3\" class=\"data row2 col3\" >Sports</td>\n",
              "                        <td id=\"T_596d5cba_f3ff_11eb_8b11_0242ac1c0002row2_col4\" class=\"data row2 col4\" >Nintendo</td>\n",
              "                        <td id=\"T_596d5cba_f3ff_11eb_8b11_0242ac1c0002row2_col5\" class=\"data row2 col5\" >15.750000</td>\n",
              "                        <td id=\"T_596d5cba_f3ff_11eb_8b11_0242ac1c0002row2_col6\" class=\"data row2 col6\" >11.010000</td>\n",
              "                        <td id=\"T_596d5cba_f3ff_11eb_8b11_0242ac1c0002row2_col7\" class=\"data row2 col7\" >3.280000</td>\n",
              "                        <td id=\"T_596d5cba_f3ff_11eb_8b11_0242ac1c0002row2_col8\" class=\"data row2 col8\" >2.960000</td>\n",
              "                        <td id=\"T_596d5cba_f3ff_11eb_8b11_0242ac1c0002row2_col9\" class=\"data row2 col9\" >33.000000</td>\n",
              "            </tr>\n",
              "            <tr>\n",
              "                        <th id=\"T_596d5cba_f3ff_11eb_8b11_0242ac1c0002level0_row3\" class=\"row_heading level0 row3\" >3</th>\n",
              "                        <td id=\"T_596d5cba_f3ff_11eb_8b11_0242ac1c0002row3_col0\" class=\"data row3 col0\" >Nintendogs</td>\n",
              "                        <td id=\"T_596d5cba_f3ff_11eb_8b11_0242ac1c0002row3_col1\" class=\"data row3 col1\" >DS</td>\n",
              "                        <td id=\"T_596d5cba_f3ff_11eb_8b11_0242ac1c0002row3_col2\" class=\"data row3 col2\" >2005</td>\n",
              "                        <td id=\"T_596d5cba_f3ff_11eb_8b11_0242ac1c0002row3_col3\" class=\"data row3 col3\" >Simulation</td>\n",
              "                        <td id=\"T_596d5cba_f3ff_11eb_8b11_0242ac1c0002row3_col4\" class=\"data row3 col4\" >Nintendo</td>\n",
              "                        <td id=\"T_596d5cba_f3ff_11eb_8b11_0242ac1c0002row3_col5\" class=\"data row3 col5\" >9.070000</td>\n",
              "                        <td id=\"T_596d5cba_f3ff_11eb_8b11_0242ac1c0002row3_col6\" class=\"data row3 col6\" >11.000000</td>\n",
              "                        <td id=\"T_596d5cba_f3ff_11eb_8b11_0242ac1c0002row3_col7\" class=\"data row3 col7\" >1.930000</td>\n",
              "                        <td id=\"T_596d5cba_f3ff_11eb_8b11_0242ac1c0002row3_col8\" class=\"data row3 col8\" >2.750000</td>\n",
              "                        <td id=\"T_596d5cba_f3ff_11eb_8b11_0242ac1c0002row3_col9\" class=\"data row3 col9\" >24.750000</td>\n",
              "            </tr>\n",
              "            <tr>\n",
              "                        <th id=\"T_596d5cba_f3ff_11eb_8b11_0242ac1c0002level0_row4\" class=\"row_heading level0 row4\" >4</th>\n",
              "                        <td id=\"T_596d5cba_f3ff_11eb_8b11_0242ac1c0002row4_col0\" class=\"data row4 col0\" >Grand Theft Auto V</td>\n",
              "                        <td id=\"T_596d5cba_f3ff_11eb_8b11_0242ac1c0002row4_col1\" class=\"data row4 col1\" >PS3</td>\n",
              "                        <td id=\"T_596d5cba_f3ff_11eb_8b11_0242ac1c0002row4_col2\" class=\"data row4 col2\" >2013</td>\n",
              "                        <td id=\"T_596d5cba_f3ff_11eb_8b11_0242ac1c0002row4_col3\" class=\"data row4 col3\" >Action</td>\n",
              "                        <td id=\"T_596d5cba_f3ff_11eb_8b11_0242ac1c0002row4_col4\" class=\"data row4 col4\" >Take-Two Interactive</td>\n",
              "                        <td id=\"T_596d5cba_f3ff_11eb_8b11_0242ac1c0002row4_col5\" class=\"data row4 col5\" >7.010000</td>\n",
              "                        <td id=\"T_596d5cba_f3ff_11eb_8b11_0242ac1c0002row4_col6\" class=\"data row4 col6\" >9.270000</td>\n",
              "                        <td id=\"T_596d5cba_f3ff_11eb_8b11_0242ac1c0002row4_col7\" class=\"data row4 col7\" >0.970000</td>\n",
              "                        <td id=\"T_596d5cba_f3ff_11eb_8b11_0242ac1c0002row4_col8\" class=\"data row4 col8\" >4.140000</td>\n",
              "                        <td id=\"T_596d5cba_f3ff_11eb_8b11_0242ac1c0002row4_col9\" class=\"data row4 col9\" >21.390000</td>\n",
              "            </tr>\n",
              "            <tr>\n",
              "                        <th id=\"T_596d5cba_f3ff_11eb_8b11_0242ac1c0002level0_row5\" class=\"row_heading level0 row5\" >5</th>\n",
              "                        <td id=\"T_596d5cba_f3ff_11eb_8b11_0242ac1c0002row5_col0\" class=\"data row5 col0\" >Brain Age: Train Your Brain in Minutes a Day</td>\n",
              "                        <td id=\"T_596d5cba_f3ff_11eb_8b11_0242ac1c0002row5_col1\" class=\"data row5 col1\" >DS</td>\n",
              "                        <td id=\"T_596d5cba_f3ff_11eb_8b11_0242ac1c0002row5_col2\" class=\"data row5 col2\" >2005</td>\n",
              "                        <td id=\"T_596d5cba_f3ff_11eb_8b11_0242ac1c0002row5_col3\" class=\"data row5 col3\" >Misc</td>\n",
              "                        <td id=\"T_596d5cba_f3ff_11eb_8b11_0242ac1c0002row5_col4\" class=\"data row5 col4\" >Nintendo</td>\n",
              "                        <td id=\"T_596d5cba_f3ff_11eb_8b11_0242ac1c0002row5_col5\" class=\"data row5 col5\" >4.750000</td>\n",
              "                        <td id=\"T_596d5cba_f3ff_11eb_8b11_0242ac1c0002row5_col6\" class=\"data row5 col6\" >9.260000</td>\n",
              "                        <td id=\"T_596d5cba_f3ff_11eb_8b11_0242ac1c0002row5_col7\" class=\"data row5 col7\" >4.160000</td>\n",
              "                        <td id=\"T_596d5cba_f3ff_11eb_8b11_0242ac1c0002row5_col8\" class=\"data row5 col8\" >2.050000</td>\n",
              "                        <td id=\"T_596d5cba_f3ff_11eb_8b11_0242ac1c0002row5_col9\" class=\"data row5 col9\" >20.220000</td>\n",
              "            </tr>\n",
              "            <tr>\n",
              "                        <th id=\"T_596d5cba_f3ff_11eb_8b11_0242ac1c0002level0_row6\" class=\"row_heading level0 row6\" >6</th>\n",
              "                        <td id=\"T_596d5cba_f3ff_11eb_8b11_0242ac1c0002row6_col0\" class=\"data row6 col0\" >New Super Mario Bros.</td>\n",
              "                        <td id=\"T_596d5cba_f3ff_11eb_8b11_0242ac1c0002row6_col1\" class=\"data row6 col1\" >DS</td>\n",
              "                        <td id=\"T_596d5cba_f3ff_11eb_8b11_0242ac1c0002row6_col2\" class=\"data row6 col2\" >2006</td>\n",
              "                        <td id=\"T_596d5cba_f3ff_11eb_8b11_0242ac1c0002row6_col3\" class=\"data row6 col3\" >Platform</td>\n",
              "                        <td id=\"T_596d5cba_f3ff_11eb_8b11_0242ac1c0002row6_col4\" class=\"data row6 col4\" >Nintendo</td>\n",
              "                        <td id=\"T_596d5cba_f3ff_11eb_8b11_0242ac1c0002row6_col5\" class=\"data row6 col5\" >11.380000</td>\n",
              "                        <td id=\"T_596d5cba_f3ff_11eb_8b11_0242ac1c0002row6_col6\" class=\"data row6 col6\" >9.230000</td>\n",
              "                        <td id=\"T_596d5cba_f3ff_11eb_8b11_0242ac1c0002row6_col7\" class=\"data row6 col7\" >6.500000</td>\n",
              "                        <td id=\"T_596d5cba_f3ff_11eb_8b11_0242ac1c0002row6_col8\" class=\"data row6 col8\" >2.900000</td>\n",
              "                        <td id=\"T_596d5cba_f3ff_11eb_8b11_0242ac1c0002row6_col9\" class=\"data row6 col9\" >30.010000</td>\n",
              "            </tr>\n",
              "            <tr>\n",
              "                        <th id=\"T_596d5cba_f3ff_11eb_8b11_0242ac1c0002level0_row7\" class=\"row_heading level0 row7\" >7</th>\n",
              "                        <td id=\"T_596d5cba_f3ff_11eb_8b11_0242ac1c0002row7_col0\" class=\"data row7 col0\" >Wii Play</td>\n",
              "                        <td id=\"T_596d5cba_f3ff_11eb_8b11_0242ac1c0002row7_col1\" class=\"data row7 col1\" >Wii</td>\n",
              "                        <td id=\"T_596d5cba_f3ff_11eb_8b11_0242ac1c0002row7_col2\" class=\"data row7 col2\" >2006</td>\n",
              "                        <td id=\"T_596d5cba_f3ff_11eb_8b11_0242ac1c0002row7_col3\" class=\"data row7 col3\" >Misc</td>\n",
              "                        <td id=\"T_596d5cba_f3ff_11eb_8b11_0242ac1c0002row7_col4\" class=\"data row7 col4\" >Nintendo</td>\n",
              "                        <td id=\"T_596d5cba_f3ff_11eb_8b11_0242ac1c0002row7_col5\" class=\"data row7 col5\" >14.030000</td>\n",
              "                        <td id=\"T_596d5cba_f3ff_11eb_8b11_0242ac1c0002row7_col6\" class=\"data row7 col6\" >9.200000</td>\n",
              "                        <td id=\"T_596d5cba_f3ff_11eb_8b11_0242ac1c0002row7_col7\" class=\"data row7 col7\" >2.930000</td>\n",
              "                        <td id=\"T_596d5cba_f3ff_11eb_8b11_0242ac1c0002row7_col8\" class=\"data row7 col8\" >2.850000</td>\n",
              "                        <td id=\"T_596d5cba_f3ff_11eb_8b11_0242ac1c0002row7_col9\" class=\"data row7 col9\" >29.010000</td>\n",
              "            </tr>\n",
              "            <tr>\n",
              "                        <th id=\"T_596d5cba_f3ff_11eb_8b11_0242ac1c0002level0_row8\" class=\"row_heading level0 row8\" >8</th>\n",
              "                        <td id=\"T_596d5cba_f3ff_11eb_8b11_0242ac1c0002row8_col0\" class=\"data row8 col0\" >Pokemon Red/Pokemon Blue</td>\n",
              "                        <td id=\"T_596d5cba_f3ff_11eb_8b11_0242ac1c0002row8_col1\" class=\"data row8 col1\" >GB</td>\n",
              "                        <td id=\"T_596d5cba_f3ff_11eb_8b11_0242ac1c0002row8_col2\" class=\"data row8 col2\" >1996</td>\n",
              "                        <td id=\"T_596d5cba_f3ff_11eb_8b11_0242ac1c0002row8_col3\" class=\"data row8 col3\" >Role-Playing</td>\n",
              "                        <td id=\"T_596d5cba_f3ff_11eb_8b11_0242ac1c0002row8_col4\" class=\"data row8 col4\" >Nintendo</td>\n",
              "                        <td id=\"T_596d5cba_f3ff_11eb_8b11_0242ac1c0002row8_col5\" class=\"data row8 col5\" >11.270000</td>\n",
              "                        <td id=\"T_596d5cba_f3ff_11eb_8b11_0242ac1c0002row8_col6\" class=\"data row8 col6\" >8.890000</td>\n",
              "                        <td id=\"T_596d5cba_f3ff_11eb_8b11_0242ac1c0002row8_col7\" class=\"data row8 col7\" >10.220000</td>\n",
              "                        <td id=\"T_596d5cba_f3ff_11eb_8b11_0242ac1c0002row8_col8\" class=\"data row8 col8\" >1.000000</td>\n",
              "                        <td id=\"T_596d5cba_f3ff_11eb_8b11_0242ac1c0002row8_col9\" class=\"data row8 col9\" >31.380000</td>\n",
              "            </tr>\n",
              "            <tr>\n",
              "                        <th id=\"T_596d5cba_f3ff_11eb_8b11_0242ac1c0002level0_row9\" class=\"row_heading level0 row9\" >9</th>\n",
              "                        <td id=\"T_596d5cba_f3ff_11eb_8b11_0242ac1c0002row9_col0\" class=\"data row9 col0\" >Wii Fit Plus</td>\n",
              "                        <td id=\"T_596d5cba_f3ff_11eb_8b11_0242ac1c0002row9_col1\" class=\"data row9 col1\" >Wii</td>\n",
              "                        <td id=\"T_596d5cba_f3ff_11eb_8b11_0242ac1c0002row9_col2\" class=\"data row9 col2\" >2009</td>\n",
              "                        <td id=\"T_596d5cba_f3ff_11eb_8b11_0242ac1c0002row9_col3\" class=\"data row9 col3\" >Sports</td>\n",
              "                        <td id=\"T_596d5cba_f3ff_11eb_8b11_0242ac1c0002row9_col4\" class=\"data row9 col4\" >Nintendo</td>\n",
              "                        <td id=\"T_596d5cba_f3ff_11eb_8b11_0242ac1c0002row9_col5\" class=\"data row9 col5\" >9.090000</td>\n",
              "                        <td id=\"T_596d5cba_f3ff_11eb_8b11_0242ac1c0002row9_col6\" class=\"data row9 col6\" >8.590000</td>\n",
              "                        <td id=\"T_596d5cba_f3ff_11eb_8b11_0242ac1c0002row9_col7\" class=\"data row9 col7\" >2.530000</td>\n",
              "                        <td id=\"T_596d5cba_f3ff_11eb_8b11_0242ac1c0002row9_col8\" class=\"data row9 col8\" >1.790000</td>\n",
              "                        <td id=\"T_596d5cba_f3ff_11eb_8b11_0242ac1c0002row9_col9\" class=\"data row9 col9\" >22.000000</td>\n",
              "            </tr>\n",
              "    </tbody></table>"
            ],
            "text/plain": [
              "<pandas.io.formats.style.Styler at 0x7f9fb84f2ed0>"
            ]
          },
          "metadata": {
            "tags": []
          },
          "execution_count": 96
        }
      ]
    },
    {
      "cell_type": "code",
      "metadata": {
        "colab": {
          "base_uri": "https://localhost:8080/",
          "height": 250
        },
        "id": "6HhVEyPUmtqb",
        "outputId": "343782d9-1e39-4432-a367-b8545b0bf9a3"
      },
      "source": [
        "df_j=df.sort_values(by=['JP_Sales'],ascending = False).head(10).reset_index(drop=True)\n",
        "\n",
        "df_j.style.background_gradient(cmap=cm,subset=['JP_Sales'])"
      ],
      "execution_count": 93,
      "outputs": [
        {
          "output_type": "execute_result",
          "data": {
            "text/html": [
              "<style  type=\"text/css\" >\n",
              "#T_1983268e_f3ff_11eb_8b11_0242ac1c0002row0_col7{\n",
              "            background-color:  #008000;\n",
              "            color:  #f1f1f1;\n",
              "        }#T_1983268e_f3ff_11eb_8b11_0242ac1c0002row1_col7{\n",
              "            background-color:  #84c184;\n",
              "            color:  #000000;\n",
              "        }#T_1983268e_f3ff_11eb_8b11_0242ac1c0002row2_col7{\n",
              "            background-color:  #96c996;\n",
              "            color:  #000000;\n",
              "        }#T_1983268e_f3ff_11eb_8b11_0242ac1c0002row3_col7{\n",
              "            background-color:  #a4d0a4;\n",
              "            color:  #000000;\n",
              "        }#T_1983268e_f3ff_11eb_8b11_0242ac1c0002row4_col7{\n",
              "            background-color:  #b8dab8;\n",
              "            color:  #000000;\n",
              "        }#T_1983268e_f3ff_11eb_8b11_0242ac1c0002row5_col7{\n",
              "            background-color:  #c9e2c8;\n",
              "            color:  #000000;\n",
              "        }#T_1983268e_f3ff_11eb_8b11_0242ac1c0002row6_col7{\n",
              "            background-color:  #d4e8d4;\n",
              "            color:  #000000;\n",
              "        }#T_1983268e_f3ff_11eb_8b11_0242ac1c0002row7_col7{\n",
              "            background-color:  #d6e9d6;\n",
              "            color:  #000000;\n",
              "        }#T_1983268e_f3ff_11eb_8b11_0242ac1c0002row8_col7{\n",
              "            background-color:  #d7e9d7;\n",
              "            color:  #000000;\n",
              "        }#T_1983268e_f3ff_11eb_8b11_0242ac1c0002row9_col7{\n",
              "            background-color:  #ebf3eb;\n",
              "            color:  #000000;\n",
              "        }</style><table id=\"T_1983268e_f3ff_11eb_8b11_0242ac1c0002\" ><thead>    <tr>        <th class=\"blank level0\" ></th>        <th class=\"col_heading level0 col0\" >Name</th>        <th class=\"col_heading level0 col1\" >Platform</th>        <th class=\"col_heading level0 col2\" >Year</th>        <th class=\"col_heading level0 col3\" >Genre</th>        <th class=\"col_heading level0 col4\" >Publisher</th>        <th class=\"col_heading level0 col5\" >NA_Sales</th>        <th class=\"col_heading level0 col6\" >EU_Sales</th>        <th class=\"col_heading level0 col7\" >JP_Sales</th>        <th class=\"col_heading level0 col8\" >Other_Sales</th>        <th class=\"col_heading level0 col9\" >Total_sales</th>    </tr></thead><tbody>\n",
              "                <tr>\n",
              "                        <th id=\"T_1983268e_f3ff_11eb_8b11_0242ac1c0002level0_row0\" class=\"row_heading level0 row0\" >0</th>\n",
              "                        <td id=\"T_1983268e_f3ff_11eb_8b11_0242ac1c0002row0_col0\" class=\"data row0 col0\" >Pokemon Red/Pokemon Blue</td>\n",
              "                        <td id=\"T_1983268e_f3ff_11eb_8b11_0242ac1c0002row0_col1\" class=\"data row0 col1\" >GB</td>\n",
              "                        <td id=\"T_1983268e_f3ff_11eb_8b11_0242ac1c0002row0_col2\" class=\"data row0 col2\" >1996</td>\n",
              "                        <td id=\"T_1983268e_f3ff_11eb_8b11_0242ac1c0002row0_col3\" class=\"data row0 col3\" >Role-Playing</td>\n",
              "                        <td id=\"T_1983268e_f3ff_11eb_8b11_0242ac1c0002row0_col4\" class=\"data row0 col4\" >Nintendo</td>\n",
              "                        <td id=\"T_1983268e_f3ff_11eb_8b11_0242ac1c0002row0_col5\" class=\"data row0 col5\" >11.270000</td>\n",
              "                        <td id=\"T_1983268e_f3ff_11eb_8b11_0242ac1c0002row0_col6\" class=\"data row0 col6\" >8.890000</td>\n",
              "                        <td id=\"T_1983268e_f3ff_11eb_8b11_0242ac1c0002row0_col7\" class=\"data row0 col7\" >10.220000</td>\n",
              "                        <td id=\"T_1983268e_f3ff_11eb_8b11_0242ac1c0002row0_col8\" class=\"data row0 col8\" >1.000000</td>\n",
              "                        <td id=\"T_1983268e_f3ff_11eb_8b11_0242ac1c0002row0_col9\" class=\"data row0 col9\" >31.380000</td>\n",
              "            </tr>\n",
              "            <tr>\n",
              "                        <th id=\"T_1983268e_f3ff_11eb_8b11_0242ac1c0002level0_row1\" class=\"row_heading level0 row1\" >1</th>\n",
              "                        <td id=\"T_1983268e_f3ff_11eb_8b11_0242ac1c0002row1_col0\" class=\"data row1 col0\" >Pokemon Gold/Pokemon Silver</td>\n",
              "                        <td id=\"T_1983268e_f3ff_11eb_8b11_0242ac1c0002row1_col1\" class=\"data row1 col1\" >GB</td>\n",
              "                        <td id=\"T_1983268e_f3ff_11eb_8b11_0242ac1c0002row1_col2\" class=\"data row1 col2\" >1999</td>\n",
              "                        <td id=\"T_1983268e_f3ff_11eb_8b11_0242ac1c0002row1_col3\" class=\"data row1 col3\" >Role-Playing</td>\n",
              "                        <td id=\"T_1983268e_f3ff_11eb_8b11_0242ac1c0002row1_col4\" class=\"data row1 col4\" >Nintendo</td>\n",
              "                        <td id=\"T_1983268e_f3ff_11eb_8b11_0242ac1c0002row1_col5\" class=\"data row1 col5\" >9.000000</td>\n",
              "                        <td id=\"T_1983268e_f3ff_11eb_8b11_0242ac1c0002row1_col6\" class=\"data row1 col6\" >6.180000</td>\n",
              "                        <td id=\"T_1983268e_f3ff_11eb_8b11_0242ac1c0002row1_col7\" class=\"data row1 col7\" >7.200000</td>\n",
              "                        <td id=\"T_1983268e_f3ff_11eb_8b11_0242ac1c0002row1_col8\" class=\"data row1 col8\" >0.710000</td>\n",
              "                        <td id=\"T_1983268e_f3ff_11eb_8b11_0242ac1c0002row1_col9\" class=\"data row1 col9\" >23.090000</td>\n",
              "            </tr>\n",
              "            <tr>\n",
              "                        <th id=\"T_1983268e_f3ff_11eb_8b11_0242ac1c0002level0_row2\" class=\"row_heading level0 row2\" >2</th>\n",
              "                        <td id=\"T_1983268e_f3ff_11eb_8b11_0242ac1c0002row2_col0\" class=\"data row2 col0\" >Super Mario Bros.</td>\n",
              "                        <td id=\"T_1983268e_f3ff_11eb_8b11_0242ac1c0002row2_col1\" class=\"data row2 col1\" >NES</td>\n",
              "                        <td id=\"T_1983268e_f3ff_11eb_8b11_0242ac1c0002row2_col2\" class=\"data row2 col2\" >1985</td>\n",
              "                        <td id=\"T_1983268e_f3ff_11eb_8b11_0242ac1c0002row2_col3\" class=\"data row2 col3\" >Platform</td>\n",
              "                        <td id=\"T_1983268e_f3ff_11eb_8b11_0242ac1c0002row2_col4\" class=\"data row2 col4\" >Nintendo</td>\n",
              "                        <td id=\"T_1983268e_f3ff_11eb_8b11_0242ac1c0002row2_col5\" class=\"data row2 col5\" >29.080000</td>\n",
              "                        <td id=\"T_1983268e_f3ff_11eb_8b11_0242ac1c0002row2_col6\" class=\"data row2 col6\" >3.580000</td>\n",
              "                        <td id=\"T_1983268e_f3ff_11eb_8b11_0242ac1c0002row2_col7\" class=\"data row2 col7\" >6.810000</td>\n",
              "                        <td id=\"T_1983268e_f3ff_11eb_8b11_0242ac1c0002row2_col8\" class=\"data row2 col8\" >0.770000</td>\n",
              "                        <td id=\"T_1983268e_f3ff_11eb_8b11_0242ac1c0002row2_col9\" class=\"data row2 col9\" >40.240000</td>\n",
              "            </tr>\n",
              "            <tr>\n",
              "                        <th id=\"T_1983268e_f3ff_11eb_8b11_0242ac1c0002level0_row3\" class=\"row_heading level0 row3\" >3</th>\n",
              "                        <td id=\"T_1983268e_f3ff_11eb_8b11_0242ac1c0002row3_col0\" class=\"data row3 col0\" >New Super Mario Bros.</td>\n",
              "                        <td id=\"T_1983268e_f3ff_11eb_8b11_0242ac1c0002row3_col1\" class=\"data row3 col1\" >DS</td>\n",
              "                        <td id=\"T_1983268e_f3ff_11eb_8b11_0242ac1c0002row3_col2\" class=\"data row3 col2\" >2006</td>\n",
              "                        <td id=\"T_1983268e_f3ff_11eb_8b11_0242ac1c0002row3_col3\" class=\"data row3 col3\" >Platform</td>\n",
              "                        <td id=\"T_1983268e_f3ff_11eb_8b11_0242ac1c0002row3_col4\" class=\"data row3 col4\" >Nintendo</td>\n",
              "                        <td id=\"T_1983268e_f3ff_11eb_8b11_0242ac1c0002row3_col5\" class=\"data row3 col5\" >11.380000</td>\n",
              "                        <td id=\"T_1983268e_f3ff_11eb_8b11_0242ac1c0002row3_col6\" class=\"data row3 col6\" >9.230000</td>\n",
              "                        <td id=\"T_1983268e_f3ff_11eb_8b11_0242ac1c0002row3_col7\" class=\"data row3 col7\" >6.500000</td>\n",
              "                        <td id=\"T_1983268e_f3ff_11eb_8b11_0242ac1c0002row3_col8\" class=\"data row3 col8\" >2.900000</td>\n",
              "                        <td id=\"T_1983268e_f3ff_11eb_8b11_0242ac1c0002row3_col9\" class=\"data row3 col9\" >30.010000</td>\n",
              "            </tr>\n",
              "            <tr>\n",
              "                        <th id=\"T_1983268e_f3ff_11eb_8b11_0242ac1c0002level0_row4\" class=\"row_heading level0 row4\" >4</th>\n",
              "                        <td id=\"T_1983268e_f3ff_11eb_8b11_0242ac1c0002row4_col0\" class=\"data row4 col0\" >Pokemon Diamond/Pokemon Pearl</td>\n",
              "                        <td id=\"T_1983268e_f3ff_11eb_8b11_0242ac1c0002row4_col1\" class=\"data row4 col1\" >DS</td>\n",
              "                        <td id=\"T_1983268e_f3ff_11eb_8b11_0242ac1c0002row4_col2\" class=\"data row4 col2\" >2006</td>\n",
              "                        <td id=\"T_1983268e_f3ff_11eb_8b11_0242ac1c0002row4_col3\" class=\"data row4 col3\" >Role-Playing</td>\n",
              "                        <td id=\"T_1983268e_f3ff_11eb_8b11_0242ac1c0002row4_col4\" class=\"data row4 col4\" >Nintendo</td>\n",
              "                        <td id=\"T_1983268e_f3ff_11eb_8b11_0242ac1c0002row4_col5\" class=\"data row4 col5\" >6.420000</td>\n",
              "                        <td id=\"T_1983268e_f3ff_11eb_8b11_0242ac1c0002row4_col6\" class=\"data row4 col6\" >4.520000</td>\n",
              "                        <td id=\"T_1983268e_f3ff_11eb_8b11_0242ac1c0002row4_col7\" class=\"data row4 col7\" >6.040000</td>\n",
              "                        <td id=\"T_1983268e_f3ff_11eb_8b11_0242ac1c0002row4_col8\" class=\"data row4 col8\" >1.370000</td>\n",
              "                        <td id=\"T_1983268e_f3ff_11eb_8b11_0242ac1c0002row4_col9\" class=\"data row4 col9\" >18.350000</td>\n",
              "            </tr>\n",
              "            <tr>\n",
              "                        <th id=\"T_1983268e_f3ff_11eb_8b11_0242ac1c0002level0_row5\" class=\"row_heading level0 row5\" >5</th>\n",
              "                        <td id=\"T_1983268e_f3ff_11eb_8b11_0242ac1c0002row5_col0\" class=\"data row5 col0\" >Pokemon Black/Pokemon White</td>\n",
              "                        <td id=\"T_1983268e_f3ff_11eb_8b11_0242ac1c0002row5_col1\" class=\"data row5 col1\" >DS</td>\n",
              "                        <td id=\"T_1983268e_f3ff_11eb_8b11_0242ac1c0002row5_col2\" class=\"data row5 col2\" >2010</td>\n",
              "                        <td id=\"T_1983268e_f3ff_11eb_8b11_0242ac1c0002row5_col3\" class=\"data row5 col3\" >Role-Playing</td>\n",
              "                        <td id=\"T_1983268e_f3ff_11eb_8b11_0242ac1c0002row5_col4\" class=\"data row5 col4\" >Nintendo</td>\n",
              "                        <td id=\"T_1983268e_f3ff_11eb_8b11_0242ac1c0002row5_col5\" class=\"data row5 col5\" >5.570000</td>\n",
              "                        <td id=\"T_1983268e_f3ff_11eb_8b11_0242ac1c0002row5_col6\" class=\"data row5 col6\" >3.280000</td>\n",
              "                        <td id=\"T_1983268e_f3ff_11eb_8b11_0242ac1c0002row5_col7\" class=\"data row5 col7\" >5.650000</td>\n",
              "                        <td id=\"T_1983268e_f3ff_11eb_8b11_0242ac1c0002row5_col8\" class=\"data row5 col8\" >0.820000</td>\n",
              "                        <td id=\"T_1983268e_f3ff_11eb_8b11_0242ac1c0002row5_col9\" class=\"data row5 col9\" >15.320000</td>\n",
              "            </tr>\n",
              "            <tr>\n",
              "                        <th id=\"T_1983268e_f3ff_11eb_8b11_0242ac1c0002level0_row6\" class=\"row_heading level0 row6\" >6</th>\n",
              "                        <td id=\"T_1983268e_f3ff_11eb_8b11_0242ac1c0002row6_col0\" class=\"data row6 col0\" >Pokemon Ruby/Pokemon Sapphire</td>\n",
              "                        <td id=\"T_1983268e_f3ff_11eb_8b11_0242ac1c0002row6_col1\" class=\"data row6 col1\" >GBA</td>\n",
              "                        <td id=\"T_1983268e_f3ff_11eb_8b11_0242ac1c0002row6_col2\" class=\"data row6 col2\" >2002</td>\n",
              "                        <td id=\"T_1983268e_f3ff_11eb_8b11_0242ac1c0002row6_col3\" class=\"data row6 col3\" >Role-Playing</td>\n",
              "                        <td id=\"T_1983268e_f3ff_11eb_8b11_0242ac1c0002row6_col4\" class=\"data row6 col4\" >Nintendo</td>\n",
              "                        <td id=\"T_1983268e_f3ff_11eb_8b11_0242ac1c0002row6_col5\" class=\"data row6 col5\" >6.060000</td>\n",
              "                        <td id=\"T_1983268e_f3ff_11eb_8b11_0242ac1c0002row6_col6\" class=\"data row6 col6\" >3.900000</td>\n",
              "                        <td id=\"T_1983268e_f3ff_11eb_8b11_0242ac1c0002row6_col7\" class=\"data row6 col7\" >5.380000</td>\n",
              "                        <td id=\"T_1983268e_f3ff_11eb_8b11_0242ac1c0002row6_col8\" class=\"data row6 col8\" >0.500000</td>\n",
              "                        <td id=\"T_1983268e_f3ff_11eb_8b11_0242ac1c0002row6_col9\" class=\"data row6 col9\" >15.840000</td>\n",
              "            </tr>\n",
              "            <tr>\n",
              "                        <th id=\"T_1983268e_f3ff_11eb_8b11_0242ac1c0002level0_row7\" class=\"row_heading level0 row7\" >7</th>\n",
              "                        <td id=\"T_1983268e_f3ff_11eb_8b11_0242ac1c0002row7_col0\" class=\"data row7 col0\" >Animal Crossing: Wild World</td>\n",
              "                        <td id=\"T_1983268e_f3ff_11eb_8b11_0242ac1c0002row7_col1\" class=\"data row7 col1\" >DS</td>\n",
              "                        <td id=\"T_1983268e_f3ff_11eb_8b11_0242ac1c0002row7_col2\" class=\"data row7 col2\" >2005</td>\n",
              "                        <td id=\"T_1983268e_f3ff_11eb_8b11_0242ac1c0002row7_col3\" class=\"data row7 col3\" >Simulation</td>\n",
              "                        <td id=\"T_1983268e_f3ff_11eb_8b11_0242ac1c0002row7_col4\" class=\"data row7 col4\" >Nintendo</td>\n",
              "                        <td id=\"T_1983268e_f3ff_11eb_8b11_0242ac1c0002row7_col5\" class=\"data row7 col5\" >2.550000</td>\n",
              "                        <td id=\"T_1983268e_f3ff_11eb_8b11_0242ac1c0002row7_col6\" class=\"data row7 col6\" >3.520000</td>\n",
              "                        <td id=\"T_1983268e_f3ff_11eb_8b11_0242ac1c0002row7_col7\" class=\"data row7 col7\" >5.330000</td>\n",
              "                        <td id=\"T_1983268e_f3ff_11eb_8b11_0242ac1c0002row7_col8\" class=\"data row7 col8\" >0.880000</td>\n",
              "                        <td id=\"T_1983268e_f3ff_11eb_8b11_0242ac1c0002row7_col9\" class=\"data row7 col9\" >12.280000</td>\n",
              "            </tr>\n",
              "            <tr>\n",
              "                        <th id=\"T_1983268e_f3ff_11eb_8b11_0242ac1c0002level0_row8\" class=\"row_heading level0 row8\" >8</th>\n",
              "                        <td id=\"T_1983268e_f3ff_11eb_8b11_0242ac1c0002row8_col0\" class=\"data row8 col0\" >Brain Age 2: More Training in Minutes a Day</td>\n",
              "                        <td id=\"T_1983268e_f3ff_11eb_8b11_0242ac1c0002row8_col1\" class=\"data row8 col1\" >DS</td>\n",
              "                        <td id=\"T_1983268e_f3ff_11eb_8b11_0242ac1c0002row8_col2\" class=\"data row8 col2\" >2005</td>\n",
              "                        <td id=\"T_1983268e_f3ff_11eb_8b11_0242ac1c0002row8_col3\" class=\"data row8 col3\" >Puzzle</td>\n",
              "                        <td id=\"T_1983268e_f3ff_11eb_8b11_0242ac1c0002row8_col4\" class=\"data row8 col4\" >Nintendo</td>\n",
              "                        <td id=\"T_1983268e_f3ff_11eb_8b11_0242ac1c0002row8_col5\" class=\"data row8 col5\" >3.440000</td>\n",
              "                        <td id=\"T_1983268e_f3ff_11eb_8b11_0242ac1c0002row8_col6\" class=\"data row8 col6\" >5.360000</td>\n",
              "                        <td id=\"T_1983268e_f3ff_11eb_8b11_0242ac1c0002row8_col7\" class=\"data row8 col7\" >5.320000</td>\n",
              "                        <td id=\"T_1983268e_f3ff_11eb_8b11_0242ac1c0002row8_col8\" class=\"data row8 col8\" >1.180000</td>\n",
              "                        <td id=\"T_1983268e_f3ff_11eb_8b11_0242ac1c0002row8_col9\" class=\"data row8 col9\" >15.300000</td>\n",
              "            </tr>\n",
              "            <tr>\n",
              "                        <th id=\"T_1983268e_f3ff_11eb_8b11_0242ac1c0002level0_row9\" class=\"row_heading level0 row9\" >9</th>\n",
              "                        <td id=\"T_1983268e_f3ff_11eb_8b11_0242ac1c0002row9_col0\" class=\"data row9 col0\" >Monster Hunter Freedom 3</td>\n",
              "                        <td id=\"T_1983268e_f3ff_11eb_8b11_0242ac1c0002row9_col1\" class=\"data row9 col1\" >PSP</td>\n",
              "                        <td id=\"T_1983268e_f3ff_11eb_8b11_0242ac1c0002row9_col2\" class=\"data row9 col2\" >2010</td>\n",
              "                        <td id=\"T_1983268e_f3ff_11eb_8b11_0242ac1c0002row9_col3\" class=\"data row9 col3\" >Role-Playing</td>\n",
              "                        <td id=\"T_1983268e_f3ff_11eb_8b11_0242ac1c0002row9_col4\" class=\"data row9 col4\" >Capcom</td>\n",
              "                        <td id=\"T_1983268e_f3ff_11eb_8b11_0242ac1c0002row9_col5\" class=\"data row9 col5\" >0.000000</td>\n",
              "                        <td id=\"T_1983268e_f3ff_11eb_8b11_0242ac1c0002row9_col6\" class=\"data row9 col6\" >0.000000</td>\n",
              "                        <td id=\"T_1983268e_f3ff_11eb_8b11_0242ac1c0002row9_col7\" class=\"data row9 col7\" >4.870000</td>\n",
              "                        <td id=\"T_1983268e_f3ff_11eb_8b11_0242ac1c0002row9_col8\" class=\"data row9 col8\" >0.000000</td>\n",
              "                        <td id=\"T_1983268e_f3ff_11eb_8b11_0242ac1c0002row9_col9\" class=\"data row9 col9\" >4.870000</td>\n",
              "            </tr>\n",
              "    </tbody></table>"
            ],
            "text/plain": [
              "<pandas.io.formats.style.Styler at 0x7f9fb8507a90>"
            ]
          },
          "metadata": {
            "tags": []
          },
          "execution_count": 93
        }
      ]
    },
    {
      "cell_type": "markdown",
      "metadata": {
        "id": "jYsjDF9lGXFf"
      },
      "source": [
        "#결론"
      ]
    },
    {
      "cell_type": "markdown",
      "metadata": {
        "id": "AGKQr1wbGbCT"
      },
      "source": [
        " **PS3(플레이스테이션)을 기반으로 한 액션 장르의 게임을 출시하는 것이 적절하다**\n",
        "\n"
      ]
    }
  ]
}